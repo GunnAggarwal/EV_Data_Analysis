{
  "nbformat": 4,
  "nbformat_minor": 0,
  "metadata": {
    "colab": {
      "provenance": [],
      "authorship_tag": "ABX9TyMT31AbkdP4r9NglEzYLhd0",
      "include_colab_link": true
    },
    "kernelspec": {
      "name": "python3",
      "display_name": "Python 3"
    },
    "language_info": {
      "name": "python"
    }
  },
  "cells": [
    {
      "cell_type": "markdown",
      "metadata": {
        "id": "view-in-github",
        "colab_type": "text"
      },
      "source": [
        "<a href=\"https://colab.research.google.com/github/GunnAggarwal/EV_Data_Analysis/blob/main/Final_Model.ipynb\" target=\"_parent\"><img src=\"https://colab.research.google.com/assets/colab-badge.svg\" alt=\"Open In Colab\"/></a>"
      ]
    },
    {
      "cell_type": "markdown",
      "source": [
        "Loading The Dataset And Importing Libraries\n",
        "\n",
        "---\n",
        "\n"
      ],
      "metadata": {
        "id": "-ujWta_rrKST"
      }
    },
    {
      "cell_type": "code",
      "execution_count": 142,
      "metadata": {
        "colab": {
          "base_uri": "https://localhost:8080/",
          "height": 91
        },
        "id": "HnGvTSfKXJzs",
        "outputId": "f8a43d54-90e1-4636-f6d1-6549c553167b",
        "collapsed": true
      },
      "outputs": [
        {
          "output_type": "display_data",
          "data": {
            "text/plain": [
              "<IPython.core.display.HTML object>"
            ],
            "text/html": [
              "\n",
              "     <input type=\"file\" id=\"files-676d1c45-160b-428d-afba-f342f67be31e\" name=\"files[]\" multiple disabled\n",
              "        style=\"border:none\" />\n",
              "     <output id=\"result-676d1c45-160b-428d-afba-f342f67be31e\">\n",
              "      Upload widget is only available when the cell has been executed in the\n",
              "      current browser session. Please rerun this cell to enable.\n",
              "      </output>\n",
              "      <script>// Copyright 2017 Google LLC\n",
              "//\n",
              "// Licensed under the Apache License, Version 2.0 (the \"License\");\n",
              "// you may not use this file except in compliance with the License.\n",
              "// You may obtain a copy of the License at\n",
              "//\n",
              "//      http://www.apache.org/licenses/LICENSE-2.0\n",
              "//\n",
              "// Unless required by applicable law or agreed to in writing, software\n",
              "// distributed under the License is distributed on an \"AS IS\" BASIS,\n",
              "// WITHOUT WARRANTIES OR CONDITIONS OF ANY KIND, either express or implied.\n",
              "// See the License for the specific language governing permissions and\n",
              "// limitations under the License.\n",
              "\n",
              "/**\n",
              " * @fileoverview Helpers for google.colab Python module.\n",
              " */\n",
              "(function(scope) {\n",
              "function span(text, styleAttributes = {}) {\n",
              "  const element = document.createElement('span');\n",
              "  element.textContent = text;\n",
              "  for (const key of Object.keys(styleAttributes)) {\n",
              "    element.style[key] = styleAttributes[key];\n",
              "  }\n",
              "  return element;\n",
              "}\n",
              "\n",
              "// Max number of bytes which will be uploaded at a time.\n",
              "const MAX_PAYLOAD_SIZE = 100 * 1024;\n",
              "\n",
              "function _uploadFiles(inputId, outputId) {\n",
              "  const steps = uploadFilesStep(inputId, outputId);\n",
              "  const outputElement = document.getElementById(outputId);\n",
              "  // Cache steps on the outputElement to make it available for the next call\n",
              "  // to uploadFilesContinue from Python.\n",
              "  outputElement.steps = steps;\n",
              "\n",
              "  return _uploadFilesContinue(outputId);\n",
              "}\n",
              "\n",
              "// This is roughly an async generator (not supported in the browser yet),\n",
              "// where there are multiple asynchronous steps and the Python side is going\n",
              "// to poll for completion of each step.\n",
              "// This uses a Promise to block the python side on completion of each step,\n",
              "// then passes the result of the previous step as the input to the next step.\n",
              "function _uploadFilesContinue(outputId) {\n",
              "  const outputElement = document.getElementById(outputId);\n",
              "  const steps = outputElement.steps;\n",
              "\n",
              "  const next = steps.next(outputElement.lastPromiseValue);\n",
              "  return Promise.resolve(next.value.promise).then((value) => {\n",
              "    // Cache the last promise value to make it available to the next\n",
              "    // step of the generator.\n",
              "    outputElement.lastPromiseValue = value;\n",
              "    return next.value.response;\n",
              "  });\n",
              "}\n",
              "\n",
              "/**\n",
              " * Generator function which is called between each async step of the upload\n",
              " * process.\n",
              " * @param {string} inputId Element ID of the input file picker element.\n",
              " * @param {string} outputId Element ID of the output display.\n",
              " * @return {!Iterable<!Object>} Iterable of next steps.\n",
              " */\n",
              "function* uploadFilesStep(inputId, outputId) {\n",
              "  const inputElement = document.getElementById(inputId);\n",
              "  inputElement.disabled = false;\n",
              "\n",
              "  const outputElement = document.getElementById(outputId);\n",
              "  outputElement.innerHTML = '';\n",
              "\n",
              "  const pickedPromise = new Promise((resolve) => {\n",
              "    inputElement.addEventListener('change', (e) => {\n",
              "      resolve(e.target.files);\n",
              "    });\n",
              "  });\n",
              "\n",
              "  const cancel = document.createElement('button');\n",
              "  inputElement.parentElement.appendChild(cancel);\n",
              "  cancel.textContent = 'Cancel upload';\n",
              "  const cancelPromise = new Promise((resolve) => {\n",
              "    cancel.onclick = () => {\n",
              "      resolve(null);\n",
              "    };\n",
              "  });\n",
              "\n",
              "  // Wait for the user to pick the files.\n",
              "  const files = yield {\n",
              "    promise: Promise.race([pickedPromise, cancelPromise]),\n",
              "    response: {\n",
              "      action: 'starting',\n",
              "    }\n",
              "  };\n",
              "\n",
              "  cancel.remove();\n",
              "\n",
              "  // Disable the input element since further picks are not allowed.\n",
              "  inputElement.disabled = true;\n",
              "\n",
              "  if (!files) {\n",
              "    return {\n",
              "      response: {\n",
              "        action: 'complete',\n",
              "      }\n",
              "    };\n",
              "  }\n",
              "\n",
              "  for (const file of files) {\n",
              "    const li = document.createElement('li');\n",
              "    li.append(span(file.name, {fontWeight: 'bold'}));\n",
              "    li.append(span(\n",
              "        `(${file.type || 'n/a'}) - ${file.size} bytes, ` +\n",
              "        `last modified: ${\n",
              "            file.lastModifiedDate ? file.lastModifiedDate.toLocaleDateString() :\n",
              "                                    'n/a'} - `));\n",
              "    const percent = span('0% done');\n",
              "    li.appendChild(percent);\n",
              "\n",
              "    outputElement.appendChild(li);\n",
              "\n",
              "    const fileDataPromise = new Promise((resolve) => {\n",
              "      const reader = new FileReader();\n",
              "      reader.onload = (e) => {\n",
              "        resolve(e.target.result);\n",
              "      };\n",
              "      reader.readAsArrayBuffer(file);\n",
              "    });\n",
              "    // Wait for the data to be ready.\n",
              "    let fileData = yield {\n",
              "      promise: fileDataPromise,\n",
              "      response: {\n",
              "        action: 'continue',\n",
              "      }\n",
              "    };\n",
              "\n",
              "    // Use a chunked sending to avoid message size limits. See b/62115660.\n",
              "    let position = 0;\n",
              "    do {\n",
              "      const length = Math.min(fileData.byteLength - position, MAX_PAYLOAD_SIZE);\n",
              "      const chunk = new Uint8Array(fileData, position, length);\n",
              "      position += length;\n",
              "\n",
              "      const base64 = btoa(String.fromCharCode.apply(null, chunk));\n",
              "      yield {\n",
              "        response: {\n",
              "          action: 'append',\n",
              "          file: file.name,\n",
              "          data: base64,\n",
              "        },\n",
              "      };\n",
              "\n",
              "      let percentDone = fileData.byteLength === 0 ?\n",
              "          100 :\n",
              "          Math.round((position / fileData.byteLength) * 100);\n",
              "      percent.textContent = `${percentDone}% done`;\n",
              "\n",
              "    } while (position < fileData.byteLength);\n",
              "  }\n",
              "\n",
              "  // All done.\n",
              "  yield {\n",
              "    response: {\n",
              "      action: 'complete',\n",
              "    }\n",
              "  };\n",
              "}\n",
              "\n",
              "scope.google = scope.google || {};\n",
              "scope.google.colab = scope.google.colab || {};\n",
              "scope.google.colab._files = {\n",
              "  _uploadFiles,\n",
              "  _uploadFilesContinue,\n",
              "};\n",
              "})(self);\n",
              "</script> "
            ]
          },
          "metadata": {}
        },
        {
          "output_type": "stream",
          "name": "stdout",
          "text": [
            "Saving EV_DS.csv to EV_DS (6).csv\n",
            "Drive already mounted at /content/drive; to attempt to forcibly remount, call drive.mount(\"/content/drive\", force_remount=True).\n"
          ]
        }
      ],
      "source": [
        "# Importing the necessary libraries\n",
        "import numpy as np\n",
        "import pandas as pd\n",
        "import matplotlib.pyplot as plt\n",
        "import seaborn as sns\n",
        "\n",
        "# Set up Matplotlib for inline plots\n",
        "%matplotlib inline\n",
        "\n",
        "from google.colab import files\n",
        "uploaded = files.upload()\n",
        "\n",
        "from google.colab import drive\n",
        "drive.mount('/content/drive')"
      ]
    },
    {
      "cell_type": "code",
      "source": [
        "df=pd.read_csv('EV_DS.csv')"
      ],
      "metadata": {
        "id": "OvSttUSGXbYC"
      },
      "execution_count": 143,
      "outputs": []
    },
    {
      "cell_type": "markdown",
      "source": [
        "Exploring Dataset\n",
        "\n",
        "---\n",
        "\n"
      ],
      "metadata": {
        "id": "sA5gUWuFrUiL"
      }
    },
    {
      "cell_type": "code",
      "source": [
        "df_info = df.info()"
      ],
      "metadata": {
        "colab": {
          "base_uri": "https://localhost:8080/",
          "height": 0
        },
        "id": "805XYg7sXoTC",
        "outputId": "95875d75-b355-4caa-89a6-4c0d787f688c",
        "collapsed": true
      },
      "execution_count": 144,
      "outputs": [
        {
          "output_type": "stream",
          "name": "stdout",
          "text": [
            "<class 'pandas.core.frame.DataFrame'>\n",
            "RangeIndex: 32711 entries, 0 to 32710\n",
            "Data columns (total 10 columns):\n",
            " #   Column      Non-Null Count  Dtype  \n",
            "---  ------      --------------  -----  \n",
            " 0   _id         32711 non-null  int64  \n",
            " 1   CP ID       32711 non-null  int64  \n",
            " 2   Connector   32711 non-null  int64  \n",
            " 3   Start Date  32711 non-null  object \n",
            " 4   Start Time  32711 non-null  object \n",
            " 5   End Date    32606 non-null  object \n",
            " 6   End Time    32606 non-null  object \n",
            " 7   Total kWh   32606 non-null  float64\n",
            " 8   Site        32711 non-null  object \n",
            " 9   Model       32711 non-null  object \n",
            "dtypes: float64(1), int64(3), object(6)\n",
            "memory usage: 2.5+ MB\n"
          ]
        }
      ]
    },
    {
      "cell_type": "code",
      "source": [
        "df_description = df.describe()\n",
        "print(df_description)"
      ],
      "metadata": {
        "colab": {
          "base_uri": "https://localhost:8080/",
          "height": 0
        },
        "id": "puLhLDu0XrPp",
        "outputId": "55fd8ac7-10ad-4569-c35a-f45a9469d417",
        "collapsed": true
      },
      "execution_count": 145,
      "outputs": [
        {
          "output_type": "stream",
          "name": "stdout",
          "text": [
            "                _id         CP ID     Connector     Total kWh\n",
            "count  32711.000000  32711.000000  32711.000000  32606.000000\n",
            "mean   16356.000000  50885.607196      1.754395     10.865159\n",
            "std     9442.996664    462.711556      0.578024      9.021710\n",
            "min        1.000000  50245.000000      1.000000     -0.001000\n",
            "25%     8178.500000  50297.000000      1.000000      4.950000\n",
            "50%    16356.000000  50839.000000      2.000000      8.580000\n",
            "75%    24533.500000  51250.000000      2.000000     14.939750\n",
            "max    32711.000000  51519.000000      3.000000    287.710000\n"
          ]
        }
      ]
    },
    {
      "cell_type": "code",
      "source": [
        "df_head = df.head()\n",
        "print(df_head)"
      ],
      "metadata": {
        "colab": {
          "base_uri": "https://localhost:8080/",
          "height": 0
        },
        "id": "DQ58AorhXyS7",
        "outputId": "fb360d69-6567-4f01-be51-88236b7f542b",
        "collapsed": true
      },
      "execution_count": 146,
      "outputs": [
        {
          "output_type": "stream",
          "name": "stdout",
          "text": [
            "   _id  CP ID  Connector           Start Date Start Time             End Date  \\\n",
            "0    1  51516          2  2019-08-31T00:00:00      23:26  2019-08-31T00:00:00   \n",
            "1    2  51249          1  2019-08-31T00:00:00      21:12  2019-08-31T00:00:00   \n",
            "2    3  50995          2  2019-08-31T00:00:00      20:26  2019-08-31T00:00:00   \n",
            "3    4  50839          1  2019-08-31T00:00:00      20:06  2019-08-31T00:00:00   \n",
            "4    5  50745          2  2019-08-31T00:00:00      19:43  2019-08-31T00:00:00   \n",
            "\n",
            "  End Time  Total kWh                                Site  \\\n",
            "0    23:54     12.780      Kinross Park and Ride, Kinross   \n",
            "1    21:32      5.700     Atholl Street Car Park, Dunkeld   \n",
            "2    21:20     27.680  Moness Terrace Car Park, Aberfeldy   \n",
            "3    23:03     17.526                  Mill Street, Perth   \n",
            "4    20:23     12.930      Kinross Park and Ride, Kinross   \n",
            "\n",
            "                          Model  \n",
            "0      APT Triple Rapid Charger  \n",
            "1  Siemens Triple Rapid Charger  \n",
            "2      APT Triple Rapid Charger  \n",
            "3              APT 22kW Raption  \n",
            "4      APT Triple Rapid Charger  \n"
          ]
        }
      ]
    },
    {
      "cell_type": "code",
      "source": [
        "df[\"Start Date\"] = pd.to_datetime(df[\"Start Date\"], errors=\"coerce\")\n",
        "df[\"Year-Month\"] = df[\"Start Date\"].dt.to_period(\"M\")"
      ],
      "metadata": {
        "id": "oGoet908JkGQ"
      },
      "execution_count": 196,
      "outputs": []
    },
    {
      "cell_type": "markdown",
      "source": [
        "Graph Of Total Energy Consumption Over Time\n",
        "\n",
        "---\n",
        "\n"
      ],
      "metadata": {
        "id": "LSuOGKkFG0RF"
      }
    },
    {
      "cell_type": "code",
      "source": [
        "plt.figure(figsize=(12, 6))\n",
        "sns.lineplot(x=df[\"Year-Month\"].astype(str), y=df[\"Total kWh\"], estimator=\"sum\", ci=None)\n",
        "plt.xticks(rotation=90)\n",
        "plt.xlabel(\"Year-Month\")\n",
        "plt.ylabel(\"Total Energy Consumed (kWh)\")\n",
        "plt.title(\"Charging Energy Consumption Over Time\")\n",
        "plt.grid(True)\n",
        "plt.show()"
      ],
      "metadata": {
        "colab": {
          "base_uri": "https://localhost:8080/",
          "height": 699
        },
        "id": "9BlqC9QDG0o7",
        "outputId": "8fdbd407-62cd-4873-aa80-68f603fc730f"
      },
      "execution_count": 148,
      "outputs": [
        {
          "output_type": "stream",
          "name": "stderr",
          "text": [
            "<ipython-input-148-9b706f0e1614>:2: FutureWarning: \n",
            "\n",
            "The `ci` parameter is deprecated. Use `errorbar=None` for the same effect.\n",
            "\n",
            "  sns.lineplot(x=df[\"Year-Month\"].astype(str), y=df[\"Total kWh\"], estimator=\"sum\", ci=None)\n"
          ]
        },
        {
          "output_type": "display_data",
          "data": {
            "text/plain": [
              "<Figure size 1200x600 with 1 Axes>"
            ],
            "image/png": "[encoded data removed]"
          },
          "metadata": {}
        }
      ]
    },
    {
      "cell_type": "markdown",
      "source": [
        "Chaecking For Missing Values\n",
        "\n",
        "---\n",
        "\n"
      ],
      "metadata": {
        "id": "v2SzvaUlrcth"
      }
    },
    {
      "cell_type": "code",
      "source": [
        "df.isnull().sum()"
      ],
      "metadata": {
        "colab": {
          "base_uri": "https://localhost:8080/",
          "height": 429
        },
        "id": "oezMkc4KXznJ",
        "outputId": "478d8228-9ea2-4fc1-90e3-fd1c13ba0f2b",
        "collapsed": true
      },
      "execution_count": 149,
      "outputs": [
        {
          "output_type": "execute_result",
          "data": {
            "text/plain": [
              "_id             0\n",
              "CP ID           0\n",
              "Connector       0\n",
              "Start Date      0\n",
              "Start Time      0\n",
              "End Date      105\n",
              "End Time      105\n",
              "Total kWh     105\n",
              "Site            0\n",
              "Model           0\n",
              "Year-Month      0\n",
              "dtype: int64"
            ],
            "text/html": [
              "<div>\n",
              "<style scoped>\n",
              "    .dataframe tbody tr th:only-of-type {\n",
              "        vertical-align: middle;\n",
              "    }\n",
              "\n",
              "    .dataframe tbody tr th {\n",
              "        vertical-align: top;\n",
              "    }\n",
              "\n",
              "    .dataframe thead th {\n",
              "        text-align: right;\n",
              "    }\n",
              "</style>\n",
              "<table border=\"1\" class=\"dataframe\">\n",
              "  <thead>\n",
              "    <tr style=\"text-align: right;\">\n",
              "      <th></th>\n",
              "      <th>0</th>\n",
              "    </tr>\n",
              "  </thead>\n",
              "  <tbody>\n",
              "    <tr>\n",
              "      <th>_id</th>\n",
              "      <td>0</td>\n",
              "    </tr>\n",
              "    <tr>\n",
              "      <th>CP ID</th>\n",
              "      <td>0</td>\n",
              "    </tr>\n",
              "    <tr>\n",
              "      <th>Connector</th>\n",
              "      <td>0</td>\n",
              "    </tr>\n",
              "    <tr>\n",
              "      <th>Start Date</th>\n",
              "      <td>0</td>\n",
              "    </tr>\n",
              "    <tr>\n",
              "      <th>Start Time</th>\n",
              "      <td>0</td>\n",
              "    </tr>\n",
              "    <tr>\n",
              "      <th>End Date</th>\n",
              "      <td>105</td>\n",
              "    </tr>\n",
              "    <tr>\n",
              "      <th>End Time</th>\n",
              "      <td>105</td>\n",
              "    </tr>\n",
              "    <tr>\n",
              "      <th>Total kWh</th>\n",
              "      <td>105</td>\n",
              "    </tr>\n",
              "    <tr>\n",
              "      <th>Site</th>\n",
              "      <td>0</td>\n",
              "    </tr>\n",
              "    <tr>\n",
              "      <th>Model</th>\n",
              "      <td>0</td>\n",
              "    </tr>\n",
              "    <tr>\n",
              "      <th>Year-Month</th>\n",
              "      <td>0</td>\n",
              "    </tr>\n",
              "  </tbody>\n",
              "</table>\n",
              "</div><br><label><b>dtype:</b> int64</label>"
            ]
          },
          "metadata": {},
          "execution_count": 149
        }
      ]
    },
    {
      "cell_type": "markdown",
      "source": [
        "Handling Missing Values\n",
        "\n",
        "---\n",
        "\n"
      ],
      "metadata": {
        "id": "WyqAuj-Qrh56"
      }
    },
    {
      "cell_type": "code",
      "source": [
        "df[\"End Date\"].ffill(inplace=True)\n",
        "df[\"End Time\"].ffill(inplace=True)"
      ],
      "metadata": {
        "colab": {
          "base_uri": "https://localhost:8080/",
          "height": 0
        },
        "id": "JHD23SvKX44Z",
        "outputId": "739ed2b7-26af-46e3-ebe9-f78d476aa94d",
        "collapsed": true
      },
      "execution_count": 150,
      "outputs": [
        {
          "output_type": "stream",
          "name": "stderr",
          "text": [
            "<ipython-input-150-7c7086b070a6>:1: FutureWarning: A value is trying to be set on a copy of a DataFrame or Series through chained assignment using an inplace method.\n",
            "The behavior will change in pandas 3.0. This inplace method will never work because the intermediate object on which we are setting values always behaves as a copy.\n",
            "\n",
            "For example, when doing 'df[col].method(value, inplace=True)', try using 'df.method({col: value}, inplace=True)' or df[col] = df[col].method(value) instead, to perform the operation inplace on the original object.\n",
            "\n",
            "\n",
            "  df[\"End Date\"].ffill(inplace=True)\n",
            "<ipython-input-150-7c7086b070a6>:2: FutureWarning: A value is trying to be set on a copy of a DataFrame or Series through chained assignment using an inplace method.\n",
            "The behavior will change in pandas 3.0. This inplace method will never work because the intermediate object on which we are setting values always behaves as a copy.\n",
            "\n",
            "For example, when doing 'df[col].method(value, inplace=True)', try using 'df.method({col: value}, inplace=True)' or df[col] = df[col].method(value) instead, to perform the operation inplace on the original object.\n",
            "\n",
            "\n",
            "  df[\"End Time\"].ffill(inplace=True)\n"
          ]
        }
      ]
    },
    {
      "cell_type": "code",
      "source": [
        "n=df['Total kWh'].mean()\n",
        "df['Total kWh'].fillna(n,inplace=True)"
      ],
      "metadata": {
        "id": "qUT0J7kZY8r0",
        "colab": {
          "base_uri": "https://localhost:8080/",
          "height": 0
        },
        "outputId": "a6d9e6d6-4d30-44ea-a156-ca3c5b1617f2"
      },
      "execution_count": 151,
      "outputs": [
        {
          "output_type": "stream",
          "name": "stderr",
          "text": [
            "<ipython-input-151-5a0002702ca1>:2: FutureWarning: A value is trying to be set on a copy of a DataFrame or Series through chained assignment using an inplace method.\n",
            "The behavior will change in pandas 3.0. This inplace method will never work because the intermediate object on which we are setting values always behaves as a copy.\n",
            "\n",
            "For example, when doing 'df[col].method(value, inplace=True)', try using 'df.method({col: value}, inplace=True)' or df[col] = df[col].method(value) instead, to perform the operation inplace on the original object.\n",
            "\n",
            "\n",
            "  df['Total kWh'].fillna(n,inplace=True)\n"
          ]
        }
      ]
    },
    {
      "cell_type": "code",
      "source": [
        "df.isnull().sum()"
      ],
      "metadata": {
        "colab": {
          "base_uri": "https://localhost:8080/",
          "height": 429
        },
        "id": "KBv4-fjuZM-3",
        "outputId": "e5d46972-ad9c-4c5b-c50f-563548240826",
        "collapsed": true
      },
      "execution_count": 152,
      "outputs": [
        {
          "output_type": "execute_result",
          "data": {
            "text/plain": [
              "_id           0\n",
              "CP ID         0\n",
              "Connector     0\n",
              "Start Date    0\n",
              "Start Time    0\n",
              "End Date      0\n",
              "End Time      0\n",
              "Total kWh     0\n",
              "Site          0\n",
              "Model         0\n",
              "Year-Month    0\n",
              "dtype: int64"
            ],
            "text/html": [
              "<div>\n",
              "<style scoped>\n",
              "    .dataframe tbody tr th:only-of-type {\n",
              "        vertical-align: middle;\n",
              "    }\n",
              "\n",
              "    .dataframe tbody tr th {\n",
              "        vertical-align: top;\n",
              "    }\n",
              "\n",
              "    .dataframe thead th {\n",
              "        text-align: right;\n",
              "    }\n",
              "</style>\n",
              "<table border=\"1\" class=\"dataframe\">\n",
              "  <thead>\n",
              "    <tr style=\"text-align: right;\">\n",
              "      <th></th>\n",
              "      <th>0</th>\n",
              "    </tr>\n",
              "  </thead>\n",
              "  <tbody>\n",
              "    <tr>\n",
              "      <th>_id</th>\n",
              "      <td>0</td>\n",
              "    </tr>\n",
              "    <tr>\n",
              "      <th>CP ID</th>\n",
              "      <td>0</td>\n",
              "    </tr>\n",
              "    <tr>\n",
              "      <th>Connector</th>\n",
              "      <td>0</td>\n",
              "    </tr>\n",
              "    <tr>\n",
              "      <th>Start Date</th>\n",
              "      <td>0</td>\n",
              "    </tr>\n",
              "    <tr>\n",
              "      <th>Start Time</th>\n",
              "      <td>0</td>\n",
              "    </tr>\n",
              "    <tr>\n",
              "      <th>End Date</th>\n",
              "      <td>0</td>\n",
              "    </tr>\n",
              "    <tr>\n",
              "      <th>End Time</th>\n",
              "      <td>0</td>\n",
              "    </tr>\n",
              "    <tr>\n",
              "      <th>Total kWh</th>\n",
              "      <td>0</td>\n",
              "    </tr>\n",
              "    <tr>\n",
              "      <th>Site</th>\n",
              "      <td>0</td>\n",
              "    </tr>\n",
              "    <tr>\n",
              "      <th>Model</th>\n",
              "      <td>0</td>\n",
              "    </tr>\n",
              "    <tr>\n",
              "      <th>Year-Month</th>\n",
              "      <td>0</td>\n",
              "    </tr>\n",
              "  </tbody>\n",
              "</table>\n",
              "</div><br><label><b>dtype:</b> int64</label>"
            ]
          },
          "metadata": {},
          "execution_count": 152
        }
      ]
    },
    {
      "cell_type": "markdown",
      "source": [
        "Adding Feature\n",
        "\n",
        "---\n",
        "\n",
        "\n",
        "\n",
        "*   Charging Duration\n"
      ],
      "metadata": {
        "id": "REqbgTAwrl1T"
      }
    },
    {
      "cell_type": "code",
      "source": [
        "df['End Time'] = pd.to_datetime(df['End Time'])\n",
        "df['Start Time'] = pd.to_datetime(df['Start Time'])"
      ],
      "metadata": {
        "colab": {
          "base_uri": "https://localhost:8080/",
          "height": 0
        },
        "id": "UZrhctHoZyXv",
        "outputId": "13638ae9-c216-4655-93df-131d065d5bf2",
        "collapsed": true
      },
      "execution_count": 153,
      "outputs": [
        {
          "output_type": "stream",
          "name": "stderr",
          "text": [
            "<ipython-input-153-34e3306f66fb>:1: UserWarning: Could not infer format, so each element will be parsed individually, falling back to `dateutil`. To ensure parsing is consistent and as-expected, please specify a format.\n",
            "  df['End Time'] = pd.to_datetime(df['End Time'])\n",
            "<ipython-input-153-34e3306f66fb>:2: UserWarning: Could not infer format, so each element will be parsed individually, falling back to `dateutil`. To ensure parsing is consistent and as-expected, please specify a format.\n",
            "  df['Start Time'] = pd.to_datetime(df['Start Time'])\n"
          ]
        }
      ]
    },
    {
      "cell_type": "code",
      "source": [
        "print(df)"
      ],
      "metadata": {
        "colab": {
          "base_uri": "https://localhost:8080/",
          "height": 0
        },
        "id": "LNw-JFGOczUk",
        "outputId": "99f4e3fd-686c-41ee-9df3-d5b3a72ea3ec",
        "collapsed": true
      },
      "execution_count": 154,
      "outputs": [
        {
          "output_type": "stream",
          "name": "stdout",
          "text": [
            "         _id  CP ID  Connector Start Date          Start Time  \\\n",
            "0          1  51516          2 2019-08-31 2025-03-15 23:26:00   \n",
            "1          2  51249          1 2019-08-31 2025-03-15 21:12:00   \n",
            "2          3  50995          2 2019-08-31 2025-03-15 20:26:00   \n",
            "3          4  50839          1 2019-08-31 2025-03-15 20:06:00   \n",
            "4          5  50745          2 2019-08-31 2025-03-15 19:43:00   \n",
            "...      ...    ...        ...        ...                 ...   \n",
            "32706  32707  50286          2 2018-01-09 2025-03-15 08:38:00   \n",
            "32707  32708  50276          2 2018-01-09 2025-03-15 08:35:00   \n",
            "32708  32709  50994          2 2018-01-09 2025-03-15 08:17:00   \n",
            "32709  32710  50286          2 2018-01-09 2025-03-15 06:13:00   \n",
            "32710  32711  50286          2 2018-01-09 2025-03-15 02:31:00   \n",
            "\n",
            "                  End Date            End Time  Total kWh  \\\n",
            "0      2019-08-31T00:00:00 2025-03-15 23:54:00     12.780   \n",
            "1      2019-08-31T00:00:00 2025-03-15 21:32:00      5.700   \n",
            "2      2019-08-31T00:00:00 2025-03-15 21:20:00     27.680   \n",
            "3      2019-08-31T00:00:00 2025-03-15 23:03:00     17.526   \n",
            "4      2019-08-31T00:00:00 2025-03-15 20:23:00     12.930   \n",
            "...                    ...                 ...        ...   \n",
            "32706  2018-01-09T00:00:00 2025-03-15 09:06:00     20.220   \n",
            "32707  2018-01-09T00:00:00 2025-03-15 18:11:00     11.580   \n",
            "32708  2018-01-09T00:00:00 2025-03-15 08:46:00     10.840   \n",
            "32709  2018-01-09T00:00:00 2025-03-15 06:25:00      8.780   \n",
            "32710  2018-01-09T00:00:00 2025-03-15 03:03:00     16.430   \n",
            "\n",
            "                                      Site                         Model  \\\n",
            "0           Kinross Park and Ride, Kinross      APT Triple Rapid Charger   \n",
            "1          Atholl Street Car Park, Dunkeld  Siemens Triple Rapid Charger   \n",
            "2       Moness Terrace Car Park, Aberfeldy      APT Triple Rapid Charger   \n",
            "3                       Mill Street, Perth              APT 22kW Raption   \n",
            "4           Kinross Park and Ride, Kinross      APT Triple Rapid Charger   \n",
            "...                                    ...                           ...   \n",
            "32706           Broxden Park & Ride, Perth      APT Triple Rapid Charger   \n",
            "32707           South Inch Car Park, Perth          APT 22kW Dual Outlet   \n",
            "32708  Leslie Street Car Park, Blairgowrie      APT Triple Rapid Charger   \n",
            "32709           Broxden Park & Ride, Perth      APT Triple Rapid Charger   \n",
            "32710           Broxden Park & Ride, Perth      APT Triple Rapid Charger   \n",
            "\n",
            "      Year-Month  \n",
            "0        2019-08  \n",
            "1        2019-08  \n",
            "2        2019-08  \n",
            "3        2019-08  \n",
            "4        2019-08  \n",
            "...          ...  \n",
            "32706    2018-01  \n",
            "32707    2018-01  \n",
            "32708    2018-01  \n",
            "32709    2018-01  \n",
            "32710    2018-01  \n",
            "\n",
            "[32711 rows x 11 columns]\n"
          ]
        }
      ]
    },
    {
      "cell_type": "code",
      "source": [
        "df[\"Duration\"] = df[\"End Time\"] - df[\"Start Time\"]"
      ],
      "metadata": {
        "id": "YFEcP6_ba4Iv"
      },
      "execution_count": 155,
      "outputs": []
    },
    {
      "cell_type": "code",
      "source": [
        "df['Duration'] = np.where(df['Duration'] < pd.Timedelta(0), df['Start Time'] - df['End Time'], df['End Time'] - df['Start Time'])"
      ],
      "metadata": {
        "id": "WF05VaiVc6sv"
      },
      "execution_count": 156,
      "outputs": []
    },
    {
      "cell_type": "code",
      "source": [
        "print(df['Duration'])"
      ],
      "metadata": {
        "colab": {
          "base_uri": "https://localhost:8080/",
          "height": 0
        },
        "id": "icUcvP1gad9d",
        "outputId": "376405bb-d17e-47f4-941b-11acc5324e86"
      },
      "execution_count": 157,
      "outputs": [
        {
          "output_type": "stream",
          "name": "stdout",
          "text": [
            "0       0 days 00:28:00\n",
            "1       0 days 00:20:00\n",
            "2       0 days 00:54:00\n",
            "3       0 days 02:57:00\n",
            "4       0 days 00:40:00\n",
            "              ...      \n",
            "32706   0 days 00:28:00\n",
            "32707   0 days 09:36:00\n",
            "32708   0 days 00:29:00\n",
            "32709   0 days 00:12:00\n",
            "32710   0 days 00:32:00\n",
            "Name: Duration, Length: 32711, dtype: timedelta64[ns]\n"
          ]
        }
      ]
    },
    {
      "cell_type": "code",
      "source": [
        "time = df['Duration']\n",
        "time = time.dt.total_seconds()\n",
        "print(time)"
      ],
      "metadata": {
        "colab": {
          "base_uri": "https://localhost:8080/",
          "height": 0
        },
        "id": "3j-KWxXydTB9",
        "outputId": "ea5a4e95-70db-44a0-a5de-18b39561cc82",
        "collapsed": true
      },
      "execution_count": 158,
      "outputs": [
        {
          "output_type": "stream",
          "name": "stdout",
          "text": [
            "0         1680.0\n",
            "1         1200.0\n",
            "2         3240.0\n",
            "3        10620.0\n",
            "4         2400.0\n",
            "          ...   \n",
            "32706     1680.0\n",
            "32707    34560.0\n",
            "32708     1740.0\n",
            "32709      720.0\n",
            "32710     1920.0\n",
            "Name: Duration, Length: 32711, dtype: float64\n"
          ]
        }
      ]
    },
    {
      "cell_type": "code",
      "source": [
        "df['Duration']=time"
      ],
      "metadata": {
        "id": "vaQol_yndfym"
      },
      "execution_count": 159,
      "outputs": []
    },
    {
      "cell_type": "code",
      "source": [
        "print(df)"
      ],
      "metadata": {
        "colab": {
          "base_uri": "https://localhost:8080/",
          "height": 0
        },
        "id": "Walq4JNxdvlH",
        "outputId": "4a599346-1c5b-45bb-9420-4b1ef6057127",
        "collapsed": true
      },
      "execution_count": 160,
      "outputs": [
        {
          "output_type": "stream",
          "name": "stdout",
          "text": [
            "         _id  CP ID  Connector Start Date          Start Time  \\\n",
            "0          1  51516          2 2019-08-31 2025-03-15 23:26:00   \n",
            "1          2  51249          1 2019-08-31 2025-03-15 21:12:00   \n",
            "2          3  50995          2 2019-08-31 2025-03-15 20:26:00   \n",
            "3          4  50839          1 2019-08-31 2025-03-15 20:06:00   \n",
            "4          5  50745          2 2019-08-31 2025-03-15 19:43:00   \n",
            "...      ...    ...        ...        ...                 ...   \n",
            "32706  32707  50286          2 2018-01-09 2025-03-15 08:38:00   \n",
            "32707  32708  50276          2 2018-01-09 2025-03-15 08:35:00   \n",
            "32708  32709  50994          2 2018-01-09 2025-03-15 08:17:00   \n",
            "32709  32710  50286          2 2018-01-09 2025-03-15 06:13:00   \n",
            "32710  32711  50286          2 2018-01-09 2025-03-15 02:31:00   \n",
            "\n",
            "                  End Date            End Time  Total kWh  \\\n",
            "0      2019-08-31T00:00:00 2025-03-15 23:54:00     12.780   \n",
            "1      2019-08-31T00:00:00 2025-03-15 21:32:00      5.700   \n",
            "2      2019-08-31T00:00:00 2025-03-15 21:20:00     27.680   \n",
            "3      2019-08-31T00:00:00 2025-03-15 23:03:00     17.526   \n",
            "4      2019-08-31T00:00:00 2025-03-15 20:23:00     12.930   \n",
            "...                    ...                 ...        ...   \n",
            "32706  2018-01-09T00:00:00 2025-03-15 09:06:00     20.220   \n",
            "32707  2018-01-09T00:00:00 2025-03-15 18:11:00     11.580   \n",
            "32708  2018-01-09T00:00:00 2025-03-15 08:46:00     10.840   \n",
            "32709  2018-01-09T00:00:00 2025-03-15 06:25:00      8.780   \n",
            "32710  2018-01-09T00:00:00 2025-03-15 03:03:00     16.430   \n",
            "\n",
            "                                      Site                         Model  \\\n",
            "0           Kinross Park and Ride, Kinross      APT Triple Rapid Charger   \n",
            "1          Atholl Street Car Park, Dunkeld  Siemens Triple Rapid Charger   \n",
            "2       Moness Terrace Car Park, Aberfeldy      APT Triple Rapid Charger   \n",
            "3                       Mill Street, Perth              APT 22kW Raption   \n",
            "4           Kinross Park and Ride, Kinross      APT Triple Rapid Charger   \n",
            "...                                    ...                           ...   \n",
            "32706           Broxden Park & Ride, Perth      APT Triple Rapid Charger   \n",
            "32707           South Inch Car Park, Perth          APT 22kW Dual Outlet   \n",
            "32708  Leslie Street Car Park, Blairgowrie      APT Triple Rapid Charger   \n",
            "32709           Broxden Park & Ride, Perth      APT Triple Rapid Charger   \n",
            "32710           Broxden Park & Ride, Perth      APT Triple Rapid Charger   \n",
            "\n",
            "      Year-Month  Duration  \n",
            "0        2019-08    1680.0  \n",
            "1        2019-08    1200.0  \n",
            "2        2019-08    3240.0  \n",
            "3        2019-08   10620.0  \n",
            "4        2019-08    2400.0  \n",
            "...          ...       ...  \n",
            "32706    2018-01    1680.0  \n",
            "32707    2018-01   34560.0  \n",
            "32708    2018-01    1740.0  \n",
            "32709    2018-01     720.0  \n",
            "32710    2018-01    1920.0  \n",
            "\n",
            "[32711 rows x 12 columns]\n"
          ]
        }
      ]
    },
    {
      "cell_type": "code",
      "source": [
        "total_kwh = df['Total kWh']\n",
        "connector = df['Connector']"
      ],
      "metadata": {
        "id": "DY_efjqHeKzF"
      },
      "execution_count": 161,
      "outputs": []
    },
    {
      "cell_type": "markdown",
      "source": [
        "Graph Of Number Of Charges Per Site\n",
        "\n",
        "---\n",
        "\n"
      ],
      "metadata": {
        "id": "C9i2UzIgHRyX"
      }
    },
    {
      "cell_type": "code",
      "source": [
        "plt.figure(figsize=(12, 6))\n",
        "df[\"Site\"].value_counts().head(10).plot(kind=\"bar\", color=\"skyblue\")\n",
        "plt.xlabel(\"Charging Site\")\n",
        "plt.ylabel(\"Number of Charging Sessions\")\n",
        "plt.title(\"Top 10 Most Used Charging Stations\")\n",
        "plt.xticks(rotation=45)\n",
        "plt.show()"
      ],
      "metadata": {
        "colab": {
          "base_uri": "https://localhost:8080/",
          "height": 756
        },
        "id": "3d0CI36RHSFV",
        "outputId": "2ba133f3-24b1-49be-a2c0-8259301f09c7"
      },
      "execution_count": 162,
      "outputs": [
        {
          "output_type": "display_data",
          "data": {
            "text/plain": [
              "<Figure size 1200x600 with 1 Axes>"
            ],
            "image/png": "[encoded data removed]"
          },
          "metadata": {}
        }
      ]
    },
    {
      "cell_type": "markdown",
      "source": [
        "\n",
        "\n",
        "*   Connector Efficiency\n",
        "\n"
      ],
      "metadata": {
        "id": "2n1cMbqQsGfx"
      }
    },
    {
      "cell_type": "code",
      "source": [
        "df['connector_efficiency'] = total_kwh / connector"
      ],
      "metadata": {
        "id": "iV-s80uqe7fY"
      },
      "execution_count": 163,
      "outputs": []
    },
    {
      "cell_type": "code",
      "source": [
        "print(df)"
      ],
      "metadata": {
        "colab": {
          "base_uri": "https://localhost:8080/",
          "height": 0
        },
        "id": "8j3cfv37fAZY",
        "outputId": "1b71c003-e588-4c9d-f2a1-04f565b378ed"
      },
      "execution_count": 164,
      "outputs": [
        {
          "output_type": "stream",
          "name": "stdout",
          "text": [
            "         _id  CP ID  Connector Start Date          Start Time  \\\n",
            "0          1  51516          2 2019-08-31 2025-03-15 23:26:00   \n",
            "1          2  51249          1 2019-08-31 2025-03-15 21:12:00   \n",
            "2          3  50995          2 2019-08-31 2025-03-15 20:26:00   \n",
            "3          4  50839          1 2019-08-31 2025-03-15 20:06:00   \n",
            "4          5  50745          2 2019-08-31 2025-03-15 19:43:00   \n",
            "...      ...    ...        ...        ...                 ...   \n",
            "32706  32707  50286          2 2018-01-09 2025-03-15 08:38:00   \n",
            "32707  32708  50276          2 2018-01-09 2025-03-15 08:35:00   \n",
            "32708  32709  50994          2 2018-01-09 2025-03-15 08:17:00   \n",
            "32709  32710  50286          2 2018-01-09 2025-03-15 06:13:00   \n",
            "32710  32711  50286          2 2018-01-09 2025-03-15 02:31:00   \n",
            "\n",
            "                  End Date            End Time  Total kWh  \\\n",
            "0      2019-08-31T00:00:00 2025-03-15 23:54:00     12.780   \n",
            "1      2019-08-31T00:00:00 2025-03-15 21:32:00      5.700   \n",
            "2      2019-08-31T00:00:00 2025-03-15 21:20:00     27.680   \n",
            "3      2019-08-31T00:00:00 2025-03-15 23:03:00     17.526   \n",
            "4      2019-08-31T00:00:00 2025-03-15 20:23:00     12.930   \n",
            "...                    ...                 ...        ...   \n",
            "32706  2018-01-09T00:00:00 2025-03-15 09:06:00     20.220   \n",
            "32707  2018-01-09T00:00:00 2025-03-15 18:11:00     11.580   \n",
            "32708  2018-01-09T00:00:00 2025-03-15 08:46:00     10.840   \n",
            "32709  2018-01-09T00:00:00 2025-03-15 06:25:00      8.780   \n",
            "32710  2018-01-09T00:00:00 2025-03-15 03:03:00     16.430   \n",
            "\n",
            "                                      Site                         Model  \\\n",
            "0           Kinross Park and Ride, Kinross      APT Triple Rapid Charger   \n",
            "1          Atholl Street Car Park, Dunkeld  Siemens Triple Rapid Charger   \n",
            "2       Moness Terrace Car Park, Aberfeldy      APT Triple Rapid Charger   \n",
            "3                       Mill Street, Perth              APT 22kW Raption   \n",
            "4           Kinross Park and Ride, Kinross      APT Triple Rapid Charger   \n",
            "...                                    ...                           ...   \n",
            "32706           Broxden Park & Ride, Perth      APT Triple Rapid Charger   \n",
            "32707           South Inch Car Park, Perth          APT 22kW Dual Outlet   \n",
            "32708  Leslie Street Car Park, Blairgowrie      APT Triple Rapid Charger   \n",
            "32709           Broxden Park & Ride, Perth      APT Triple Rapid Charger   \n",
            "32710           Broxden Park & Ride, Perth      APT Triple Rapid Charger   \n",
            "\n",
            "      Year-Month  Duration  connector_efficiency  \n",
            "0        2019-08    1680.0                 6.390  \n",
            "1        2019-08    1200.0                 5.700  \n",
            "2        2019-08    3240.0                13.840  \n",
            "3        2019-08   10620.0                17.526  \n",
            "4        2019-08    2400.0                 6.465  \n",
            "...          ...       ...                   ...  \n",
            "32706    2018-01    1680.0                10.110  \n",
            "32707    2018-01   34560.0                 5.790  \n",
            "32708    2018-01    1740.0                 5.420  \n",
            "32709    2018-01     720.0                 4.390  \n",
            "32710    2018-01    1920.0                 8.215  \n",
            "\n",
            "[32711 rows x 13 columns]\n"
          ]
        }
      ]
    },
    {
      "cell_type": "markdown",
      "source": [
        "**Total energy consumption vs Frequency**\n",
        "\n",
        "---\n"
      ],
      "metadata": {
        "id": "ICq7t7LhHis0"
      }
    },
    {
      "cell_type": "code",
      "source": [
        "plt.figure(figsize=(10, 5))\n",
        "sns.histplot(df[\"Total kWh\"], bins=50, kde=True, color=\"purple\")\n",
        "plt.xlabel(\"Total Energy Consumption (kWh)\")\n",
        "plt.ylabel(\"Frequency\")\n",
        "plt.title(\"Distribution of Energy Consumption\")\n",
        "plt.grid(True)\n",
        "plt.show()"
      ],
      "metadata": {
        "colab": {
          "base_uri": "https://localhost:8080/",
          "height": 487
        },
        "id": "SjhxlC0FHi-r",
        "outputId": "1c8da0e2-fa08-4dc0-e079-ab290671d00f"
      },
      "execution_count": 165,
      "outputs": [
        {
          "output_type": "display_data",
          "data": {
            "text/plain": [
              "<Figure size 1000x500 with 1 Axes>"
            ],
            "image/png": "[encoded data removed]"
          },
          "metadata": {}
        }
      ]
    },
    {
      "cell_type": "markdown",
      "source": [
        "Dropping Columns\n",
        "\n",
        "---\n",
        "\n"
      ],
      "metadata": {
        "id": "lwE5sW4LsVEY"
      }
    },
    {
      "cell_type": "code",
      "source": [
        "date_columns = ['Start Date', 'End Date', 'Start Time', 'End Time','_id','CP ID','Year-Month']\n",
        "dataset= df.drop(date_columns , axis=1)\n",
        "print(dataset)"
      ],
      "metadata": {
        "colab": {
          "base_uri": "https://localhost:8080/",
          "height": 0
        },
        "id": "E7El2F-GftVq",
        "outputId": "4eb6ae1e-d9f8-4372-859a-0007649eb5a4",
        "collapsed": true
      },
      "execution_count": 166,
      "outputs": [
        {
          "output_type": "stream",
          "name": "stdout",
          "text": [
            "       Connector  Total kWh                                 Site  \\\n",
            "0              2     12.780       Kinross Park and Ride, Kinross   \n",
            "1              1      5.700      Atholl Street Car Park, Dunkeld   \n",
            "2              2     27.680   Moness Terrace Car Park, Aberfeldy   \n",
            "3              1     17.526                   Mill Street, Perth   \n",
            "4              2     12.930       Kinross Park and Ride, Kinross   \n",
            "...          ...        ...                                  ...   \n",
            "32706          2     20.220           Broxden Park & Ride, Perth   \n",
            "32707          2     11.580           South Inch Car Park, Perth   \n",
            "32708          2     10.840  Leslie Street Car Park, Blairgowrie   \n",
            "32709          2      8.780           Broxden Park & Ride, Perth   \n",
            "32710          2     16.430           Broxden Park & Ride, Perth   \n",
            "\n",
            "                              Model  Duration  connector_efficiency  \n",
            "0          APT Triple Rapid Charger    1680.0                 6.390  \n",
            "1      Siemens Triple Rapid Charger    1200.0                 5.700  \n",
            "2          APT Triple Rapid Charger    3240.0                13.840  \n",
            "3                  APT 22kW Raption   10620.0                17.526  \n",
            "4          APT Triple Rapid Charger    2400.0                 6.465  \n",
            "...                             ...       ...                   ...  \n",
            "32706      APT Triple Rapid Charger    1680.0                10.110  \n",
            "32707          APT 22kW Dual Outlet   34560.0                 5.790  \n",
            "32708      APT Triple Rapid Charger    1740.0                 5.420  \n",
            "32709      APT Triple Rapid Charger     720.0                 4.390  \n",
            "32710      APT Triple Rapid Charger    1920.0                 8.215  \n",
            "\n",
            "[32711 rows x 6 columns]\n"
          ]
        }
      ]
    },
    {
      "cell_type": "code",
      "source": [
        "x= dataset.iloc[:,:-1].values\n",
        "y= dataset.iloc[:,-1].values"
      ],
      "metadata": {
        "id": "rFjILt77gP7-"
      },
      "execution_count": 167,
      "outputs": []
    },
    {
      "cell_type": "code",
      "source": [
        "print(x)"
      ],
      "metadata": {
        "colab": {
          "base_uri": "https://localhost:8080/",
          "height": 0
        },
        "id": "FFV8izq0gZAR",
        "outputId": "d319d6b8-9370-4e99-bdf1-d46da5c8281c",
        "collapsed": true
      },
      "execution_count": 168,
      "outputs": [
        {
          "output_type": "stream",
          "name": "stdout",
          "text": [
            "[[2 12.78 'Kinross Park and Ride, Kinross' 'APT Triple Rapid Charger'\n",
            "  1680.0]\n",
            " [1 5.7 'Atholl Street Car Park, Dunkeld' 'Siemens Triple Rapid Charger'\n",
            "  1200.0]\n",
            " [2 27.68 'Moness Terrace Car Park, Aberfeldy' 'APT Triple Rapid Charger'\n",
            "  3240.0]\n",
            " ...\n",
            " [2 10.84 'Leslie Street Car Park, Blairgowrie'\n",
            "  'APT Triple Rapid Charger' 1740.0]\n",
            " [2 8.78 'Broxden Park & Ride, Perth' 'APT Triple Rapid Charger' 720.0]\n",
            " [2 16.43 'Broxden Park & Ride, Perth' 'APT Triple Rapid Charger' 1920.0]]\n"
          ]
        }
      ]
    },
    {
      "cell_type": "code",
      "source": [
        "print(y)"
      ],
      "metadata": {
        "colab": {
          "base_uri": "https://localhost:8080/",
          "height": 0
        },
        "id": "MN1uofNMgbBw",
        "outputId": "49d9ed7b-f760-4215-ffe3-691987571227"
      },
      "execution_count": 169,
      "outputs": [
        {
          "output_type": "stream",
          "name": "stdout",
          "text": [
            "[ 6.39  5.7  13.84 ...  5.42  4.39  8.21]\n"
          ]
        }
      ]
    },
    {
      "cell_type": "markdown",
      "source": [
        "Encoding Categorical Variables\n",
        "\n",
        "---\n",
        "\n"
      ],
      "metadata": {
        "id": "aANjCBzEsgXn"
      }
    },
    {
      "cell_type": "code",
      "source": [
        "from sklearn.compose import ColumnTransformer\n",
        "from sklearn.preprocessing import OneHotEncoder\n",
        "ct = ColumnTransformer(transformers=[(\"encoder\",OneHotEncoder(),[2,3])],remainder='passthrough')\n",
        "x=ct.fit_transform(x)"
      ],
      "metadata": {
        "id": "GutlupNCguIo"
      },
      "execution_count": 170,
      "outputs": []
    },
    {
      "cell_type": "code",
      "source": [
        "print(x)"
      ],
      "metadata": {
        "colab": {
          "base_uri": "https://localhost:8080/",
          "height": 0
        },
        "id": "sTRxbIE7g9dW",
        "outputId": "954250fc-b8b3-4c6d-8ee6-59c3460cf189"
      },
      "execution_count": 171,
      "outputs": [
        {
          "output_type": "stream",
          "name": "stdout",
          "text": [
            "<Compressed Sparse Row sparse matrix of dtype 'float64'\n",
            "\twith 162224 stored elements and shape (32711, 24)>\n",
            "  Coords\tValues\n",
            "  (0, 7)\t1.0\n",
            "  (0, 17)\t1.0\n",
            "  (0, 21)\t2.0\n",
            "  (0, 22)\t12.78\n",
            "  (0, 23)\t1680.0\n",
            "  (1, 1)\t1.0\n",
            "  (1, 20)\t1.0\n",
            "  (1, 21)\t1.0\n",
            "  (1, 22)\t5.7\n",
            "  (1, 23)\t1200.0\n",
            "  (2, 11)\t1.0\n",
            "  (2, 17)\t1.0\n",
            "  (2, 21)\t2.0\n",
            "  (2, 22)\t27.68\n",
            "  (2, 23)\t3240.0\n",
            "  (3, 10)\t1.0\n",
            "  (3, 15)\t1.0\n",
            "  (3, 21)\t1.0\n",
            "  (3, 22)\t17.526\n",
            "  (3, 23)\t10620.0\n",
            "  (4, 7)\t1.0\n",
            "  (4, 17)\t1.0\n",
            "  (4, 21)\t2.0\n",
            "  (4, 22)\t12.93\n",
            "  (4, 23)\t2400.0\n",
            "  :\t:\n",
            "  (32706, 2)\t1.0\n",
            "  (32706, 17)\t1.0\n",
            "  (32706, 21)\t2.0\n",
            "  (32706, 22)\t20.22\n",
            "  (32706, 23)\t1680.0\n",
            "  (32707, 13)\t1.0\n",
            "  (32707, 14)\t1.0\n",
            "  (32707, 21)\t2.0\n",
            "  (32707, 22)\t11.58\n",
            "  (32707, 23)\t34560.0\n",
            "  (32708, 8)\t1.0\n",
            "  (32708, 17)\t1.0\n",
            "  (32708, 21)\t2.0\n",
            "  (32708, 22)\t10.84\n",
            "  (32708, 23)\t1740.0\n",
            "  (32709, 2)\t1.0\n",
            "  (32709, 17)\t1.0\n",
            "  (32709, 21)\t2.0\n",
            "  (32709, 22)\t8.78\n",
            "  (32709, 23)\t720.0\n",
            "  (32710, 2)\t1.0\n",
            "  (32710, 17)\t1.0\n",
            "  (32710, 21)\t2.0\n",
            "  (32710, 22)\t16.43\n",
            "  (32710, 23)\t1920.0\n"
          ]
        }
      ]
    },
    {
      "cell_type": "markdown",
      "source": [
        "Min-Max Scaling\n",
        "\n",
        "---\n",
        "\n"
      ],
      "metadata": {
        "id": "QDx2hHPbuFtA"
      }
    },
    {
      "cell_type": "code",
      "source": [
        "from sklearn.preprocessing import MinMaxScaler\n",
        "scaler = MinMaxScaler()\n",
        "df[['Total kWh','connector_efficiency','Duration']] = scaler.fit_transform(df[[\"Total kWh\",\"connector_efficiency\",\"Duration\"]])"
      ],
      "metadata": {
        "id": "CH736Chvhw-Y"
      },
      "execution_count": 172,
      "outputs": []
    },
    {
      "cell_type": "code",
      "source": [
        "print(df)"
      ],
      "metadata": {
        "colab": {
          "base_uri": "https://localhost:8080/",
          "height": 0
        },
        "id": "iF9mFaYyisRV",
        "outputId": "387a46eb-61a7-4d0d-bb78-8adfc165c2f5",
        "collapsed": true
      },
      "execution_count": 173,
      "outputs": [
        {
          "output_type": "stream",
          "name": "stdout",
          "text": [
            "         _id  CP ID  Connector Start Date          Start Time  \\\n",
            "0          1  51516          2 2019-08-31 2025-03-15 23:26:00   \n",
            "1          2  51249          1 2019-08-31 2025-03-15 21:12:00   \n",
            "2          3  50995          2 2019-08-31 2025-03-15 20:26:00   \n",
            "3          4  50839          1 2019-08-31 2025-03-15 20:06:00   \n",
            "4          5  50745          2 2019-08-31 2025-03-15 19:43:00   \n",
            "...      ...    ...        ...        ...                 ...   \n",
            "32706  32707  50286          2 2018-01-09 2025-03-15 08:38:00   \n",
            "32707  32708  50276          2 2018-01-09 2025-03-15 08:35:00   \n",
            "32708  32709  50994          2 2018-01-09 2025-03-15 08:17:00   \n",
            "32709  32710  50286          2 2018-01-09 2025-03-15 06:13:00   \n",
            "32710  32711  50286          2 2018-01-09 2025-03-15 02:31:00   \n",
            "\n",
            "                  End Date            End Time  Total kWh  \\\n",
            "0      2019-08-31T00:00:00 2025-03-15 23:54:00   0.044423   \n",
            "1      2019-08-31T00:00:00 2025-03-15 21:32:00   0.019815   \n",
            "2      2019-08-31T00:00:00 2025-03-15 21:20:00   0.096211   \n",
            "3      2019-08-31T00:00:00 2025-03-15 23:03:00   0.060919   \n",
            "4      2019-08-31T00:00:00 2025-03-15 20:23:00   0.044944   \n",
            "...                    ...                 ...        ...   \n",
            "32706  2018-01-09T00:00:00 2025-03-15 09:06:00   0.070282   \n",
            "32707  2018-01-09T00:00:00 2025-03-15 18:11:00   0.040252   \n",
            "32708  2018-01-09T00:00:00 2025-03-15 08:46:00   0.037680   \n",
            "32709  2018-01-09T00:00:00 2025-03-15 06:25:00   0.030520   \n",
            "32710  2018-01-09T00:00:00 2025-03-15 03:03:00   0.057109   \n",
            "\n",
            "                                      Site                         Model  \\\n",
            "0           Kinross Park and Ride, Kinross      APT Triple Rapid Charger   \n",
            "1          Atholl Street Car Park, Dunkeld  Siemens Triple Rapid Charger   \n",
            "2       Moness Terrace Car Park, Aberfeldy      APT Triple Rapid Charger   \n",
            "3                       Mill Street, Perth              APT 22kW Raption   \n",
            "4           Kinross Park and Ride, Kinross      APT Triple Rapid Charger   \n",
            "...                                    ...                           ...   \n",
            "32706           Broxden Park & Ride, Perth      APT Triple Rapid Charger   \n",
            "32707           South Inch Car Park, Perth          APT 22kW Dual Outlet   \n",
            "32708  Leslie Street Car Park, Blairgowrie      APT Triple Rapid Charger   \n",
            "32709           Broxden Park & Ride, Perth      APT Triple Rapid Charger   \n",
            "32710           Broxden Park & Ride, Perth      APT Triple Rapid Charger   \n",
            "\n",
            "      Year-Month  Duration  connector_efficiency  \n",
            "0        2019-08  0.019512              0.044426  \n",
            "1        2019-08  0.013937              0.039630  \n",
            "2        2019-08  0.037631              0.096214  \n",
            "3        2019-08  0.123345              0.121837  \n",
            "4        2019-08  0.027875              0.044948  \n",
            "...          ...       ...                   ...  \n",
            "32706    2018-01  0.019512              0.070286  \n",
            "32707    2018-01  0.401394              0.040256  \n",
            "32708    2018-01  0.020209              0.037684  \n",
            "32709    2018-01  0.008362              0.030524  \n",
            "32710    2018-01  0.022300              0.057113  \n",
            "\n",
            "[32711 rows x 13 columns]\n"
          ]
        }
      ]
    },
    {
      "cell_type": "markdown",
      "source": [
        "Train-Test Split"
      ],
      "metadata": {
        "id": "d-saSl3wuSiR"
      }
    },
    {
      "cell_type": "code",
      "source": [
        "from sklearn.model_selection import train_test_split\n",
        "x_train, x_test, y_train, y_test = train_test_split(x, y, test_size=0.2, random_state=42)"
      ],
      "metadata": {
        "id": "DitaQUF4i3e5"
      },
      "execution_count": 174,
      "outputs": []
    },
    {
      "cell_type": "code",
      "source": [
        "print(x_train)"
      ],
      "metadata": {
        "colab": {
          "base_uri": "https://localhost:8080/",
          "height": 0
        },
        "id": "h-62G6fMi6vn",
        "outputId": "8d2c5561-eb70-4021-a620-c4a41770496a",
        "collapsed": true
      },
      "execution_count": 175,
      "outputs": [
        {
          "output_type": "stream",
          "name": "stdout",
          "text": [
            "<Compressed Sparse Row sparse matrix of dtype 'float64'\n",
            "\twith 129803 stored elements and shape (26168, 24)>\n",
            "  Coords\tValues\n",
            "  (0, 2)\t1.0\n",
            "  (0, 17)\t1.0\n",
            "  (0, 21)\t2.0\n",
            "  (0, 22)\t26.98\n",
            "  (0, 23)\t3600.0\n",
            "  (1, 2)\t1.0\n",
            "  (1, 17)\t1.0\n",
            "  (1, 21)\t1.0\n",
            "  (1, 22)\t6.554\n",
            "  (1, 23)\t1620.0\n",
            "  (2, 13)\t1.0\n",
            "  (2, 14)\t1.0\n",
            "  (2, 21)\t2.0\n",
            "  (2, 22)\t22.38\n",
            "  (2, 23)\t6060.0\n",
            "  (3, 13)\t1.0\n",
            "  (3, 17)\t1.0\n",
            "  (3, 21)\t2.0\n",
            "  (3, 22)\t6.07\n",
            "  (3, 23)\t720.0\n",
            "  (4, 3)\t1.0\n",
            "  (4, 18)\t1.0\n",
            "  (4, 21)\t1.0\n",
            "  (4, 22)\t4.492\n",
            "  (4, 23)\t9600.0\n",
            "  :\t:\n",
            "  (26162, 23)\t1260.0\n",
            "  (26163, 4)\t1.0\n",
            "  (26163, 20)\t1.0\n",
            "  (26163, 21)\t1.0\n",
            "  (26163, 23)\t60.0\n",
            "  (26164, 4)\t1.0\n",
            "  (26164, 20)\t1.0\n",
            "  (26164, 21)\t1.0\n",
            "  (26164, 22)\t0.99\n",
            "  (26164, 23)\t720.0\n",
            "  (26165, 12)\t1.0\n",
            "  (26165, 14)\t1.0\n",
            "  (26165, 21)\t2.0\n",
            "  (26165, 22)\t12.74\n",
            "  (26165, 23)\t5220.0\n",
            "  (26166, 5)\t1.0\n",
            "  (26166, 16)\t1.0\n",
            "  (26166, 21)\t2.0\n",
            "  (26166, 22)\t5.57\n",
            "  (26166, 23)\t5760.0\n",
            "  (26167, 8)\t1.0\n",
            "  (26167, 17)\t1.0\n",
            "  (26167, 21)\t2.0\n",
            "  (26167, 22)\t5.61\n",
            "  (26167, 23)\t1380.0\n"
          ]
        }
      ]
    },
    {
      "cell_type": "code",
      "source": [
        "print(x_test)"
      ],
      "metadata": {
        "colab": {
          "base_uri": "https://localhost:8080/",
          "height": 0
        },
        "id": "xO07Qut2i7P8",
        "outputId": "3812de78-a3e4-46f5-c861-abc8293b7508",
        "collapsed": true
      },
      "execution_count": 176,
      "outputs": [
        {
          "output_type": "stream",
          "name": "stdout",
          "text": [
            "<Compressed Sparse Row sparse matrix of dtype 'float64'\n",
            "\twith 32421 stored elements and shape (6543, 24)>\n",
            "  Coords\tValues\n",
            "  (0, 2)\t1.0\n",
            "  (0, 17)\t1.0\n",
            "  (0, 21)\t2.0\n",
            "  (0, 22)\t3.81\n",
            "  (0, 23)\t660.0\n",
            "  (1, 3)\t1.0\n",
            "  (1, 18)\t1.0\n",
            "  (1, 21)\t1.0\n",
            "  (1, 22)\t8.05\n",
            "  (1, 23)\t13680.0\n",
            "  (2, 7)\t1.0\n",
            "  (2, 17)\t1.0\n",
            "  (2, 21)\t2.0\n",
            "  (2, 22)\t3.62\n",
            "  (2, 23)\t1680.0\n",
            "  (3, 8)\t1.0\n",
            "  (3, 17)\t1.0\n",
            "  (3, 21)\t2.0\n",
            "  (3, 22)\t9.52\n",
            "  (3, 23)\t2280.0\n",
            "  (4, 2)\t1.0\n",
            "  (4, 17)\t1.0\n",
            "  (4, 21)\t2.0\n",
            "  (4, 22)\t10.57\n",
            "  (4, 23)\t1080.0\n",
            "  :\t:\n",
            "  (6538, 4)\t1.0\n",
            "  (6538, 20)\t1.0\n",
            "  (6538, 21)\t1.0\n",
            "  (6538, 22)\t6.42\n",
            "  (6538, 23)\t1020.0\n",
            "  (6539, 6)\t1.0\n",
            "  (6539, 14)\t1.0\n",
            "  (6539, 21)\t1.0\n",
            "  (6539, 22)\t11.707\n",
            "  (6539, 23)\t32220.0\n",
            "  (6540, 12)\t1.0\n",
            "  (6540, 17)\t1.0\n",
            "  (6540, 21)\t2.0\n",
            "  (6540, 22)\t6.67\n",
            "  (6540, 23)\t900.0\n",
            "  (6541, 2)\t1.0\n",
            "  (6541, 17)\t1.0\n",
            "  (6541, 21)\t2.0\n",
            "  (6541, 22)\t16.26\n",
            "  (6541, 23)\t2640.0\n",
            "  (6542, 7)\t1.0\n",
            "  (6542, 14)\t1.0\n",
            "  (6542, 21)\t2.0\n",
            "  (6542, 22)\t7.08\n",
            "  (6542, 23)\t7980.0\n"
          ]
        }
      ]
    },
    {
      "cell_type": "code",
      "source": [
        "print(y_train)"
      ],
      "metadata": {
        "colab": {
          "base_uri": "https://localhost:8080/",
          "height": 0
        },
        "id": "ZEWdiJJ6i9w2",
        "outputId": "4811cc5f-6487-40a5-e47d-f879965e8148",
        "collapsed": true
      },
      "execution_count": 177,
      "outputs": [
        {
          "output_type": "stream",
          "name": "stdout",
          "text": [
            "[13.49  6.55 11.19 ...  6.37  2.79  2.81]\n"
          ]
        }
      ]
    },
    {
      "cell_type": "code",
      "source": [
        "print(y_test)"
      ],
      "metadata": {
        "colab": {
          "base_uri": "https://localhost:8080/",
          "height": 0
        },
        "id": "OP7AK3Spi_tJ",
        "outputId": "0f8153e9-f4d2-4b20-9dac-47f46b330c3c",
        "collapsed": true
      },
      "execution_count": 178,
      "outputs": [
        {
          "output_type": "stream",
          "name": "stdout",
          "text": [
            "[1.91 8.05 1.81 ... 3.33 8.13 3.54]\n"
          ]
        }
      ]
    },
    {
      "cell_type": "markdown",
      "source": [
        "Dropping Columns On Which We Did One Hot Encoding\n",
        "\n",
        "---\n",
        "\n"
      ],
      "metadata": {
        "id": "pB5dhOd9uXQJ"
      }
    },
    {
      "cell_type": "code",
      "source": [
        "x_encoded = dataset.drop(columns=[\"Site\", \"Model\"])"
      ],
      "metadata": {
        "id": "BQzmKMA5i_p7"
      },
      "execution_count": 179,
      "outputs": []
    },
    {
      "cell_type": "code",
      "source": [
        "print(x_encoded)"
      ],
      "metadata": {
        "colab": {
          "base_uri": "https://localhost:8080/",
          "height": 0
        },
        "id": "64dA3Fgxj9XU",
        "outputId": "d043f66a-eb1a-446e-8bc9-a1f4070608bb",
        "collapsed": true
      },
      "execution_count": 180,
      "outputs": [
        {
          "output_type": "stream",
          "name": "stdout",
          "text": [
            "       Connector  Total kWh  Duration  connector_efficiency\n",
            "0              2     12.780    1680.0                 6.390\n",
            "1              1      5.700    1200.0                 5.700\n",
            "2              2     27.680    3240.0                13.840\n",
            "3              1     17.526   10620.0                17.526\n",
            "4              2     12.930    2400.0                 6.465\n",
            "...          ...        ...       ...                   ...\n",
            "32706          2     20.220    1680.0                10.110\n",
            "32707          2     11.580   34560.0                 5.790\n",
            "32708          2     10.840    1740.0                 5.420\n",
            "32709          2      8.780     720.0                 4.390\n",
            "32710          2     16.430    1920.0                 8.215\n",
            "\n",
            "[32711 rows x 4 columns]\n"
          ]
        }
      ]
    },
    {
      "cell_type": "markdown",
      "source": [
        "Training A Regression Model\n",
        "\n",
        "---\n",
        "\n"
      ],
      "metadata": {
        "id": "Ui5CM56xuf4K"
      }
    },
    {
      "cell_type": "code",
      "source": [
        "from sklearn.linear_model import LinearRegression\n",
        "lin_reg = LinearRegression()\n",
        "lin_reg.fit(x, y)"
      ],
      "metadata": {
        "colab": {
          "base_uri": "https://localhost:8080/",
          "height": 80
        },
        "id": "imdOGI-OlWJ_",
        "outputId": "7c1cd02a-87b8-429a-d2ea-c25bc7930b67",
        "collapsed": true
      },
      "execution_count": 181,
      "outputs": [
        {
          "output_type": "execute_result",
          "data": {
            "text/plain": [
              "LinearRegression()"
            ],
            "text/html": [
              "<style>#sk-container-id-4 {\n",
              "  /* Definition of color scheme common for light and dark mode */\n",
              "  --sklearn-color-text: #000;\n",
              "  --sklearn-color-text-muted: #666;\n",
              "  --sklearn-color-line: gray;\n",
              "  /* Definition of color scheme for unfitted estimators */\n",
              "  --sklearn-color-unfitted-level-0: #fff5e6;\n",
              "  --sklearn-color-unfitted-level-1: #f6e4d2;\n",
              "  --sklearn-color-unfitted-level-2: #ffe0b3;\n",
              "  --sklearn-color-unfitted-level-3: chocolate;\n",
              "  /* Definition of color scheme for fitted estimators */\n",
              "  --sklearn-color-fitted-level-0: #f0f8ff;\n",
              "  --sklearn-color-fitted-level-1: #d4ebff;\n",
              "  --sklearn-color-fitted-level-2: #b3dbfd;\n",
              "  --sklearn-color-fitted-level-3: cornflowerblue;\n",
              "\n",
              "  /* Specific color for light theme */\n",
              "  --sklearn-color-text-on-default-background: var(--sg-text-color, var(--theme-code-foreground, var(--jp-content-font-color1, black)));\n",
              "  --sklearn-color-background: var(--sg-background-color, var(--theme-background, var(--jp-layout-color0, white)));\n",
              "  --sklearn-color-border-box: var(--sg-text-color, var(--theme-code-foreground, var(--jp-content-font-color1, black)));\n",
              "  --sklearn-color-icon: #696969;\n",
              "\n",
              "  @media (prefers-color-scheme: dark) {\n",
              "    /* Redefinition of color scheme for dark theme */\n",
              "    --sklearn-color-text-on-default-background: var(--sg-text-color, var(--theme-code-foreground, var(--jp-content-font-color1, white)));\n",
              "    --sklearn-color-background: var(--sg-background-color, var(--theme-background, var(--jp-layout-color0, #111)));\n",
              "    --sklearn-color-border-box: var(--sg-text-color, var(--theme-code-foreground, var(--jp-content-font-color1, white)));\n",
              "    --sklearn-color-icon: #878787;\n",
              "  }\n",
              "}\n",
              "\n",
              "#sk-container-id-4 {\n",
              "  color: var(--sklearn-color-text);\n",
              "}\n",
              "\n",
              "#sk-container-id-4 pre {\n",
              "  padding: 0;\n",
              "}\n",
              "\n",
              "#sk-container-id-4 input.sk-hidden--visually {\n",
              "  border: 0;\n",
              "  clip: rect(1px 1px 1px 1px);\n",
              "  clip: rect(1px, 1px, 1px, 1px);\n",
              "  height: 1px;\n",
              "  margin: -1px;\n",
              "  overflow: hidden;\n",
              "  padding: 0;\n",
              "  position: absolute;\n",
              "  width: 1px;\n",
              "}\n",
              "\n",
              "#sk-container-id-4 div.sk-dashed-wrapped {\n",
              "  border: 1px dashed var(--sklearn-color-line);\n",
              "  margin: 0 0.4em 0.5em 0.4em;\n",
              "  box-sizing: border-box;\n",
              "  padding-bottom: 0.4em;\n",
              "  background-color: var(--sklearn-color-background);\n",
              "}\n",
              "\n",
              "#sk-container-id-4 div.sk-container {\n",
              "  /* jupyter's `normalize.less` sets `[hidden] { display: none; }`\n",
              "     but bootstrap.min.css set `[hidden] { display: none !important; }`\n",
              "     so we also need the `!important` here to be able to override the\n",
              "     default hidden behavior on the sphinx rendered scikit-learn.org.\n",
              "     See: https://github.com/scikit-learn/scikit-learn/issues/21755 */\n",
              "  display: inline-block !important;\n",
              "  position: relative;\n",
              "}\n",
              "\n",
              "#sk-container-id-4 div.sk-text-repr-fallback {\n",
              "  display: none;\n",
              "}\n",
              "\n",
              "div.sk-parallel-item,\n",
              "div.sk-serial,\n",
              "div.sk-item {\n",
              "  /* draw centered vertical line to link estimators */\n",
              "  background-image: linear-gradient(var(--sklearn-color-text-on-default-background), var(--sklearn-color-text-on-default-background));\n",
              "  background-size: 2px 100%;\n",
              "  background-repeat: no-repeat;\n",
              "  background-position: center center;\n",
              "}\n",
              "\n",
              "/* Parallel-specific style estimator block */\n",
              "\n",
              "#sk-container-id-4 div.sk-parallel-item::after {\n",
              "  content: \"\";\n",
              "  width: 100%;\n",
              "  border-bottom: 2px solid var(--sklearn-color-text-on-default-background);\n",
              "  flex-grow: 1;\n",
              "}\n",
              "\n",
              "#sk-container-id-4 div.sk-parallel {\n",
              "  display: flex;\n",
              "  align-items: stretch;\n",
              "  justify-content: center;\n",
              "  background-color: var(--sklearn-color-background);\n",
              "  position: relative;\n",
              "}\n",
              "\n",
              "#sk-container-id-4 div.sk-parallel-item {\n",
              "  display: flex;\n",
              "  flex-direction: column;\n",
              "}\n",
              "\n",
              "#sk-container-id-4 div.sk-parallel-item:first-child::after {\n",
              "  align-self: flex-end;\n",
              "  width: 50%;\n",
              "}\n",
              "\n",
              "#sk-container-id-4 div.sk-parallel-item:last-child::after {\n",
              "  align-self: flex-start;\n",
              "  width: 50%;\n",
              "}\n",
              "\n",
              "#sk-container-id-4 div.sk-parallel-item:only-child::after {\n",
              "  width: 0;\n",
              "}\n",
              "\n",
              "/* Serial-specific style estimator block */\n",
              "\n",
              "#sk-container-id-4 div.sk-serial {\n",
              "  display: flex;\n",
              "  flex-direction: column;\n",
              "  align-items: center;\n",
              "  background-color: var(--sklearn-color-background);\n",
              "  padding-right: 1em;\n",
              "  padding-left: 1em;\n",
              "}\n",
              "\n",
              "\n",
              "/* Toggleable style: style used for estimator/Pipeline/ColumnTransformer box that is\n",
              "clickable and can be expanded/collapsed.\n",
              "- Pipeline and ColumnTransformer use this feature and define the default style\n",
              "- Estimators will overwrite some part of the style using the `sk-estimator` class\n",
              "*/\n",
              "\n",
              "/* Pipeline and ColumnTransformer style (default) */\n",
              "\n",
              "#sk-container-id-4 div.sk-toggleable {\n",
              "  /* Default theme specific background. It is overwritten whether we have a\n",
              "  specific estimator or a Pipeline/ColumnTransformer */\n",
              "  background-color: var(--sklearn-color-background);\n",
              "}\n",
              "\n",
              "/* Toggleable label */\n",
              "#sk-container-id-4 label.sk-toggleable__label {\n",
              "  cursor: pointer;\n",
              "  display: flex;\n",
              "  width: 100%;\n",
              "  margin-bottom: 0;\n",
              "  padding: 0.5em;\n",
              "  box-sizing: border-box;\n",
              "  text-align: center;\n",
              "  align-items: start;\n",
              "  justify-content: space-between;\n",
              "  gap: 0.5em;\n",
              "}\n",
              "\n",
              "#sk-container-id-4 label.sk-toggleable__label .caption {\n",
              "  font-size: 0.6rem;\n",
              "  font-weight: lighter;\n",
              "  color: var(--sklearn-color-text-muted);\n",
              "}\n",
              "\n",
              "#sk-container-id-4 label.sk-toggleable__label-arrow:before {\n",
              "  /* Arrow on the left of the label */\n",
              "  content: \"▸\";\n",
              "  float: left;\n",
              "  margin-right: 0.25em;\n",
              "  color: var(--sklearn-color-icon);\n",
              "}\n",
              "\n",
              "#sk-container-id-4 label.sk-toggleable__label-arrow:hover:before {\n",
              "  color: var(--sklearn-color-text);\n",
              "}\n",
              "\n",
              "/* Toggleable content - dropdown */\n",
              "\n",
              "#sk-container-id-4 div.sk-toggleable__content {\n",
              "  max-height: 0;\n",
              "  max-width: 0;\n",
              "  overflow: hidden;\n",
              "  text-align: left;\n",
              "  /* unfitted */\n",
              "  background-color: var(--sklearn-color-unfitted-level-0);\n",
              "}\n",
              "\n",
              "#sk-container-id-4 div.sk-toggleable__content.fitted {\n",
              "  /* fitted */\n",
              "  background-color: var(--sklearn-color-fitted-level-0);\n",
              "}\n",
              "\n",
              "#sk-container-id-4 div.sk-toggleable__content pre {\n",
              "  margin: 0.2em;\n",
              "  border-radius: 0.25em;\n",
              "  color: var(--sklearn-color-text);\n",
              "  /* unfitted */\n",
              "  background-color: var(--sklearn-color-unfitted-level-0);\n",
              "}\n",
              "\n",
              "#sk-container-id-4 div.sk-toggleable__content.fitted pre {\n",
              "  /* unfitted */\n",
              "  background-color: var(--sklearn-color-fitted-level-0);\n",
              "}\n",
              "\n",
              "#sk-container-id-4 input.sk-toggleable__control:checked~div.sk-toggleable__content {\n",
              "  /* Expand drop-down */\n",
              "  max-height: 200px;\n",
              "  max-width: 100%;\n",
              "  overflow: auto;\n",
              "}\n",
              "\n",
              "#sk-container-id-4 input.sk-toggleable__control:checked~label.sk-toggleable__label-arrow:before {\n",
              "  content: \"▾\";\n",
              "}\n",
              "\n",
              "/* Pipeline/ColumnTransformer-specific style */\n",
              "\n",
              "#sk-container-id-4 div.sk-label input.sk-toggleable__control:checked~label.sk-toggleable__label {\n",
              "  color: var(--sklearn-color-text);\n",
              "  background-color: var(--sklearn-color-unfitted-level-2);\n",
              "}\n",
              "\n",
              "#sk-container-id-4 div.sk-label.fitted input.sk-toggleable__control:checked~label.sk-toggleable__label {\n",
              "  background-color: var(--sklearn-color-fitted-level-2);\n",
              "}\n",
              "\n",
              "/* Estimator-specific style */\n",
              "\n",
              "/* Colorize estimator box */\n",
              "#sk-container-id-4 div.sk-estimator input.sk-toggleable__control:checked~label.sk-toggleable__label {\n",
              "  /* unfitted */\n",
              "  background-color: var(--sklearn-color-unfitted-level-2);\n",
              "}\n",
              "\n",
              "#sk-container-id-4 div.sk-estimator.fitted input.sk-toggleable__control:checked~label.sk-toggleable__label {\n",
              "  /* fitted */\n",
              "  background-color: var(--sklearn-color-fitted-level-2);\n",
              "}\n",
              "\n",
              "#sk-container-id-4 div.sk-label label.sk-toggleable__label,\n",
              "#sk-container-id-4 div.sk-label label {\n",
              "  /* The background is the default theme color */\n",
              "  color: var(--sklearn-color-text-on-default-background);\n",
              "}\n",
              "\n",
              "/* On hover, darken the color of the background */\n",
              "#sk-container-id-4 div.sk-label:hover label.sk-toggleable__label {\n",
              "  color: var(--sklearn-color-text);\n",
              "  background-color: var(--sklearn-color-unfitted-level-2);\n",
              "}\n",
              "\n",
              "/* Label box, darken color on hover, fitted */\n",
              "#sk-container-id-4 div.sk-label.fitted:hover label.sk-toggleable__label.fitted {\n",
              "  color: var(--sklearn-color-text);\n",
              "  background-color: var(--sklearn-color-fitted-level-2);\n",
              "}\n",
              "\n",
              "/* Estimator label */\n",
              "\n",
              "#sk-container-id-4 div.sk-label label {\n",
              "  font-family: monospace;\n",
              "  font-weight: bold;\n",
              "  display: inline-block;\n",
              "  line-height: 1.2em;\n",
              "}\n",
              "\n",
              "#sk-container-id-4 div.sk-label-container {\n",
              "  text-align: center;\n",
              "}\n",
              "\n",
              "/* Estimator-specific */\n",
              "#sk-container-id-4 div.sk-estimator {\n",
              "  font-family: monospace;\n",
              "  border: 1px dotted var(--sklearn-color-border-box);\n",
              "  border-radius: 0.25em;\n",
              "  box-sizing: border-box;\n",
              "  margin-bottom: 0.5em;\n",
              "  /* unfitted */\n",
              "  background-color: var(--sklearn-color-unfitted-level-0);\n",
              "}\n",
              "\n",
              "#sk-container-id-4 div.sk-estimator.fitted {\n",
              "  /* fitted */\n",
              "  background-color: var(--sklearn-color-fitted-level-0);\n",
              "}\n",
              "\n",
              "/* on hover */\n",
              "#sk-container-id-4 div.sk-estimator:hover {\n",
              "  /* unfitted */\n",
              "  background-color: var(--sklearn-color-unfitted-level-2);\n",
              "}\n",
              "\n",
              "#sk-container-id-4 div.sk-estimator.fitted:hover {\n",
              "  /* fitted */\n",
              "  background-color: var(--sklearn-color-fitted-level-2);\n",
              "}\n",
              "\n",
              "/* Specification for estimator info (e.g. \"i\" and \"?\") */\n",
              "\n",
              "/* Common style for \"i\" and \"?\" */\n",
              "\n",
              ".sk-estimator-doc-link,\n",
              "a:link.sk-estimator-doc-link,\n",
              "a:visited.sk-estimator-doc-link {\n",
              "  float: right;\n",
              "  font-size: smaller;\n",
              "  line-height: 1em;\n",
              "  font-family: monospace;\n",
              "  background-color: var(--sklearn-color-background);\n",
              "  border-radius: 1em;\n",
              "  height: 1em;\n",
              "  width: 1em;\n",
              "  text-decoration: none !important;\n",
              "  margin-left: 0.5em;\n",
              "  text-align: center;\n",
              "  /* unfitted */\n",
              "  border: var(--sklearn-color-unfitted-level-1) 1pt solid;\n",
              "  color: var(--sklearn-color-unfitted-level-1);\n",
              "}\n",
              "\n",
              ".sk-estimator-doc-link.fitted,\n",
              "a:link.sk-estimator-doc-link.fitted,\n",
              "a:visited.sk-estimator-doc-link.fitted {\n",
              "  /* fitted */\n",
              "  border: var(--sklearn-color-fitted-level-1) 1pt solid;\n",
              "  color: var(--sklearn-color-fitted-level-1);\n",
              "}\n",
              "\n",
              "/* On hover */\n",
              "div.sk-estimator:hover .sk-estimator-doc-link:hover,\n",
              ".sk-estimator-doc-link:hover,\n",
              "div.sk-label-container:hover .sk-estimator-doc-link:hover,\n",
              ".sk-estimator-doc-link:hover {\n",
              "  /* unfitted */\n",
              "  background-color: var(--sklearn-color-unfitted-level-3);\n",
              "  color: var(--sklearn-color-background);\n",
              "  text-decoration: none;\n",
              "}\n",
              "\n",
              "div.sk-estimator.fitted:hover .sk-estimator-doc-link.fitted:hover,\n",
              ".sk-estimator-doc-link.fitted:hover,\n",
              "div.sk-label-container:hover .sk-estimator-doc-link.fitted:hover,\n",
              ".sk-estimator-doc-link.fitted:hover {\n",
              "  /* fitted */\n",
              "  background-color: var(--sklearn-color-fitted-level-3);\n",
              "  color: var(--sklearn-color-background);\n",
              "  text-decoration: none;\n",
              "}\n",
              "\n",
              "/* Span, style for the box shown on hovering the info icon */\n",
              ".sk-estimator-doc-link span {\n",
              "  display: none;\n",
              "  z-index: 9999;\n",
              "  position: relative;\n",
              "  font-weight: normal;\n",
              "  right: .2ex;\n",
              "  padding: .5ex;\n",
              "  margin: .5ex;\n",
              "  width: min-content;\n",
              "  min-width: 20ex;\n",
              "  max-width: 50ex;\n",
              "  color: var(--sklearn-color-text);\n",
              "  box-shadow: 2pt 2pt 4pt #999;\n",
              "  /* unfitted */\n",
              "  background: var(--sklearn-color-unfitted-level-0);\n",
              "  border: .5pt solid var(--sklearn-color-unfitted-level-3);\n",
              "}\n",
              "\n",
              ".sk-estimator-doc-link.fitted span {\n",
              "  /* fitted */\n",
              "  background: var(--sklearn-color-fitted-level-0);\n",
              "  border: var(--sklearn-color-fitted-level-3);\n",
              "}\n",
              "\n",
              ".sk-estimator-doc-link:hover span {\n",
              "  display: block;\n",
              "}\n",
              "\n",
              "/* \"?\"-specific style due to the `<a>` HTML tag */\n",
              "\n",
              "#sk-container-id-4 a.estimator_doc_link {\n",
              "  float: right;\n",
              "  font-size: 1rem;\n",
              "  line-height: 1em;\n",
              "  font-family: monospace;\n",
              "  background-color: var(--sklearn-color-background);\n",
              "  border-radius: 1rem;\n",
              "  height: 1rem;\n",
              "  width: 1rem;\n",
              "  text-decoration: none;\n",
              "  /* unfitted */\n",
              "  color: var(--sklearn-color-unfitted-level-1);\n",
              "  border: var(--sklearn-color-unfitted-level-1) 1pt solid;\n",
              "}\n",
              "\n",
              "#sk-container-id-4 a.estimator_doc_link.fitted {\n",
              "  /* fitted */\n",
              "  border: var(--sklearn-color-fitted-level-1) 1pt solid;\n",
              "  color: var(--sklearn-color-fitted-level-1);\n",
              "}\n",
              "\n",
              "/* On hover */\n",
              "#sk-container-id-4 a.estimator_doc_link:hover {\n",
              "  /* unfitted */\n",
              "  background-color: var(--sklearn-color-unfitted-level-3);\n",
              "  color: var(--sklearn-color-background);\n",
              "  text-decoration: none;\n",
              "}\n",
              "\n",
              "#sk-container-id-4 a.estimator_doc_link.fitted:hover {\n",
              "  /* fitted */\n",
              "  background-color: var(--sklearn-color-fitted-level-3);\n",
              "}\n",
              "</style><div id=\"sk-container-id-4\" class=\"sk-top-container\"><div class=\"sk-text-repr-fallback\"><pre>LinearRegression()</pre><b>In a Jupyter environment, please rerun this cell to show the HTML representation or trust the notebook. <br />On GitHub, the HTML representation is unable to render, please try loading this page with nbviewer.org.</b></div><div class=\"sk-container\" hidden><div class=\"sk-item\"><div class=\"sk-estimator fitted sk-toggleable\"><input class=\"sk-toggleable__control sk-hidden--visually\" id=\"sk-estimator-id-4\" type=\"checkbox\" checked><label for=\"sk-estimator-id-4\" class=\"sk-toggleable__label fitted sk-toggleable__label-arrow\"><div><div>LinearRegression</div></div><div><a class=\"sk-estimator-doc-link fitted\" rel=\"noreferrer\" target=\"_blank\" href=\"https://scikit-learn.org/1.6/modules/generated/sklearn.linear_model.LinearRegression.html\">?<span>Documentation for LinearRegression</span></a><span class=\"sk-estimator-doc-link fitted\">i<span>Fitted</span></span></div></label><div class=\"sk-toggleable__content fitted\"><pre>LinearRegression()</pre></div> </div></div></div></div>"
            ]
          },
          "metadata": {},
          "execution_count": 181
        }
      ]
    },
    {
      "cell_type": "code",
      "source": [
        "from sklearn.preprocessing import PolynomialFeatures\n",
        "poly_reg = PolynomialFeatures(degree = 4)\n",
        "x_poly = poly_reg.fit_transform(x)\n",
        "regressor= LinearRegression()\n",
        "regressor.fit(x_poly, y)"
      ],
      "metadata": {
        "colab": {
          "base_uri": "https://localhost:8080/",
          "height": 80
        },
        "id": "8MOgL1kNlGz_",
        "outputId": "9f140338-2e16-4fc0-cd43-ccc7ea506603",
        "collapsed": true
      },
      "execution_count": 182,
      "outputs": [
        {
          "output_type": "execute_result",
          "data": {
            "text/plain": [
              "LinearRegression()"
            ],
            "text/html": [
              "<style>#sk-container-id-5 {\n",
              "  /* Definition of color scheme common for light and dark mode */\n",
              "  --sklearn-color-text: #000;\n",
              "  --sklearn-color-text-muted: #666;\n",
              "  --sklearn-color-line: gray;\n",
              "  /* Definition of color scheme for unfitted estimators */\n",
              "  --sklearn-color-unfitted-level-0: #fff5e6;\n",
              "  --sklearn-color-unfitted-level-1: #f6e4d2;\n",
              "  --sklearn-color-unfitted-level-2: #ffe0b3;\n",
              "  --sklearn-color-unfitted-level-3: chocolate;\n",
              "  /* Definition of color scheme for fitted estimators */\n",
              "  --sklearn-color-fitted-level-0: #f0f8ff;\n",
              "  --sklearn-color-fitted-level-1: #d4ebff;\n",
              "  --sklearn-color-fitted-level-2: #b3dbfd;\n",
              "  --sklearn-color-fitted-level-3: cornflowerblue;\n",
              "\n",
              "  /* Specific color for light theme */\n",
              "  --sklearn-color-text-on-default-background: var(--sg-text-color, var(--theme-code-foreground, var(--jp-content-font-color1, black)));\n",
              "  --sklearn-color-background: var(--sg-background-color, var(--theme-background, var(--jp-layout-color0, white)));\n",
              "  --sklearn-color-border-box: var(--sg-text-color, var(--theme-code-foreground, var(--jp-content-font-color1, black)));\n",
              "  --sklearn-color-icon: #696969;\n",
              "\n",
              "  @media (prefers-color-scheme: dark) {\n",
              "    /* Redefinition of color scheme for dark theme */\n",
              "    --sklearn-color-text-on-default-background: var(--sg-text-color, var(--theme-code-foreground, var(--jp-content-font-color1, white)));\n",
              "    --sklearn-color-background: var(--sg-background-color, var(--theme-background, var(--jp-layout-color0, #111)));\n",
              "    --sklearn-color-border-box: var(--sg-text-color, var(--theme-code-foreground, var(--jp-content-font-color1, white)));\n",
              "    --sklearn-color-icon: #878787;\n",
              "  }\n",
              "}\n",
              "\n",
              "#sk-container-id-5 {\n",
              "  color: var(--sklearn-color-text);\n",
              "}\n",
              "\n",
              "#sk-container-id-5 pre {\n",
              "  padding: 0;\n",
              "}\n",
              "\n",
              "#sk-container-id-5 input.sk-hidden--visually {\n",
              "  border: 0;\n",
              "  clip: rect(1px 1px 1px 1px);\n",
              "  clip: rect(1px, 1px, 1px, 1px);\n",
              "  height: 1px;\n",
              "  margin: -1px;\n",
              "  overflow: hidden;\n",
              "  padding: 0;\n",
              "  position: absolute;\n",
              "  width: 1px;\n",
              "}\n",
              "\n",
              "#sk-container-id-5 div.sk-dashed-wrapped {\n",
              "  border: 1px dashed var(--sklearn-color-line);\n",
              "  margin: 0 0.4em 0.5em 0.4em;\n",
              "  box-sizing: border-box;\n",
              "  padding-bottom: 0.4em;\n",
              "  background-color: var(--sklearn-color-background);\n",
              "}\n",
              "\n",
              "#sk-container-id-5 div.sk-container {\n",
              "  /* jupyter's `normalize.less` sets `[hidden] { display: none; }`\n",
              "     but bootstrap.min.css set `[hidden] { display: none !important; }`\n",
              "     so we also need the `!important` here to be able to override the\n",
              "     default hidden behavior on the sphinx rendered scikit-learn.org.\n",
              "     See: https://github.com/scikit-learn/scikit-learn/issues/21755 */\n",
              "  display: inline-block !important;\n",
              "  position: relative;\n",
              "}\n",
              "\n",
              "#sk-container-id-5 div.sk-text-repr-fallback {\n",
              "  display: none;\n",
              "}\n",
              "\n",
              "div.sk-parallel-item,\n",
              "div.sk-serial,\n",
              "div.sk-item {\n",
              "  /* draw centered vertical line to link estimators */\n",
              "  background-image: linear-gradient(var(--sklearn-color-text-on-default-background), var(--sklearn-color-text-on-default-background));\n",
              "  background-size: 2px 100%;\n",
              "  background-repeat: no-repeat;\n",
              "  background-position: center center;\n",
              "}\n",
              "\n",
              "/* Parallel-specific style estimator block */\n",
              "\n",
              "#sk-container-id-5 div.sk-parallel-item::after {\n",
              "  content: \"\";\n",
              "  width: 100%;\n",
              "  border-bottom: 2px solid var(--sklearn-color-text-on-default-background);\n",
              "  flex-grow: 1;\n",
              "}\n",
              "\n",
              "#sk-container-id-5 div.sk-parallel {\n",
              "  display: flex;\n",
              "  align-items: stretch;\n",
              "  justify-content: center;\n",
              "  background-color: var(--sklearn-color-background);\n",
              "  position: relative;\n",
              "}\n",
              "\n",
              "#sk-container-id-5 div.sk-parallel-item {\n",
              "  display: flex;\n",
              "  flex-direction: column;\n",
              "}\n",
              "\n",
              "#sk-container-id-5 div.sk-parallel-item:first-child::after {\n",
              "  align-self: flex-end;\n",
              "  width: 50%;\n",
              "}\n",
              "\n",
              "#sk-container-id-5 div.sk-parallel-item:last-child::after {\n",
              "  align-self: flex-start;\n",
              "  width: 50%;\n",
              "}\n",
              "\n",
              "#sk-container-id-5 div.sk-parallel-item:only-child::after {\n",
              "  width: 0;\n",
              "}\n",
              "\n",
              "/* Serial-specific style estimator block */\n",
              "\n",
              "#sk-container-id-5 div.sk-serial {\n",
              "  display: flex;\n",
              "  flex-direction: column;\n",
              "  align-items: center;\n",
              "  background-color: var(--sklearn-color-background);\n",
              "  padding-right: 1em;\n",
              "  padding-left: 1em;\n",
              "}\n",
              "\n",
              "\n",
              "/* Toggleable style: style used for estimator/Pipeline/ColumnTransformer box that is\n",
              "clickable and can be expanded/collapsed.\n",
              "- Pipeline and ColumnTransformer use this feature and define the default style\n",
              "- Estimators will overwrite some part of the style using the `sk-estimator` class\n",
              "*/\n",
              "\n",
              "/* Pipeline and ColumnTransformer style (default) */\n",
              "\n",
              "#sk-container-id-5 div.sk-toggleable {\n",
              "  /* Default theme specific background. It is overwritten whether we have a\n",
              "  specific estimator or a Pipeline/ColumnTransformer */\n",
              "  background-color: var(--sklearn-color-background);\n",
              "}\n",
              "\n",
              "/* Toggleable label */\n",
              "#sk-container-id-5 label.sk-toggleable__label {\n",
              "  cursor: pointer;\n",
              "  display: flex;\n",
              "  width: 100%;\n",
              "  margin-bottom: 0;\n",
              "  padding: 0.5em;\n",
              "  box-sizing: border-box;\n",
              "  text-align: center;\n",
              "  align-items: start;\n",
              "  justify-content: space-between;\n",
              "  gap: 0.5em;\n",
              "}\n",
              "\n",
              "#sk-container-id-5 label.sk-toggleable__label .caption {\n",
              "  font-size: 0.6rem;\n",
              "  font-weight: lighter;\n",
              "  color: var(--sklearn-color-text-muted);\n",
              "}\n",
              "\n",
              "#sk-container-id-5 label.sk-toggleable__label-arrow:before {\n",
              "  /* Arrow on the left of the label */\n",
              "  content: \"▸\";\n",
              "  float: left;\n",
              "  margin-right: 0.25em;\n",
              "  color: var(--sklearn-color-icon);\n",
              "}\n",
              "\n",
              "#sk-container-id-5 label.sk-toggleable__label-arrow:hover:before {\n",
              "  color: var(--sklearn-color-text);\n",
              "}\n",
              "\n",
              "/* Toggleable content - dropdown */\n",
              "\n",
              "#sk-container-id-5 div.sk-toggleable__content {\n",
              "  max-height: 0;\n",
              "  max-width: 0;\n",
              "  overflow: hidden;\n",
              "  text-align: left;\n",
              "  /* unfitted */\n",
              "  background-color: var(--sklearn-color-unfitted-level-0);\n",
              "}\n",
              "\n",
              "#sk-container-id-5 div.sk-toggleable__content.fitted {\n",
              "  /* fitted */\n",
              "  background-color: var(--sklearn-color-fitted-level-0);\n",
              "}\n",
              "\n",
              "#sk-container-id-5 div.sk-toggleable__content pre {\n",
              "  margin: 0.2em;\n",
              "  border-radius: 0.25em;\n",
              "  color: var(--sklearn-color-text);\n",
              "  /* unfitted */\n",
              "  background-color: var(--sklearn-color-unfitted-level-0);\n",
              "}\n",
              "\n",
              "#sk-container-id-5 div.sk-toggleable__content.fitted pre {\n",
              "  /* unfitted */\n",
              "  background-color: var(--sklearn-color-fitted-level-0);\n",
              "}\n",
              "\n",
              "#sk-container-id-5 input.sk-toggleable__control:checked~div.sk-toggleable__content {\n",
              "  /* Expand drop-down */\n",
              "  max-height: 200px;\n",
              "  max-width: 100%;\n",
              "  overflow: auto;\n",
              "}\n",
              "\n",
              "#sk-container-id-5 input.sk-toggleable__control:checked~label.sk-toggleable__label-arrow:before {\n",
              "  content: \"▾\";\n",
              "}\n",
              "\n",
              "/* Pipeline/ColumnTransformer-specific style */\n",
              "\n",
              "#sk-container-id-5 div.sk-label input.sk-toggleable__control:checked~label.sk-toggleable__label {\n",
              "  color: var(--sklearn-color-text);\n",
              "  background-color: var(--sklearn-color-unfitted-level-2);\n",
              "}\n",
              "\n",
              "#sk-container-id-5 div.sk-label.fitted input.sk-toggleable__control:checked~label.sk-toggleable__label {\n",
              "  background-color: var(--sklearn-color-fitted-level-2);\n",
              "}\n",
              "\n",
              "/* Estimator-specific style */\n",
              "\n",
              "/* Colorize estimator box */\n",
              "#sk-container-id-5 div.sk-estimator input.sk-toggleable__control:checked~label.sk-toggleable__label {\n",
              "  /* unfitted */\n",
              "  background-color: var(--sklearn-color-unfitted-level-2);\n",
              "}\n",
              "\n",
              "#sk-container-id-5 div.sk-estimator.fitted input.sk-toggleable__control:checked~label.sk-toggleable__label {\n",
              "  /* fitted */\n",
              "  background-color: var(--sklearn-color-fitted-level-2);\n",
              "}\n",
              "\n",
              "#sk-container-id-5 div.sk-label label.sk-toggleable__label,\n",
              "#sk-container-id-5 div.sk-label label {\n",
              "  /* The background is the default theme color */\n",
              "  color: var(--sklearn-color-text-on-default-background);\n",
              "}\n",
              "\n",
              "/* On hover, darken the color of the background */\n",
              "#sk-container-id-5 div.sk-label:hover label.sk-toggleable__label {\n",
              "  color: var(--sklearn-color-text);\n",
              "  background-color: var(--sklearn-color-unfitted-level-2);\n",
              "}\n",
              "\n",
              "/* Label box, darken color on hover, fitted */\n",
              "#sk-container-id-5 div.sk-label.fitted:hover label.sk-toggleable__label.fitted {\n",
              "  color: var(--sklearn-color-text);\n",
              "  background-color: var(--sklearn-color-fitted-level-2);\n",
              "}\n",
              "\n",
              "/* Estimator label */\n",
              "\n",
              "#sk-container-id-5 div.sk-label label {\n",
              "  font-family: monospace;\n",
              "  font-weight: bold;\n",
              "  display: inline-block;\n",
              "  line-height: 1.2em;\n",
              "}\n",
              "\n",
              "#sk-container-id-5 div.sk-label-container {\n",
              "  text-align: center;\n",
              "}\n",
              "\n",
              "/* Estimator-specific */\n",
              "#sk-container-id-5 div.sk-estimator {\n",
              "  font-family: monospace;\n",
              "  border: 1px dotted var(--sklearn-color-border-box);\n",
              "  border-radius: 0.25em;\n",
              "  box-sizing: border-box;\n",
              "  margin-bottom: 0.5em;\n",
              "  /* unfitted */\n",
              "  background-color: var(--sklearn-color-unfitted-level-0);\n",
              "}\n",
              "\n",
              "#sk-container-id-5 div.sk-estimator.fitted {\n",
              "  /* fitted */\n",
              "  background-color: var(--sklearn-color-fitted-level-0);\n",
              "}\n",
              "\n",
              "/* on hover */\n",
              "#sk-container-id-5 div.sk-estimator:hover {\n",
              "  /* unfitted */\n",
              "  background-color: var(--sklearn-color-unfitted-level-2);\n",
              "}\n",
              "\n",
              "#sk-container-id-5 div.sk-estimator.fitted:hover {\n",
              "  /* fitted */\n",
              "  background-color: var(--sklearn-color-fitted-level-2);\n",
              "}\n",
              "\n",
              "/* Specification for estimator info (e.g. \"i\" and \"?\") */\n",
              "\n",
              "/* Common style for \"i\" and \"?\" */\n",
              "\n",
              ".sk-estimator-doc-link,\n",
              "a:link.sk-estimator-doc-link,\n",
              "a:visited.sk-estimator-doc-link {\n",
              "  float: right;\n",
              "  font-size: smaller;\n",
              "  line-height: 1em;\n",
              "  font-family: monospace;\n",
              "  background-color: var(--sklearn-color-background);\n",
              "  border-radius: 1em;\n",
              "  height: 1em;\n",
              "  width: 1em;\n",
              "  text-decoration: none !important;\n",
              "  margin-left: 0.5em;\n",
              "  text-align: center;\n",
              "  /* unfitted */\n",
              "  border: var(--sklearn-color-unfitted-level-1) 1pt solid;\n",
              "  color: var(--sklearn-color-unfitted-level-1);\n",
              "}\n",
              "\n",
              ".sk-estimator-doc-link.fitted,\n",
              "a:link.sk-estimator-doc-link.fitted,\n",
              "a:visited.sk-estimator-doc-link.fitted {\n",
              "  /* fitted */\n",
              "  border: var(--sklearn-color-fitted-level-1) 1pt solid;\n",
              "  color: var(--sklearn-color-fitted-level-1);\n",
              "}\n",
              "\n",
              "/* On hover */\n",
              "div.sk-estimator:hover .sk-estimator-doc-link:hover,\n",
              ".sk-estimator-doc-link:hover,\n",
              "div.sk-label-container:hover .sk-estimator-doc-link:hover,\n",
              ".sk-estimator-doc-link:hover {\n",
              "  /* unfitted */\n",
              "  background-color: var(--sklearn-color-unfitted-level-3);\n",
              "  color: var(--sklearn-color-background);\n",
              "  text-decoration: none;\n",
              "}\n",
              "\n",
              "div.sk-estimator.fitted:hover .sk-estimator-doc-link.fitted:hover,\n",
              ".sk-estimator-doc-link.fitted:hover,\n",
              "div.sk-label-container:hover .sk-estimator-doc-link.fitted:hover,\n",
              ".sk-estimator-doc-link.fitted:hover {\n",
              "  /* fitted */\n",
              "  background-color: var(--sklearn-color-fitted-level-3);\n",
              "  color: var(--sklearn-color-background);\n",
              "  text-decoration: none;\n",
              "}\n",
              "\n",
              "/* Span, style for the box shown on hovering the info icon */\n",
              ".sk-estimator-doc-link span {\n",
              "  display: none;\n",
              "  z-index: 9999;\n",
              "  position: relative;\n",
              "  font-weight: normal;\n",
              "  right: .2ex;\n",
              "  padding: .5ex;\n",
              "  margin: .5ex;\n",
              "  width: min-content;\n",
              "  min-width: 20ex;\n",
              "  max-width: 50ex;\n",
              "  color: var(--sklearn-color-text);\n",
              "  box-shadow: 2pt 2pt 4pt #999;\n",
              "  /* unfitted */\n",
              "  background: var(--sklearn-color-unfitted-level-0);\n",
              "  border: .5pt solid var(--sklearn-color-unfitted-level-3);\n",
              "}\n",
              "\n",
              ".sk-estimator-doc-link.fitted span {\n",
              "  /* fitted */\n",
              "  background: var(--sklearn-color-fitted-level-0);\n",
              "  border: var(--sklearn-color-fitted-level-3);\n",
              "}\n",
              "\n",
              ".sk-estimator-doc-link:hover span {\n",
              "  display: block;\n",
              "}\n",
              "\n",
              "/* \"?\"-specific style due to the `<a>` HTML tag */\n",
              "\n",
              "#sk-container-id-5 a.estimator_doc_link {\n",
              "  float: right;\n",
              "  font-size: 1rem;\n",
              "  line-height: 1em;\n",
              "  font-family: monospace;\n",
              "  background-color: var(--sklearn-color-background);\n",
              "  border-radius: 1rem;\n",
              "  height: 1rem;\n",
              "  width: 1rem;\n",
              "  text-decoration: none;\n",
              "  /* unfitted */\n",
              "  color: var(--sklearn-color-unfitted-level-1);\n",
              "  border: var(--sklearn-color-unfitted-level-1) 1pt solid;\n",
              "}\n",
              "\n",
              "#sk-container-id-5 a.estimator_doc_link.fitted {\n",
              "  /* fitted */\n",
              "  border: var(--sklearn-color-fitted-level-1) 1pt solid;\n",
              "  color: var(--sklearn-color-fitted-level-1);\n",
              "}\n",
              "\n",
              "/* On hover */\n",
              "#sk-container-id-5 a.estimator_doc_link:hover {\n",
              "  /* unfitted */\n",
              "  background-color: var(--sklearn-color-unfitted-level-3);\n",
              "  color: var(--sklearn-color-background);\n",
              "  text-decoration: none;\n",
              "}\n",
              "\n",
              "#sk-container-id-5 a.estimator_doc_link.fitted:hover {\n",
              "  /* fitted */\n",
              "  background-color: var(--sklearn-color-fitted-level-3);\n",
              "}\n",
              "</style><div id=\"sk-container-id-5\" class=\"sk-top-container\"><div class=\"sk-text-repr-fallback\"><pre>LinearRegression()</pre><b>In a Jupyter environment, please rerun this cell to show the HTML representation or trust the notebook. <br />On GitHub, the HTML representation is unable to render, please try loading this page with nbviewer.org.</b></div><div class=\"sk-container\" hidden><div class=\"sk-item\"><div class=\"sk-estimator fitted sk-toggleable\"><input class=\"sk-toggleable__control sk-hidden--visually\" id=\"sk-estimator-id-5\" type=\"checkbox\" checked><label for=\"sk-estimator-id-5\" class=\"sk-toggleable__label fitted sk-toggleable__label-arrow\"><div><div>LinearRegression</div></div><div><a class=\"sk-estimator-doc-link fitted\" rel=\"noreferrer\" target=\"_blank\" href=\"https://scikit-learn.org/1.6/modules/generated/sklearn.linear_model.LinearRegression.html\">?<span>Documentation for LinearRegression</span></a><span class=\"sk-estimator-doc-link fitted\">i<span>Fitted</span></span></div></label><div class=\"sk-toggleable__content fitted\"><pre>LinearRegression()</pre></div> </div></div></div></div>"
            ]
          },
          "metadata": {},
          "execution_count": 182
        }
      ]
    },
    {
      "cell_type": "code",
      "source": [
        "y_pred = regressor.predict(poly_reg.transform(x_test))\n",
        "np.set_printoptions(precision=2)\n",
        "print(np.concatenate((y_pred.reshape(len(y_pred),1), y_test.reshape(len(y_test),1)),1))"
      ],
      "metadata": {
        "colab": {
          "base_uri": "https://localhost:8080/",
          "height": 0
        },
        "id": "nxBXkn0yls9h",
        "outputId": "9b6c13b4-d331-49ef-dd1f-5c4c640f1c78",
        "collapsed": true
      },
      "execution_count": 183,
      "outputs": [
        {
          "output_type": "stream",
          "name": "stdout",
          "text": [
            "[[6.78 1.91]\n",
            " [6.85 8.05]\n",
            " [6.78 1.81]\n",
            " ...\n",
            " [6.78 3.33]\n",
            " [6.78 8.13]\n",
            " [6.79 3.54]]\n"
          ]
        }
      ]
    },
    {
      "cell_type": "markdown",
      "source": [
        "Evaluating Model\n",
        "\n",
        "---\n",
        "\n",
        "\n",
        "\n"
      ],
      "metadata": {
        "id": "T18IccmGunKo"
      }
    },
    {
      "cell_type": "code",
      "source": [
        "from sklearn.metrics import mean_squared_error, mean_absolute_error, r2_score\n",
        "mse_sklearn = mean_squared_error(y_test, y_pred)\n",
        "mae_sklearn = mean_absolute_error(y_test, y_pred)\n",
        "r2_sklearn = r2_score(y_test, y_pred)"
      ],
      "metadata": {
        "id": "WeCy6atMmGHX"
      },
      "execution_count": 184,
      "outputs": []
    },
    {
      "cell_type": "markdown",
      "source": [
        "\n",
        "\n",
        "1.   Mean Squared Error\n",
        "\n"
      ],
      "metadata": {
        "id": "xtkHs8FSuwR9"
      }
    },
    {
      "cell_type": "code",
      "source": [
        "print(\"Mean Squared Error (MSE):\", mse_sklearn)"
      ],
      "metadata": {
        "colab": {
          "base_uri": "https://localhost:8080/",
          "height": 0
        },
        "id": "N9c0N2MPmHRr",
        "outputId": "20e1f181-3eff-4a71-dea7-441a40e18fc9",
        "collapsed": true
      },
      "execution_count": 185,
      "outputs": [
        {
          "output_type": "stream",
          "name": "stdout",
          "text": [
            "Mean Squared Error (MSE): 40.386551850706496\n"
          ]
        }
      ]
    },
    {
      "cell_type": "markdown",
      "source": [
        "\n",
        "2.   Mean Absolute Error\n",
        "\n"
      ],
      "metadata": {
        "id": "RctayijBu2mk"
      }
    },
    {
      "cell_type": "code",
      "source": [
        "print(\"Mean Absolute Error (MAE):\", mae_sklearn)"
      ],
      "metadata": {
        "colab": {
          "base_uri": "https://localhost:8080/",
          "height": 0
        },
        "id": "a2Om9qAYmL8h",
        "outputId": "8b9c313d-f34a-4f15-df34-cf6bbfc6115e",
        "collapsed": true
      },
      "execution_count": 186,
      "outputs": [
        {
          "output_type": "stream",
          "name": "stdout",
          "text": [
            "Mean Absolute Error (MAE): 4.376020932214169\n"
          ]
        }
      ]
    },
    {
      "cell_type": "markdown",
      "source": [
        "3. R-squared Score"
      ],
      "metadata": {
        "id": "eTPcL-ALu83b"
      }
    },
    {
      "cell_type": "code",
      "source": [
        "print(\"R-squared (R2) Score:\", r2_sklearn)"
      ],
      "metadata": {
        "colab": {
          "base_uri": "https://localhost:8080/",
          "height": 0
        },
        "id": "YUf1mkezmM0d",
        "outputId": "e91626c3-626a-4894-eb44-6f13ff1037b6"
      },
      "execution_count": 187,
      "outputs": [
        {
          "output_type": "stream",
          "name": "stdout",
          "text": [
            "R-squared (R2) Score: 0.07742322809970237\n"
          ]
        }
      ]
    },
    {
      "cell_type": "markdown",
      "source": [
        "Random Forest Regressor"
      ],
      "metadata": {
        "id": "PDPok_oLuNr9"
      }
    },
    {
      "cell_type": "code",
      "source": [
        "from sklearn.model_selection import train_test_split\n",
        "from sklearn.ensemble import RandomForestRegressor\n",
        "from sklearn.metrics import mean_squared_error\n",
        "model = RandomForestRegressor(n_estimators=100, random_state=42)"
      ],
      "metadata": {
        "id": "ANlfpIFauNWz"
      },
      "execution_count": 188,
      "outputs": []
    },
    {
      "cell_type": "markdown",
      "source": [
        "Training The Model"
      ],
      "metadata": {
        "id": "yd2Z-w_evrko"
      }
    },
    {
      "cell_type": "code",
      "source": [
        "model.fit(x_train, y_train)"
      ],
      "metadata": {
        "colab": {
          "base_uri": "https://localhost:8080/",
          "height": 80
        },
        "id": "bAC52nldvtYX",
        "outputId": "cff1789c-e5b0-42f0-8134-ad8f8ab533da",
        "collapsed": true
      },
      "execution_count": 189,
      "outputs": [
        {
          "output_type": "execute_result",
          "data": {
            "text/plain": [
              "RandomForestRegressor(random_state=42)"
            ],
            "text/html": [
              "<style>#sk-container-id-6 {\n",
              "  /* Definition of color scheme common for light and dark mode */\n",
              "  --sklearn-color-text: #000;\n",
              "  --sklearn-color-text-muted: #666;\n",
              "  --sklearn-color-line: gray;\n",
              "  /* Definition of color scheme for unfitted estimators */\n",
              "  --sklearn-color-unfitted-level-0: #fff5e6;\n",
              "  --sklearn-color-unfitted-level-1: #f6e4d2;\n",
              "  --sklearn-color-unfitted-level-2: #ffe0b3;\n",
              "  --sklearn-color-unfitted-level-3: chocolate;\n",
              "  /* Definition of color scheme for fitted estimators */\n",
              "  --sklearn-color-fitted-level-0: #f0f8ff;\n",
              "  --sklearn-color-fitted-level-1: #d4ebff;\n",
              "  --sklearn-color-fitted-level-2: #b3dbfd;\n",
              "  --sklearn-color-fitted-level-3: cornflowerblue;\n",
              "\n",
              "  /* Specific color for light theme */\n",
              "  --sklearn-color-text-on-default-background: var(--sg-text-color, var(--theme-code-foreground, var(--jp-content-font-color1, black)));\n",
              "  --sklearn-color-background: var(--sg-background-color, var(--theme-background, var(--jp-layout-color0, white)));\n",
              "  --sklearn-color-border-box: var(--sg-text-color, var(--theme-code-foreground, var(--jp-content-font-color1, black)));\n",
              "  --sklearn-color-icon: #696969;\n",
              "\n",
              "  @media (prefers-color-scheme: dark) {\n",
              "    /* Redefinition of color scheme for dark theme */\n",
              "    --sklearn-color-text-on-default-background: var(--sg-text-color, var(--theme-code-foreground, var(--jp-content-font-color1, white)));\n",
              "    --sklearn-color-background: var(--sg-background-color, var(--theme-background, var(--jp-layout-color0, #111)));\n",
              "    --sklearn-color-border-box: var(--sg-text-color, var(--theme-code-foreground, var(--jp-content-font-color1, white)));\n",
              "    --sklearn-color-icon: #878787;\n",
              "  }\n",
              "}\n",
              "\n",
              "#sk-container-id-6 {\n",
              "  color: var(--sklearn-color-text);\n",
              "}\n",
              "\n",
              "#sk-container-id-6 pre {\n",
              "  padding: 0;\n",
              "}\n",
              "\n",
              "#sk-container-id-6 input.sk-hidden--visually {\n",
              "  border: 0;\n",
              "  clip: rect(1px 1px 1px 1px);\n",
              "  clip: rect(1px, 1px, 1px, 1px);\n",
              "  height: 1px;\n",
              "  margin: -1px;\n",
              "  overflow: hidden;\n",
              "  padding: 0;\n",
              "  position: absolute;\n",
              "  width: 1px;\n",
              "}\n",
              "\n",
              "#sk-container-id-6 div.sk-dashed-wrapped {\n",
              "  border: 1px dashed var(--sklearn-color-line);\n",
              "  margin: 0 0.4em 0.5em 0.4em;\n",
              "  box-sizing: border-box;\n",
              "  padding-bottom: 0.4em;\n",
              "  background-color: var(--sklearn-color-background);\n",
              "}\n",
              "\n",
              "#sk-container-id-6 div.sk-container {\n",
              "  /* jupyter's `normalize.less` sets `[hidden] { display: none; }`\n",
              "     but bootstrap.min.css set `[hidden] { display: none !important; }`\n",
              "     so we also need the `!important` here to be able to override the\n",
              "     default hidden behavior on the sphinx rendered scikit-learn.org.\n",
              "     See: https://github.com/scikit-learn/scikit-learn/issues/21755 */\n",
              "  display: inline-block !important;\n",
              "  position: relative;\n",
              "}\n",
              "\n",
              "#sk-container-id-6 div.sk-text-repr-fallback {\n",
              "  display: none;\n",
              "}\n",
              "\n",
              "div.sk-parallel-item,\n",
              "div.sk-serial,\n",
              "div.sk-item {\n",
              "  /* draw centered vertical line to link estimators */\n",
              "  background-image: linear-gradient(var(--sklearn-color-text-on-default-background), var(--sklearn-color-text-on-default-background));\n",
              "  background-size: 2px 100%;\n",
              "  background-repeat: no-repeat;\n",
              "  background-position: center center;\n",
              "}\n",
              "\n",
              "/* Parallel-specific style estimator block */\n",
              "\n",
              "#sk-container-id-6 div.sk-parallel-item::after {\n",
              "  content: \"\";\n",
              "  width: 100%;\n",
              "  border-bottom: 2px solid var(--sklearn-color-text-on-default-background);\n",
              "  flex-grow: 1;\n",
              "}\n",
              "\n",
              "#sk-container-id-6 div.sk-parallel {\n",
              "  display: flex;\n",
              "  align-items: stretch;\n",
              "  justify-content: center;\n",
              "  background-color: var(--sklearn-color-background);\n",
              "  position: relative;\n",
              "}\n",
              "\n",
              "#sk-container-id-6 div.sk-parallel-item {\n",
              "  display: flex;\n",
              "  flex-direction: column;\n",
              "}\n",
              "\n",
              "#sk-container-id-6 div.sk-parallel-item:first-child::after {\n",
              "  align-self: flex-end;\n",
              "  width: 50%;\n",
              "}\n",
              "\n",
              "#sk-container-id-6 div.sk-parallel-item:last-child::after {\n",
              "  align-self: flex-start;\n",
              "  width: 50%;\n",
              "}\n",
              "\n",
              "#sk-container-id-6 div.sk-parallel-item:only-child::after {\n",
              "  width: 0;\n",
              "}\n",
              "\n",
              "/* Serial-specific style estimator block */\n",
              "\n",
              "#sk-container-id-6 div.sk-serial {\n",
              "  display: flex;\n",
              "  flex-direction: column;\n",
              "  align-items: center;\n",
              "  background-color: var(--sklearn-color-background);\n",
              "  padding-right: 1em;\n",
              "  padding-left: 1em;\n",
              "}\n",
              "\n",
              "\n",
              "/* Toggleable style: style used for estimator/Pipeline/ColumnTransformer box that is\n",
              "clickable and can be expanded/collapsed.\n",
              "- Pipeline and ColumnTransformer use this feature and define the default style\n",
              "- Estimators will overwrite some part of the style using the `sk-estimator` class\n",
              "*/\n",
              "\n",
              "/* Pipeline and ColumnTransformer style (default) */\n",
              "\n",
              "#sk-container-id-6 div.sk-toggleable {\n",
              "  /* Default theme specific background. It is overwritten whether we have a\n",
              "  specific estimator or a Pipeline/ColumnTransformer */\n",
              "  background-color: var(--sklearn-color-background);\n",
              "}\n",
              "\n",
              "/* Toggleable label */\n",
              "#sk-container-id-6 label.sk-toggleable__label {\n",
              "  cursor: pointer;\n",
              "  display: flex;\n",
              "  width: 100%;\n",
              "  margin-bottom: 0;\n",
              "  padding: 0.5em;\n",
              "  box-sizing: border-box;\n",
              "  text-align: center;\n",
              "  align-items: start;\n",
              "  justify-content: space-between;\n",
              "  gap: 0.5em;\n",
              "}\n",
              "\n",
              "#sk-container-id-6 label.sk-toggleable__label .caption {\n",
              "  font-size: 0.6rem;\n",
              "  font-weight: lighter;\n",
              "  color: var(--sklearn-color-text-muted);\n",
              "}\n",
              "\n",
              "#sk-container-id-6 label.sk-toggleable__label-arrow:before {\n",
              "  /* Arrow on the left of the label */\n",
              "  content: \"▸\";\n",
              "  float: left;\n",
              "  margin-right: 0.25em;\n",
              "  color: var(--sklearn-color-icon);\n",
              "}\n",
              "\n",
              "#sk-container-id-6 label.sk-toggleable__label-arrow:hover:before {\n",
              "  color: var(--sklearn-color-text);\n",
              "}\n",
              "\n",
              "/* Toggleable content - dropdown */\n",
              "\n",
              "#sk-container-id-6 div.sk-toggleable__content {\n",
              "  max-height: 0;\n",
              "  max-width: 0;\n",
              "  overflow: hidden;\n",
              "  text-align: left;\n",
              "  /* unfitted */\n",
              "  background-color: var(--sklearn-color-unfitted-level-0);\n",
              "}\n",
              "\n",
              "#sk-container-id-6 div.sk-toggleable__content.fitted {\n",
              "  /* fitted */\n",
              "  background-color: var(--sklearn-color-fitted-level-0);\n",
              "}\n",
              "\n",
              "#sk-container-id-6 div.sk-toggleable__content pre {\n",
              "  margin: 0.2em;\n",
              "  border-radius: 0.25em;\n",
              "  color: var(--sklearn-color-text);\n",
              "  /* unfitted */\n",
              "  background-color: var(--sklearn-color-unfitted-level-0);\n",
              "}\n",
              "\n",
              "#sk-container-id-6 div.sk-toggleable__content.fitted pre {\n",
              "  /* unfitted */\n",
              "  background-color: var(--sklearn-color-fitted-level-0);\n",
              "}\n",
              "\n",
              "#sk-container-id-6 input.sk-toggleable__control:checked~div.sk-toggleable__content {\n",
              "  /* Expand drop-down */\n",
              "  max-height: 200px;\n",
              "  max-width: 100%;\n",
              "  overflow: auto;\n",
              "}\n",
              "\n",
              "#sk-container-id-6 input.sk-toggleable__control:checked~label.sk-toggleable__label-arrow:before {\n",
              "  content: \"▾\";\n",
              "}\n",
              "\n",
              "/* Pipeline/ColumnTransformer-specific style */\n",
              "\n",
              "#sk-container-id-6 div.sk-label input.sk-toggleable__control:checked~label.sk-toggleable__label {\n",
              "  color: var(--sklearn-color-text);\n",
              "  background-color: var(--sklearn-color-unfitted-level-2);\n",
              "}\n",
              "\n",
              "#sk-container-id-6 div.sk-label.fitted input.sk-toggleable__control:checked~label.sk-toggleable__label {\n",
              "  background-color: var(--sklearn-color-fitted-level-2);\n",
              "}\n",
              "\n",
              "/* Estimator-specific style */\n",
              "\n",
              "/* Colorize estimator box */\n",
              "#sk-container-id-6 div.sk-estimator input.sk-toggleable__control:checked~label.sk-toggleable__label {\n",
              "  /* unfitted */\n",
              "  background-color: var(--sklearn-color-unfitted-level-2);\n",
              "}\n",
              "\n",
              "#sk-container-id-6 div.sk-estimator.fitted input.sk-toggleable__control:checked~label.sk-toggleable__label {\n",
              "  /* fitted */\n",
              "  background-color: var(--sklearn-color-fitted-level-2);\n",
              "}\n",
              "\n",
              "#sk-container-id-6 div.sk-label label.sk-toggleable__label,\n",
              "#sk-container-id-6 div.sk-label label {\n",
              "  /* The background is the default theme color */\n",
              "  color: var(--sklearn-color-text-on-default-background);\n",
              "}\n",
              "\n",
              "/* On hover, darken the color of the background */\n",
              "#sk-container-id-6 div.sk-label:hover label.sk-toggleable__label {\n",
              "  color: var(--sklearn-color-text);\n",
              "  background-color: var(--sklearn-color-unfitted-level-2);\n",
              "}\n",
              "\n",
              "/* Label box, darken color on hover, fitted */\n",
              "#sk-container-id-6 div.sk-label.fitted:hover label.sk-toggleable__label.fitted {\n",
              "  color: var(--sklearn-color-text);\n",
              "  background-color: var(--sklearn-color-fitted-level-2);\n",
              "}\n",
              "\n",
              "/* Estimator label */\n",
              "\n",
              "#sk-container-id-6 div.sk-label label {\n",
              "  font-family: monospace;\n",
              "  font-weight: bold;\n",
              "  display: inline-block;\n",
              "  line-height: 1.2em;\n",
              "}\n",
              "\n",
              "#sk-container-id-6 div.sk-label-container {\n",
              "  text-align: center;\n",
              "}\n",
              "\n",
              "/* Estimator-specific */\n",
              "#sk-container-id-6 div.sk-estimator {\n",
              "  font-family: monospace;\n",
              "  border: 1px dotted var(--sklearn-color-border-box);\n",
              "  border-radius: 0.25em;\n",
              "  box-sizing: border-box;\n",
              "  margin-bottom: 0.5em;\n",
              "  /* unfitted */\n",
              "  background-color: var(--sklearn-color-unfitted-level-0);\n",
              "}\n",
              "\n",
              "#sk-container-id-6 div.sk-estimator.fitted {\n",
              "  /* fitted */\n",
              "  background-color: var(--sklearn-color-fitted-level-0);\n",
              "}\n",
              "\n",
              "/* on hover */\n",
              "#sk-container-id-6 div.sk-estimator:hover {\n",
              "  /* unfitted */\n",
              "  background-color: var(--sklearn-color-unfitted-level-2);\n",
              "}\n",
              "\n",
              "#sk-container-id-6 div.sk-estimator.fitted:hover {\n",
              "  /* fitted */\n",
              "  background-color: var(--sklearn-color-fitted-level-2);\n",
              "}\n",
              "\n",
              "/* Specification for estimator info (e.g. \"i\" and \"?\") */\n",
              "\n",
              "/* Common style for \"i\" and \"?\" */\n",
              "\n",
              ".sk-estimator-doc-link,\n",
              "a:link.sk-estimator-doc-link,\n",
              "a:visited.sk-estimator-doc-link {\n",
              "  float: right;\n",
              "  font-size: smaller;\n",
              "  line-height: 1em;\n",
              "  font-family: monospace;\n",
              "  background-color: var(--sklearn-color-background);\n",
              "  border-radius: 1em;\n",
              "  height: 1em;\n",
              "  width: 1em;\n",
              "  text-decoration: none !important;\n",
              "  margin-left: 0.5em;\n",
              "  text-align: center;\n",
              "  /* unfitted */\n",
              "  border: var(--sklearn-color-unfitted-level-1) 1pt solid;\n",
              "  color: var(--sklearn-color-unfitted-level-1);\n",
              "}\n",
              "\n",
              ".sk-estimator-doc-link.fitted,\n",
              "a:link.sk-estimator-doc-link.fitted,\n",
              "a:visited.sk-estimator-doc-link.fitted {\n",
              "  /* fitted */\n",
              "  border: var(--sklearn-color-fitted-level-1) 1pt solid;\n",
              "  color: var(--sklearn-color-fitted-level-1);\n",
              "}\n",
              "\n",
              "/* On hover */\n",
              "div.sk-estimator:hover .sk-estimator-doc-link:hover,\n",
              ".sk-estimator-doc-link:hover,\n",
              "div.sk-label-container:hover .sk-estimator-doc-link:hover,\n",
              ".sk-estimator-doc-link:hover {\n",
              "  /* unfitted */\n",
              "  background-color: var(--sklearn-color-unfitted-level-3);\n",
              "  color: var(--sklearn-color-background);\n",
              "  text-decoration: none;\n",
              "}\n",
              "\n",
              "div.sk-estimator.fitted:hover .sk-estimator-doc-link.fitted:hover,\n",
              ".sk-estimator-doc-link.fitted:hover,\n",
              "div.sk-label-container:hover .sk-estimator-doc-link.fitted:hover,\n",
              ".sk-estimator-doc-link.fitted:hover {\n",
              "  /* fitted */\n",
              "  background-color: var(--sklearn-color-fitted-level-3);\n",
              "  color: var(--sklearn-color-background);\n",
              "  text-decoration: none;\n",
              "}\n",
              "\n",
              "/* Span, style for the box shown on hovering the info icon */\n",
              ".sk-estimator-doc-link span {\n",
              "  display: none;\n",
              "  z-index: 9999;\n",
              "  position: relative;\n",
              "  font-weight: normal;\n",
              "  right: .2ex;\n",
              "  padding: .5ex;\n",
              "  margin: .5ex;\n",
              "  width: min-content;\n",
              "  min-width: 20ex;\n",
              "  max-width: 50ex;\n",
              "  color: var(--sklearn-color-text);\n",
              "  box-shadow: 2pt 2pt 4pt #999;\n",
              "  /* unfitted */\n",
              "  background: var(--sklearn-color-unfitted-level-0);\n",
              "  border: .5pt solid var(--sklearn-color-unfitted-level-3);\n",
              "}\n",
              "\n",
              ".sk-estimator-doc-link.fitted span {\n",
              "  /* fitted */\n",
              "  background: var(--sklearn-color-fitted-level-0);\n",
              "  border: var(--sklearn-color-fitted-level-3);\n",
              "}\n",
              "\n",
              ".sk-estimator-doc-link:hover span {\n",
              "  display: block;\n",
              "}\n",
              "\n",
              "/* \"?\"-specific style due to the `<a>` HTML tag */\n",
              "\n",
              "#sk-container-id-6 a.estimator_doc_link {\n",
              "  float: right;\n",
              "  font-size: 1rem;\n",
              "  line-height: 1em;\n",
              "  font-family: monospace;\n",
              "  background-color: var(--sklearn-color-background);\n",
              "  border-radius: 1rem;\n",
              "  height: 1rem;\n",
              "  width: 1rem;\n",
              "  text-decoration: none;\n",
              "  /* unfitted */\n",
              "  color: var(--sklearn-color-unfitted-level-1);\n",
              "  border: var(--sklearn-color-unfitted-level-1) 1pt solid;\n",
              "}\n",
              "\n",
              "#sk-container-id-6 a.estimator_doc_link.fitted {\n",
              "  /* fitted */\n",
              "  border: var(--sklearn-color-fitted-level-1) 1pt solid;\n",
              "  color: var(--sklearn-color-fitted-level-1);\n",
              "}\n",
              "\n",
              "/* On hover */\n",
              "#sk-container-id-6 a.estimator_doc_link:hover {\n",
              "  /* unfitted */\n",
              "  background-color: var(--sklearn-color-unfitted-level-3);\n",
              "  color: var(--sklearn-color-background);\n",
              "  text-decoration: none;\n",
              "}\n",
              "\n",
              "#sk-container-id-6 a.estimator_doc_link.fitted:hover {\n",
              "  /* fitted */\n",
              "  background-color: var(--sklearn-color-fitted-level-3);\n",
              "}\n",
              "</style><div id=\"sk-container-id-6\" class=\"sk-top-container\"><div class=\"sk-text-repr-fallback\"><pre>RandomForestRegressor(random_state=42)</pre><b>In a Jupyter environment, please rerun this cell to show the HTML representation or trust the notebook. <br />On GitHub, the HTML representation is unable to render, please try loading this page with nbviewer.org.</b></div><div class=\"sk-container\" hidden><div class=\"sk-item\"><div class=\"sk-estimator fitted sk-toggleable\"><input class=\"sk-toggleable__control sk-hidden--visually\" id=\"sk-estimator-id-6\" type=\"checkbox\" checked><label for=\"sk-estimator-id-6\" class=\"sk-toggleable__label fitted sk-toggleable__label-arrow\"><div><div>RandomForestRegressor</div></div><div><a class=\"sk-estimator-doc-link fitted\" rel=\"noreferrer\" target=\"_blank\" href=\"https://scikit-learn.org/1.6/modules/generated/sklearn.ensemble.RandomForestRegressor.html\">?<span>Documentation for RandomForestRegressor</span></a><span class=\"sk-estimator-doc-link fitted\">i<span>Fitted</span></span></div></label><div class=\"sk-toggleable__content fitted\"><pre>RandomForestRegressor(random_state=42)</pre></div> </div></div></div></div>"
            ]
          },
          "metadata": {},
          "execution_count": 189
        }
      ]
    },
    {
      "cell_type": "markdown",
      "source": [
        "Making Predictions"
      ],
      "metadata": {
        "id": "T4y2WmsuwRad"
      }
    },
    {
      "cell_type": "code",
      "source": [
        "y__pred = model.predict(x_test)"
      ],
      "metadata": {
        "id": "uhxmHl3Ivxrv"
      },
      "execution_count": 190,
      "outputs": []
    },
    {
      "cell_type": "code",
      "source": [
        "print(y__pred)"
      ],
      "metadata": {
        "colab": {
          "base_uri": "https://localhost:8080/",
          "height": 0
        },
        "id": "EenILMw4wLM5",
        "outputId": "77ea270f-6979-4695-8bf2-09e8e2980be5",
        "collapsed": true
      },
      "execution_count": 191,
      "outputs": [
        {
          "output_type": "stream",
          "name": "stdout",
          "text": [
            "[1.91 8.05 1.81 ... 3.34 8.13 3.54]\n"
          ]
        }
      ]
    },
    {
      "cell_type": "markdown",
      "source": [
        "Evaluating The Model"
      ],
      "metadata": {
        "id": "p4DgJRzMwT-r"
      }
    },
    {
      "cell_type": "code",
      "source": [
        "MSE = mean_squared_error(y_test, y__pred)"
      ],
      "metadata": {
        "id": "wGA4meQ0wWx_"
      },
      "execution_count": 192,
      "outputs": []
    },
    {
      "cell_type": "code",
      "source": [
        "print(f\"Mean Squared Error: {MSE}\")"
      ],
      "metadata": {
        "colab": {
          "base_uri": "https://localhost:8080/",
          "height": 0
        },
        "id": "PDGbZMdewbBo",
        "outputId": "b9d97aac-bd48-44a6-f91e-b86a9b103815",
        "collapsed": true
      },
      "execution_count": 193,
      "outputs": [
        {
          "output_type": "stream",
          "name": "stdout",
          "text": [
            "Mean Squared Error: 0.006942995984393479\n"
          ]
        }
      ]
    },
    {
      "cell_type": "code",
      "source": [
        "R2_sklearn = r2_score(y_test, y__pred)"
      ],
      "metadata": {
        "id": "OHkdlFYfyIDR"
      },
      "execution_count": 194,
      "outputs": []
    },
    {
      "cell_type": "code",
      "source": [
        "print(R2_sklearn)"
      ],
      "metadata": {
        "colab": {
          "base_uri": "https://localhost:8080/",
          "height": 0
        },
        "id": "BUsmmd1lyJ2C",
        "outputId": "99a396f9-8322-4104-dddd-f33b9273c353",
        "collapsed": true
      },
      "execution_count": 195,
      "outputs": [
        {
          "output_type": "stream",
          "name": "stdout",
          "text": [
            "0.9998413965409506\n"
          ]
        }
      ]
    }
  ]
}