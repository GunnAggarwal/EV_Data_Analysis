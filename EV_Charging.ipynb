{
  "nbformat": 4,
  "nbformat_minor": 0,
  "metadata": {
    "colab": {
      "provenance": []
    },
    "kernelspec": {
      "name": "python3",
      "display_name": "Python 3"
    },
    "language_info": {
      "name": "python"
    }
  },
  "cells": [
    {
      "cell_type": "code",
      "execution_count": null,
      "metadata": {
        "id": "oRkJQ9EorOUz",
        "colab": {
          "base_uri": "https://localhost:8080/",
          "height": 90
        },
        "outputId": "ea97a2d9-197f-4051-f656-80ad720365ca"
      },
      "outputs": [
        {
          "output_type": "display_data",
          "data": {
            "text/plain": [
              "<IPython.core.display.HTML object>"
            ],
            "text/html": [
              "\n",
              "     <input type=\"file\" id=\"files-46506d8e-8131-4d8b-b042-7ae2aa6cb4d2\" name=\"files[]\" multiple disabled\n",
              "        style=\"border:none\" />\n",
              "     <output id=\"result-46506d8e-8131-4d8b-b042-7ae2aa6cb4d2\">\n",
              "      Upload widget is only available when the cell has been executed in the\n",
              "      current browser session. Please rerun this cell to enable.\n",
              "      </output>\n",
              "      <script>// Copyright 2017 Google LLC\n",
              "//\n",
              "// Licensed under the Apache License, Version 2.0 (the \"License\");\n",
              "// you may not use this file except in compliance with the License.\n",
              "// You may obtain a copy of the License at\n",
              "//\n",
              "//      http://www.apache.org/licenses/LICENSE-2.0\n",
              "//\n",
              "// Unless required by applicable law or agreed to in writing, software\n",
              "// distributed under the License is distributed on an \"AS IS\" BASIS,\n",
              "// WITHOUT WARRANTIES OR CONDITIONS OF ANY KIND, either express or implied.\n",
              "// See the License for the specific language governing permissions and\n",
              "// limitations under the License.\n",
              "\n",
              "/**\n",
              " * @fileoverview Helpers for google.colab Python module.\n",
              " */\n",
              "(function(scope) {\n",
              "function span(text, styleAttributes = {}) {\n",
              "  const element = document.createElement('span');\n",
              "  element.textContent = text;\n",
              "  for (const key of Object.keys(styleAttributes)) {\n",
              "    element.style[key] = styleAttributes[key];\n",
              "  }\n",
              "  return element;\n",
              "}\n",
              "\n",
              "// Max number of bytes which will be uploaded at a time.\n",
              "const MAX_PAYLOAD_SIZE = 100 * 1024;\n",
              "\n",
              "function _uploadFiles(inputId, outputId) {\n",
              "  const steps = uploadFilesStep(inputId, outputId);\n",
              "  const outputElement = document.getElementById(outputId);\n",
              "  // Cache steps on the outputElement to make it available for the next call\n",
              "  // to uploadFilesContinue from Python.\n",
              "  outputElement.steps = steps;\n",
              "\n",
              "  return _uploadFilesContinue(outputId);\n",
              "}\n",
              "\n",
              "// This is roughly an async generator (not supported in the browser yet),\n",
              "// where there are multiple asynchronous steps and the Python side is going\n",
              "// to poll for completion of each step.\n",
              "// This uses a Promise to block the python side on completion of each step,\n",
              "// then passes the result of the previous step as the input to the next step.\n",
              "function _uploadFilesContinue(outputId) {\n",
              "  const outputElement = document.getElementById(outputId);\n",
              "  const steps = outputElement.steps;\n",
              "\n",
              "  const next = steps.next(outputElement.lastPromiseValue);\n",
              "  return Promise.resolve(next.value.promise).then((value) => {\n",
              "    // Cache the last promise value to make it available to the next\n",
              "    // step of the generator.\n",
              "    outputElement.lastPromiseValue = value;\n",
              "    return next.value.response;\n",
              "  });\n",
              "}\n",
              "\n",
              "/**\n",
              " * Generator function which is called between each async step of the upload\n",
              " * process.\n",
              " * @param {string} inputId Element ID of the input file picker element.\n",
              " * @param {string} outputId Element ID of the output display.\n",
              " * @return {!Iterable<!Object>} Iterable of next steps.\n",
              " */\n",
              "function* uploadFilesStep(inputId, outputId) {\n",
              "  const inputElement = document.getElementById(inputId);\n",
              "  inputElement.disabled = false;\n",
              "\n",
              "  const outputElement = document.getElementById(outputId);\n",
              "  outputElement.innerHTML = '';\n",
              "\n",
              "  const pickedPromise = new Promise((resolve) => {\n",
              "    inputElement.addEventListener('change', (e) => {\n",
              "      resolve(e.target.files);\n",
              "    });\n",
              "  });\n",
              "\n",
              "  const cancel = document.createElement('button');\n",
              "  inputElement.parentElement.appendChild(cancel);\n",
              "  cancel.textContent = 'Cancel upload';\n",
              "  const cancelPromise = new Promise((resolve) => {\n",
              "    cancel.onclick = () => {\n",
              "      resolve(null);\n",
              "    };\n",
              "  });\n",
              "\n",
              "  // Wait for the user to pick the files.\n",
              "  const files = yield {\n",
              "    promise: Promise.race([pickedPromise, cancelPromise]),\n",
              "    response: {\n",
              "      action: 'starting',\n",
              "    }\n",
              "  };\n",
              "\n",
              "  cancel.remove();\n",
              "\n",
              "  // Disable the input element since further picks are not allowed.\n",
              "  inputElement.disabled = true;\n",
              "\n",
              "  if (!files) {\n",
              "    return {\n",
              "      response: {\n",
              "        action: 'complete',\n",
              "      }\n",
              "    };\n",
              "  }\n",
              "\n",
              "  for (const file of files) {\n",
              "    const li = document.createElement('li');\n",
              "    li.append(span(file.name, {fontWeight: 'bold'}));\n",
              "    li.append(span(\n",
              "        `(${file.type || 'n/a'}) - ${file.size} bytes, ` +\n",
              "        `last modified: ${\n",
              "            file.lastModifiedDate ? file.lastModifiedDate.toLocaleDateString() :\n",
              "                                    'n/a'} - `));\n",
              "    const percent = span('0% done');\n",
              "    li.appendChild(percent);\n",
              "\n",
              "    outputElement.appendChild(li);\n",
              "\n",
              "    const fileDataPromise = new Promise((resolve) => {\n",
              "      const reader = new FileReader();\n",
              "      reader.onload = (e) => {\n",
              "        resolve(e.target.result);\n",
              "      };\n",
              "      reader.readAsArrayBuffer(file);\n",
              "    });\n",
              "    // Wait for the data to be ready.\n",
              "    let fileData = yield {\n",
              "      promise: fileDataPromise,\n",
              "      response: {\n",
              "        action: 'continue',\n",
              "      }\n",
              "    };\n",
              "\n",
              "    // Use a chunked sending to avoid message size limits. See b/62115660.\n",
              "    let position = 0;\n",
              "    do {\n",
              "      const length = Math.min(fileData.byteLength - position, MAX_PAYLOAD_SIZE);\n",
              "      const chunk = new Uint8Array(fileData, position, length);\n",
              "      position += length;\n",
              "\n",
              "      const base64 = btoa(String.fromCharCode.apply(null, chunk));\n",
              "      yield {\n",
              "        response: {\n",
              "          action: 'append',\n",
              "          file: file.name,\n",
              "          data: base64,\n",
              "        },\n",
              "      };\n",
              "\n",
              "      let percentDone = fileData.byteLength === 0 ?\n",
              "          100 :\n",
              "          Math.round((position / fileData.byteLength) * 100);\n",
              "      percent.textContent = `${percentDone}% done`;\n",
              "\n",
              "    } while (position < fileData.byteLength);\n",
              "  }\n",
              "\n",
              "  // All done.\n",
              "  yield {\n",
              "    response: {\n",
              "      action: 'complete',\n",
              "    }\n",
              "  };\n",
              "}\n",
              "\n",
              "scope.google = scope.google || {};\n",
              "scope.google.colab = scope.google.colab || {};\n",
              "scope.google.colab._files = {\n",
              "  _uploadFiles,\n",
              "  _uploadFilesContinue,\n",
              "};\n",
              "})(self);\n",
              "</script> "
            ]
          },
          "metadata": {}
        },
        {
          "output_type": "stream",
          "name": "stdout",
          "text": [
            "Saving EV_DS.xlsx to EV_DS.xlsx\n",
            "Drive already mounted at /content/drive; to attempt to forcibly remount, call drive.mount(\"/content/drive\", force_remount=True).\n"
          ]
        }
      ],
      "source": [
        "# Importing the necessary libraries\n",
        "import numpy as np\n",
        "import pandas as pd\n",
        "import matplotlib.pyplot as plt\n",
        "\n",
        "# Set up Matplotlib for inline plots\n",
        "%matplotlib inline\n",
        "\n",
        "from google.colab import files\n",
        "uploaded = files.upload()\n",
        "\n",
        "from google.colab import drive\n",
        "drive.mount('/content/drive')\n"
      ]
    },
    {
      "cell_type": "code",
      "source": [
        "import pandas as pd\n",
        "\n",
        "# Assuming the uploaded file is named 'dataset.csv'\n",
        "df = pd.read_csv('EV_DS.csv')\n",
        "\n",
        "# Display the first few rows of the DataFrame to confirm\n",
        "df.head()\n"
      ],
      "metadata": {
        "colab": {
          "base_uri": "https://localhost:8080/",
          "height": 310
        },
        "id": "MMTlHZc_s5tl",
        "outputId": "2827cb0c-3d78-45f3-dca5-9dfa03de2dd2"
      },
      "execution_count": null,
      "outputs": [
        {
          "output_type": "execute_result",
          "data": {
            "text/plain": [
              "   _id  CP ID  Connector           Start Date Start Time             End Date  \\\n",
              "0    1  51516          2  2019-08-31T00:00:00      23:26  2019-08-31T00:00:00   \n",
              "1    2  51249          1  2019-08-31T00:00:00      21:12  2019-08-31T00:00:00   \n",
              "2    3  50995          2  2019-08-31T00:00:00      20:26  2019-08-31T00:00:00   \n",
              "3    4  50839          1  2019-08-31T00:00:00      20:06  2019-08-31T00:00:00   \n",
              "4    5  50745          2  2019-08-31T00:00:00      19:43  2019-08-31T00:00:00   \n",
              "\n",
              "  End Time  Total kWh                                Site  \\\n",
              "0    23:54     12.780      Kinross Park and Ride, Kinross   \n",
              "1    21:32      5.700     Atholl Street Car Park, Dunkeld   \n",
              "2    21:20     27.680  Moness Terrace Car Park, Aberfeldy   \n",
              "3    23:03     17.526                  Mill Street, Perth   \n",
              "4    20:23     12.930      Kinross Park and Ride, Kinross   \n",
              "\n",
              "                          Model  \n",
              "0      APT Triple Rapid Charger  \n",
              "1  Siemens Triple Rapid Charger  \n",
              "2      APT Triple Rapid Charger  \n",
              "3              APT 22kW Raption  \n",
              "4      APT Triple Rapid Charger  "
            ],
            "text/html": [
              "\n",
              "  <div id=\"df-d234c171-8770-4939-873f-091a12a1a5d2\" class=\"colab-df-container\">\n",
              "    <div>\n",
              "<style scoped>\n",
              "    .dataframe tbody tr th:only-of-type {\n",
              "        vertical-align: middle;\n",
              "    }\n",
              "\n",
              "    .dataframe tbody tr th {\n",
              "        vertical-align: top;\n",
              "    }\n",
              "\n",
              "    .dataframe thead th {\n",
              "        text-align: right;\n",
              "    }\n",
              "</style>\n",
              "<table border=\"1\" class=\"dataframe\">\n",
              "  <thead>\n",
              "    <tr style=\"text-align: right;\">\n",
              "      <th></th>\n",
              "      <th>_id</th>\n",
              "      <th>CP ID</th>\n",
              "      <th>Connector</th>\n",
              "      <th>Start Date</th>\n",
              "      <th>Start Time</th>\n",
              "      <th>End Date</th>\n",
              "      <th>End Time</th>\n",
              "      <th>Total kWh</th>\n",
              "      <th>Site</th>\n",
              "      <th>Model</th>\n",
              "    </tr>\n",
              "  </thead>\n",
              "  <tbody>\n",
              "    <tr>\n",
              "      <th>0</th>\n",
              "      <td>1</td>\n",
              "      <td>51516</td>\n",
              "      <td>2</td>\n",
              "      <td>2019-08-31T00:00:00</td>\n",
              "      <td>23:26</td>\n",
              "      <td>2019-08-31T00:00:00</td>\n",
              "      <td>23:54</td>\n",
              "      <td>12.780</td>\n",
              "      <td>Kinross Park and Ride, Kinross</td>\n",
              "      <td>APT Triple Rapid Charger</td>\n",
              "    </tr>\n",
              "    <tr>\n",
              "      <th>1</th>\n",
              "      <td>2</td>\n",
              "      <td>51249</td>\n",
              "      <td>1</td>\n",
              "      <td>2019-08-31T00:00:00</td>\n",
              "      <td>21:12</td>\n",
              "      <td>2019-08-31T00:00:00</td>\n",
              "      <td>21:32</td>\n",
              "      <td>5.700</td>\n",
              "      <td>Atholl Street Car Park, Dunkeld</td>\n",
              "      <td>Siemens Triple Rapid Charger</td>\n",
              "    </tr>\n",
              "    <tr>\n",
              "      <th>2</th>\n",
              "      <td>3</td>\n",
              "      <td>50995</td>\n",
              "      <td>2</td>\n",
              "      <td>2019-08-31T00:00:00</td>\n",
              "      <td>20:26</td>\n",
              "      <td>2019-08-31T00:00:00</td>\n",
              "      <td>21:20</td>\n",
              "      <td>27.680</td>\n",
              "      <td>Moness Terrace Car Park, Aberfeldy</td>\n",
              "      <td>APT Triple Rapid Charger</td>\n",
              "    </tr>\n",
              "    <tr>\n",
              "      <th>3</th>\n",
              "      <td>4</td>\n",
              "      <td>50839</td>\n",
              "      <td>1</td>\n",
              "      <td>2019-08-31T00:00:00</td>\n",
              "      <td>20:06</td>\n",
              "      <td>2019-08-31T00:00:00</td>\n",
              "      <td>23:03</td>\n",
              "      <td>17.526</td>\n",
              "      <td>Mill Street, Perth</td>\n",
              "      <td>APT 22kW Raption</td>\n",
              "    </tr>\n",
              "    <tr>\n",
              "      <th>4</th>\n",
              "      <td>5</td>\n",
              "      <td>50745</td>\n",
              "      <td>2</td>\n",
              "      <td>2019-08-31T00:00:00</td>\n",
              "      <td>19:43</td>\n",
              "      <td>2019-08-31T00:00:00</td>\n",
              "      <td>20:23</td>\n",
              "      <td>12.930</td>\n",
              "      <td>Kinross Park and Ride, Kinross</td>\n",
              "      <td>APT Triple Rapid Charger</td>\n",
              "    </tr>\n",
              "  </tbody>\n",
              "</table>\n",
              "</div>\n",
              "    <div class=\"colab-df-buttons\">\n",
              "\n",
              "  <div class=\"colab-df-container\">\n",
              "    <button class=\"colab-df-convert\" onclick=\"convertToInteractive('df-d234c171-8770-4939-873f-091a12a1a5d2')\"\n",
              "            title=\"Convert this dataframe to an interactive table.\"\n",
              "            style=\"display:none;\">\n",
              "\n",
              "  <svg xmlns=\"http://www.w3.org/2000/svg\" height=\"24px\" viewBox=\"0 -960 960 960\">\n",
              "    <path d=\"M120-120v-720h720v720H120Zm60-500h600v-160H180v160Zm220 220h160v-160H400v160Zm0 220h160v-160H400v160ZM180-400h160v-160H180v160Zm440 0h160v-160H620v160ZM180-180h160v-160H180v160Zm440 0h160v-160H620v160Z\"/>\n",
              "  </svg>\n",
              "    </button>\n",
              "\n",
              "  <style>\n",
              "    .colab-df-container {\n",
              "      display:flex;\n",
              "      gap: 12px;\n",
              "    }\n",
              "\n",
              "    .colab-df-convert {\n",
              "      background-color: #E8F0FE;\n",
              "      border: none;\n",
              "      border-radius: 50%;\n",
              "      cursor: pointer;\n",
              "      display: none;\n",
              "      fill: #1967D2;\n",
              "      height: 32px;\n",
              "      padding: 0 0 0 0;\n",
              "      width: 32px;\n",
              "    }\n",
              "\n",
              "    .colab-df-convert:hover {\n",
              "      background-color: #E2EBFA;\n",
              "      box-shadow: 0px 1px 2px rgba(60, 64, 67, 0.3), 0px 1px 3px 1px rgba(60, 64, 67, 0.15);\n",
              "      fill: #174EA6;\n",
              "    }\n",
              "\n",
              "    .colab-df-buttons div {\n",
              "      margin-bottom: 4px;\n",
              "    }\n",
              "\n",
              "    [theme=dark] .colab-df-convert {\n",
              "      background-color: #3B4455;\n",
              "      fill: #D2E3FC;\n",
              "    }\n",
              "\n",
              "    [theme=dark] .colab-df-convert:hover {\n",
              "      background-color: #434B5C;\n",
              "      box-shadow: 0px 1px 3px 1px rgba(0, 0, 0, 0.15);\n",
              "      filter: drop-shadow(0px 1px 2px rgba(0, 0, 0, 0.3));\n",
              "      fill: #FFFFFF;\n",
              "    }\n",
              "  </style>\n",
              "\n",
              "    <script>\n",
              "      const buttonEl =\n",
              "        document.querySelector('#df-d234c171-8770-4939-873f-091a12a1a5d2 button.colab-df-convert');\n",
              "      buttonEl.style.display =\n",
              "        google.colab.kernel.accessAllowed ? 'block' : 'none';\n",
              "\n",
              "      async function convertToInteractive(key) {\n",
              "        const element = document.querySelector('#df-d234c171-8770-4939-873f-091a12a1a5d2');\n",
              "        const dataTable =\n",
              "          await google.colab.kernel.invokeFunction('convertToInteractive',\n",
              "                                                    [key], {});\n",
              "        if (!dataTable) return;\n",
              "\n",
              "        const docLinkHtml = 'Like what you see? Visit the ' +\n",
              "          '<a target=\"_blank\" href=https://colab.research.google.com/notebooks/data_table.ipynb>data table notebook</a>'\n",
              "          + ' to learn more about interactive tables.';\n",
              "        element.innerHTML = '';\n",
              "        dataTable['output_type'] = 'display_data';\n",
              "        await google.colab.output.renderOutput(dataTable, element);\n",
              "        const docLink = document.createElement('div');\n",
              "        docLink.innerHTML = docLinkHtml;\n",
              "        element.appendChild(docLink);\n",
              "      }\n",
              "    </script>\n",
              "  </div>\n",
              "\n",
              "\n",
              "<div id=\"df-e265409f-4cc0-4990-a71f-b9ff9de8eac0\">\n",
              "  <button class=\"colab-df-quickchart\" onclick=\"quickchart('df-e265409f-4cc0-4990-a71f-b9ff9de8eac0')\"\n",
              "            title=\"Suggest charts\"\n",
              "            style=\"display:none;\">\n",
              "\n",
              "<svg xmlns=\"http://www.w3.org/2000/svg\" height=\"24px\"viewBox=\"0 0 24 24\"\n",
              "     width=\"24px\">\n",
              "    <g>\n",
              "        <path d=\"M19 3H5c-1.1 0-2 .9-2 2v14c0 1.1.9 2 2 2h14c1.1 0 2-.9 2-2V5c0-1.1-.9-2-2-2zM9 17H7v-7h2v7zm4 0h-2V7h2v10zm4 0h-2v-4h2v4z\"/>\n",
              "    </g>\n",
              "</svg>\n",
              "  </button>\n",
              "\n",
              "<style>\n",
              "  .colab-df-quickchart {\n",
              "      --bg-color: #E8F0FE;\n",
              "      --fill-color: #1967D2;\n",
              "      --hover-bg-color: #E2EBFA;\n",
              "      --hover-fill-color: #174EA6;\n",
              "      --disabled-fill-color: #AAA;\n",
              "      --disabled-bg-color: #DDD;\n",
              "  }\n",
              "\n",
              "  [theme=dark] .colab-df-quickchart {\n",
              "      --bg-color: #3B4455;\n",
              "      --fill-color: #D2E3FC;\n",
              "      --hover-bg-color: #434B5C;\n",
              "      --hover-fill-color: #FFFFFF;\n",
              "      --disabled-bg-color: #3B4455;\n",
              "      --disabled-fill-color: #666;\n",
              "  }\n",
              "\n",
              "  .colab-df-quickchart {\n",
              "    background-color: var(--bg-color);\n",
              "    border: none;\n",
              "    border-radius: 50%;\n",
              "    cursor: pointer;\n",
              "    display: none;\n",
              "    fill: var(--fill-color);\n",
              "    height: 32px;\n",
              "    padding: 0;\n",
              "    width: 32px;\n",
              "  }\n",
              "\n",
              "  .colab-df-quickchart:hover {\n",
              "    background-color: var(--hover-bg-color);\n",
              "    box-shadow: 0 1px 2px rgba(60, 64, 67, 0.3), 0 1px 3px 1px rgba(60, 64, 67, 0.15);\n",
              "    fill: var(--button-hover-fill-color);\n",
              "  }\n",
              "\n",
              "  .colab-df-quickchart-complete:disabled,\n",
              "  .colab-df-quickchart-complete:disabled:hover {\n",
              "    background-color: var(--disabled-bg-color);\n",
              "    fill: var(--disabled-fill-color);\n",
              "    box-shadow: none;\n",
              "  }\n",
              "\n",
              "  .colab-df-spinner {\n",
              "    border: 2px solid var(--fill-color);\n",
              "    border-color: transparent;\n",
              "    border-bottom-color: var(--fill-color);\n",
              "    animation:\n",
              "      spin 1s steps(1) infinite;\n",
              "  }\n",
              "\n",
              "  @keyframes spin {\n",
              "    0% {\n",
              "      border-color: transparent;\n",
              "      border-bottom-color: var(--fill-color);\n",
              "      border-left-color: var(--fill-color);\n",
              "    }\n",
              "    20% {\n",
              "      border-color: transparent;\n",
              "      border-left-color: var(--fill-color);\n",
              "      border-top-color: var(--fill-color);\n",
              "    }\n",
              "    30% {\n",
              "      border-color: transparent;\n",
              "      border-left-color: var(--fill-color);\n",
              "      border-top-color: var(--fill-color);\n",
              "      border-right-color: var(--fill-color);\n",
              "    }\n",
              "    40% {\n",
              "      border-color: transparent;\n",
              "      border-right-color: var(--fill-color);\n",
              "      border-top-color: var(--fill-color);\n",
              "    }\n",
              "    60% {\n",
              "      border-color: transparent;\n",
              "      border-right-color: var(--fill-color);\n",
              "    }\n",
              "    80% {\n",
              "      border-color: transparent;\n",
              "      border-right-color: var(--fill-color);\n",
              "      border-bottom-color: var(--fill-color);\n",
              "    }\n",
              "    90% {\n",
              "      border-color: transparent;\n",
              "      border-bottom-color: var(--fill-color);\n",
              "    }\n",
              "  }\n",
              "</style>\n",
              "\n",
              "  <script>\n",
              "    async function quickchart(key) {\n",
              "      const quickchartButtonEl =\n",
              "        document.querySelector('#' + key + ' button');\n",
              "      quickchartButtonEl.disabled = true;  // To prevent multiple clicks.\n",
              "      quickchartButtonEl.classList.add('colab-df-spinner');\n",
              "      try {\n",
              "        const charts = await google.colab.kernel.invokeFunction(\n",
              "            'suggestCharts', [key], {});\n",
              "      } catch (error) {\n",
              "        console.error('Error during call to suggestCharts:', error);\n",
              "      }\n",
              "      quickchartButtonEl.classList.remove('colab-df-spinner');\n",
              "      quickchartButtonEl.classList.add('colab-df-quickchart-complete');\n",
              "    }\n",
              "    (() => {\n",
              "      let quickchartButtonEl =\n",
              "        document.querySelector('#df-e265409f-4cc0-4990-a71f-b9ff9de8eac0 button');\n",
              "      quickchartButtonEl.style.display =\n",
              "        google.colab.kernel.accessAllowed ? 'block' : 'none';\n",
              "    })();\n",
              "  </script>\n",
              "</div>\n",
              "\n",
              "    </div>\n",
              "  </div>\n"
            ],
            "application/vnd.google.colaboratory.intrinsic+json": {
              "type": "dataframe",
              "variable_name": "df",
              "summary": "{\n  \"name\": \"df\",\n  \"rows\": 32711,\n  \"fields\": [\n    {\n      \"column\": \"_id\",\n      \"properties\": {\n        \"dtype\": \"number\",\n        \"std\": 9442,\n        \"min\": 1,\n        \"max\": 32711,\n        \"num_unique_values\": 32711,\n        \"samples\": [\n          5552,\n          32495,\n          16329\n        ],\n        \"semantic_type\": \"\",\n        \"description\": \"\"\n      }\n    },\n    {\n      \"column\": \"CP ID\",\n      \"properties\": {\n        \"dtype\": \"number\",\n        \"std\": 462,\n        \"min\": 50245,\n        \"max\": 51519,\n        \"num_unique_values\": 35,\n        \"samples\": [\n          51319,\n          51250,\n          51321\n        ],\n        \"semantic_type\": \"\",\n        \"description\": \"\"\n      }\n    },\n    {\n      \"column\": \"Connector\",\n      \"properties\": {\n        \"dtype\": \"number\",\n        \"std\": 0,\n        \"min\": 1,\n        \"max\": 3,\n        \"num_unique_values\": 3,\n        \"samples\": [\n          2,\n          1,\n          3\n        ],\n        \"semantic_type\": \"\",\n        \"description\": \"\"\n      }\n    },\n    {\n      \"column\": \"Start Date\",\n      \"properties\": {\n        \"dtype\": \"object\",\n        \"num_unique_values\": 365,\n        \"samples\": [\n          \"2019-02-19T00:00:00\",\n          \"2019-07-29T00:00:00\",\n          \"2019-08-16T00:00:00\"\n        ],\n        \"semantic_type\": \"\",\n        \"description\": \"\"\n      }\n    },\n    {\n      \"column\": \"Start Time\",\n      \"properties\": {\n        \"dtype\": \"object\",\n        \"num_unique_values\": 1327,\n        \"samples\": [\n          \"19:25\",\n          \"18:22\",\n          \"12:12\"\n        ],\n        \"semantic_type\": \"\",\n        \"description\": \"\"\n      }\n    },\n    {\n      \"column\": \"End Date\",\n      \"properties\": {\n        \"dtype\": \"object\",\n        \"num_unique_values\": 367,\n        \"samples\": [\n          \"2019-02-21T00:00:00\",\n          \"2019-07-30T00:00:00\",\n          \"2019-08-17T00:00:00\"\n        ],\n        \"semantic_type\": \"\",\n        \"description\": \"\"\n      }\n    },\n    {\n      \"column\": \"End Time\",\n      \"properties\": {\n        \"dtype\": \"object\",\n        \"num_unique_values\": 1334,\n        \"samples\": [\n          \"19:10\",\n          \"22:49\",\n          \"07:12\"\n        ],\n        \"semantic_type\": \"\",\n        \"description\": \"\"\n      }\n    },\n    {\n      \"column\": \"Total kWh\",\n      \"properties\": {\n        \"dtype\": \"number\",\n        \"std\": 9.021710244820726,\n        \"min\": -0.001,\n        \"max\": 287.71,\n        \"num_unique_values\": 10045,\n        \"samples\": [\n          0.386,\n          14.096,\n          3.906\n        ],\n        \"semantic_type\": \"\",\n        \"description\": \"\"\n      }\n    },\n    {\n      \"column\": \"Site\",\n      \"properties\": {\n        \"dtype\": \"category\",\n        \"num_unique_values\": 14,\n        \"samples\": [\n          \"King Street Car Park, Crieff\",\n          \"Friarton Depot, Perth\",\n          \"Kinross Park and Ride, Kinross\"\n        ],\n        \"semantic_type\": \"\",\n        \"description\": \"\"\n      }\n    },\n    {\n      \"column\": \"Model\",\n      \"properties\": {\n        \"dtype\": \"category\",\n        \"num_unique_values\": 7,\n        \"samples\": [\n          \"APT Triple Rapid Charger\",\n          \"Siemens Triple Rapid Charger\",\n          \"Siemens 7 kW Dual Outlet\"\n        ],\n        \"semantic_type\": \"\",\n        \"description\": \"\"\n      }\n    }\n  ]\n}"
            }
          },
          "metadata": {},
          "execution_count": 2
        }
      ]
    },
    {
      "cell_type": "code",
      "source": [
        "# Get the shape of the dataset (rows, columns)\n",
        "df.shape\n"
      ],
      "metadata": {
        "colab": {
          "base_uri": "https://localhost:8080/"
        },
        "id": "VUgrCmjAB07M",
        "outputId": "fa77e337-38db-4625-b971-412fff6b5ac7"
      },
      "execution_count": null,
      "outputs": [
        {
          "output_type": "execute_result",
          "data": {
            "text/plain": [
              "(32711, 10)"
            ]
          },
          "metadata": {},
          "execution_count": 3
        }
      ]
    },
    {
      "cell_type": "code",
      "source": [
        "df.info()"
      ],
      "metadata": {
        "colab": {
          "base_uri": "https://localhost:8080/"
        },
        "id": "EdE2O5jzCRR_",
        "outputId": "db1d7567-0d59-424d-9a1f-4c178d1492ea"
      },
      "execution_count": null,
      "outputs": [
        {
          "output_type": "stream",
          "name": "stdout",
          "text": [
            "<class 'pandas.core.frame.DataFrame'>\n",
            "RangeIndex: 32711 entries, 0 to 32710\n",
            "Data columns (total 10 columns):\n",
            " #   Column      Non-Null Count  Dtype  \n",
            "---  ------      --------------  -----  \n",
            " 0   _id         32711 non-null  int64  \n",
            " 1   CP ID       32711 non-null  int64  \n",
            " 2   Connector   32711 non-null  int64  \n",
            " 3   Start Date  32711 non-null  object \n",
            " 4   Start Time  32711 non-null  object \n",
            " 5   End Date    32606 non-null  object \n",
            " 6   End Time    32606 non-null  object \n",
            " 7   Total kWh   32606 non-null  float64\n",
            " 8   Site        32711 non-null  object \n",
            " 9   Model       32711 non-null  object \n",
            "dtypes: float64(1), int64(3), object(6)\n",
            "memory usage: 2.5+ MB\n"
          ]
        }
      ]
    },
    {
      "cell_type": "code",
      "source": [
        "df.describe()"
      ],
      "metadata": {
        "colab": {
          "base_uri": "https://localhost:8080/",
          "height": 300
        },
        "id": "9FfVv0VsCX3b",
        "outputId": "9d9ef507-b20b-4694-e876-18da217a89ea"
      },
      "execution_count": null,
      "outputs": [
        {
          "output_type": "execute_result",
          "data": {
            "text/plain": [
              "                _id         CP ID     Connector     Total kWh\n",
              "count  32711.000000  32711.000000  32711.000000  32606.000000\n",
              "mean   16356.000000  50885.607196      1.754395     10.865159\n",
              "std     9442.996664    462.711556      0.578024      9.021710\n",
              "min        1.000000  50245.000000      1.000000     -0.001000\n",
              "25%     8178.500000  50297.000000      1.000000      4.950000\n",
              "50%    16356.000000  50839.000000      2.000000      8.580000\n",
              "75%    24533.500000  51250.000000      2.000000     14.939750\n",
              "max    32711.000000  51519.000000      3.000000    287.710000"
            ],
            "text/html": [
              "\n",
              "  <div id=\"df-fcf005b4-368e-4ffb-9406-f99523071bbb\" class=\"colab-df-container\">\n",
              "    <div>\n",
              "<style scoped>\n",
              "    .dataframe tbody tr th:only-of-type {\n",
              "        vertical-align: middle;\n",
              "    }\n",
              "\n",
              "    .dataframe tbody tr th {\n",
              "        vertical-align: top;\n",
              "    }\n",
              "\n",
              "    .dataframe thead th {\n",
              "        text-align: right;\n",
              "    }\n",
              "</style>\n",
              "<table border=\"1\" class=\"dataframe\">\n",
              "  <thead>\n",
              "    <tr style=\"text-align: right;\">\n",
              "      <th></th>\n",
              "      <th>_id</th>\n",
              "      <th>CP ID</th>\n",
              "      <th>Connector</th>\n",
              "      <th>Total kWh</th>\n",
              "    </tr>\n",
              "  </thead>\n",
              "  <tbody>\n",
              "    <tr>\n",
              "      <th>count</th>\n",
              "      <td>32711.000000</td>\n",
              "      <td>32711.000000</td>\n",
              "      <td>32711.000000</td>\n",
              "      <td>32606.000000</td>\n",
              "    </tr>\n",
              "    <tr>\n",
              "      <th>mean</th>\n",
              "      <td>16356.000000</td>\n",
              "      <td>50885.607196</td>\n",
              "      <td>1.754395</td>\n",
              "      <td>10.865159</td>\n",
              "    </tr>\n",
              "    <tr>\n",
              "      <th>std</th>\n",
              "      <td>9442.996664</td>\n",
              "      <td>462.711556</td>\n",
              "      <td>0.578024</td>\n",
              "      <td>9.021710</td>\n",
              "    </tr>\n",
              "    <tr>\n",
              "      <th>min</th>\n",
              "      <td>1.000000</td>\n",
              "      <td>50245.000000</td>\n",
              "      <td>1.000000</td>\n",
              "      <td>-0.001000</td>\n",
              "    </tr>\n",
              "    <tr>\n",
              "      <th>25%</th>\n",
              "      <td>8178.500000</td>\n",
              "      <td>50297.000000</td>\n",
              "      <td>1.000000</td>\n",
              "      <td>4.950000</td>\n",
              "    </tr>\n",
              "    <tr>\n",
              "      <th>50%</th>\n",
              "      <td>16356.000000</td>\n",
              "      <td>50839.000000</td>\n",
              "      <td>2.000000</td>\n",
              "      <td>8.580000</td>\n",
              "    </tr>\n",
              "    <tr>\n",
              "      <th>75%</th>\n",
              "      <td>24533.500000</td>\n",
              "      <td>51250.000000</td>\n",
              "      <td>2.000000</td>\n",
              "      <td>14.939750</td>\n",
              "    </tr>\n",
              "    <tr>\n",
              "      <th>max</th>\n",
              "      <td>32711.000000</td>\n",
              "      <td>51519.000000</td>\n",
              "      <td>3.000000</td>\n",
              "      <td>287.710000</td>\n",
              "    </tr>\n",
              "  </tbody>\n",
              "</table>\n",
              "</div>\n",
              "    <div class=\"colab-df-buttons\">\n",
              "\n",
              "  <div class=\"colab-df-container\">\n",
              "    <button class=\"colab-df-convert\" onclick=\"convertToInteractive('df-fcf005b4-368e-4ffb-9406-f99523071bbb')\"\n",
              "            title=\"Convert this dataframe to an interactive table.\"\n",
              "            style=\"display:none;\">\n",
              "\n",
              "  <svg xmlns=\"http://www.w3.org/2000/svg\" height=\"24px\" viewBox=\"0 -960 960 960\">\n",
              "    <path d=\"M120-120v-720h720v720H120Zm60-500h600v-160H180v160Zm220 220h160v-160H400v160Zm0 220h160v-160H400v160ZM180-400h160v-160H180v160Zm440 0h160v-160H620v160ZM180-180h160v-160H180v160Zm440 0h160v-160H620v160Z\"/>\n",
              "  </svg>\n",
              "    </button>\n",
              "\n",
              "  <style>\n",
              "    .colab-df-container {\n",
              "      display:flex;\n",
              "      gap: 12px;\n",
              "    }\n",
              "\n",
              "    .colab-df-convert {\n",
              "      background-color: #E8F0FE;\n",
              "      border: none;\n",
              "      border-radius: 50%;\n",
              "      cursor: pointer;\n",
              "      display: none;\n",
              "      fill: #1967D2;\n",
              "      height: 32px;\n",
              "      padding: 0 0 0 0;\n",
              "      width: 32px;\n",
              "    }\n",
              "\n",
              "    .colab-df-convert:hover {\n",
              "      background-color: #E2EBFA;\n",
              "      box-shadow: 0px 1px 2px rgba(60, 64, 67, 0.3), 0px 1px 3px 1px rgba(60, 64, 67, 0.15);\n",
              "      fill: #174EA6;\n",
              "    }\n",
              "\n",
              "    .colab-df-buttons div {\n",
              "      margin-bottom: 4px;\n",
              "    }\n",
              "\n",
              "    [theme=dark] .colab-df-convert {\n",
              "      background-color: #3B4455;\n",
              "      fill: #D2E3FC;\n",
              "    }\n",
              "\n",
              "    [theme=dark] .colab-df-convert:hover {\n",
              "      background-color: #434B5C;\n",
              "      box-shadow: 0px 1px 3px 1px rgba(0, 0, 0, 0.15);\n",
              "      filter: drop-shadow(0px 1px 2px rgba(0, 0, 0, 0.3));\n",
              "      fill: #FFFFFF;\n",
              "    }\n",
              "  </style>\n",
              "\n",
              "    <script>\n",
              "      const buttonEl =\n",
              "        document.querySelector('#df-fcf005b4-368e-4ffb-9406-f99523071bbb button.colab-df-convert');\n",
              "      buttonEl.style.display =\n",
              "        google.colab.kernel.accessAllowed ? 'block' : 'none';\n",
              "\n",
              "      async function convertToInteractive(key) {\n",
              "        const element = document.querySelector('#df-fcf005b4-368e-4ffb-9406-f99523071bbb');\n",
              "        const dataTable =\n",
              "          await google.colab.kernel.invokeFunction('convertToInteractive',\n",
              "                                                    [key], {});\n",
              "        if (!dataTable) return;\n",
              "\n",
              "        const docLinkHtml = 'Like what you see? Visit the ' +\n",
              "          '<a target=\"_blank\" href=https://colab.research.google.com/notebooks/data_table.ipynb>data table notebook</a>'\n",
              "          + ' to learn more about interactive tables.';\n",
              "        element.innerHTML = '';\n",
              "        dataTable['output_type'] = 'display_data';\n",
              "        await google.colab.output.renderOutput(dataTable, element);\n",
              "        const docLink = document.createElement('div');\n",
              "        docLink.innerHTML = docLinkHtml;\n",
              "        element.appendChild(docLink);\n",
              "      }\n",
              "    </script>\n",
              "  </div>\n",
              "\n",
              "\n",
              "<div id=\"df-75b22023-59db-4c5d-928c-88401ab070e4\">\n",
              "  <button class=\"colab-df-quickchart\" onclick=\"quickchart('df-75b22023-59db-4c5d-928c-88401ab070e4')\"\n",
              "            title=\"Suggest charts\"\n",
              "            style=\"display:none;\">\n",
              "\n",
              "<svg xmlns=\"http://www.w3.org/2000/svg\" height=\"24px\"viewBox=\"0 0 24 24\"\n",
              "     width=\"24px\">\n",
              "    <g>\n",
              "        <path d=\"M19 3H5c-1.1 0-2 .9-2 2v14c0 1.1.9 2 2 2h14c1.1 0 2-.9 2-2V5c0-1.1-.9-2-2-2zM9 17H7v-7h2v7zm4 0h-2V7h2v10zm4 0h-2v-4h2v4z\"/>\n",
              "    </g>\n",
              "</svg>\n",
              "  </button>\n",
              "\n",
              "<style>\n",
              "  .colab-df-quickchart {\n",
              "      --bg-color: #E8F0FE;\n",
              "      --fill-color: #1967D2;\n",
              "      --hover-bg-color: #E2EBFA;\n",
              "      --hover-fill-color: #174EA6;\n",
              "      --disabled-fill-color: #AAA;\n",
              "      --disabled-bg-color: #DDD;\n",
              "  }\n",
              "\n",
              "  [theme=dark] .colab-df-quickchart {\n",
              "      --bg-color: #3B4455;\n",
              "      --fill-color: #D2E3FC;\n",
              "      --hover-bg-color: #434B5C;\n",
              "      --hover-fill-color: #FFFFFF;\n",
              "      --disabled-bg-color: #3B4455;\n",
              "      --disabled-fill-color: #666;\n",
              "  }\n",
              "\n",
              "  .colab-df-quickchart {\n",
              "    background-color: var(--bg-color);\n",
              "    border: none;\n",
              "    border-radius: 50%;\n",
              "    cursor: pointer;\n",
              "    display: none;\n",
              "    fill: var(--fill-color);\n",
              "    height: 32px;\n",
              "    padding: 0;\n",
              "    width: 32px;\n",
              "  }\n",
              "\n",
              "  .colab-df-quickchart:hover {\n",
              "    background-color: var(--hover-bg-color);\n",
              "    box-shadow: 0 1px 2px rgba(60, 64, 67, 0.3), 0 1px 3px 1px rgba(60, 64, 67, 0.15);\n",
              "    fill: var(--button-hover-fill-color);\n",
              "  }\n",
              "\n",
              "  .colab-df-quickchart-complete:disabled,\n",
              "  .colab-df-quickchart-complete:disabled:hover {\n",
              "    background-color: var(--disabled-bg-color);\n",
              "    fill: var(--disabled-fill-color);\n",
              "    box-shadow: none;\n",
              "  }\n",
              "\n",
              "  .colab-df-spinner {\n",
              "    border: 2px solid var(--fill-color);\n",
              "    border-color: transparent;\n",
              "    border-bottom-color: var(--fill-color);\n",
              "    animation:\n",
              "      spin 1s steps(1) infinite;\n",
              "  }\n",
              "\n",
              "  @keyframes spin {\n",
              "    0% {\n",
              "      border-color: transparent;\n",
              "      border-bottom-color: var(--fill-color);\n",
              "      border-left-color: var(--fill-color);\n",
              "    }\n",
              "    20% {\n",
              "      border-color: transparent;\n",
              "      border-left-color: var(--fill-color);\n",
              "      border-top-color: var(--fill-color);\n",
              "    }\n",
              "    30% {\n",
              "      border-color: transparent;\n",
              "      border-left-color: var(--fill-color);\n",
              "      border-top-color: var(--fill-color);\n",
              "      border-right-color: var(--fill-color);\n",
              "    }\n",
              "    40% {\n",
              "      border-color: transparent;\n",
              "      border-right-color: var(--fill-color);\n",
              "      border-top-color: var(--fill-color);\n",
              "    }\n",
              "    60% {\n",
              "      border-color: transparent;\n",
              "      border-right-color: var(--fill-color);\n",
              "    }\n",
              "    80% {\n",
              "      border-color: transparent;\n",
              "      border-right-color: var(--fill-color);\n",
              "      border-bottom-color: var(--fill-color);\n",
              "    }\n",
              "    90% {\n",
              "      border-color: transparent;\n",
              "      border-bottom-color: var(--fill-color);\n",
              "    }\n",
              "  }\n",
              "</style>\n",
              "\n",
              "  <script>\n",
              "    async function quickchart(key) {\n",
              "      const quickchartButtonEl =\n",
              "        document.querySelector('#' + key + ' button');\n",
              "      quickchartButtonEl.disabled = true;  // To prevent multiple clicks.\n",
              "      quickchartButtonEl.classList.add('colab-df-spinner');\n",
              "      try {\n",
              "        const charts = await google.colab.kernel.invokeFunction(\n",
              "            'suggestCharts', [key], {});\n",
              "      } catch (error) {\n",
              "        console.error('Error during call to suggestCharts:', error);\n",
              "      }\n",
              "      quickchartButtonEl.classList.remove('colab-df-spinner');\n",
              "      quickchartButtonEl.classList.add('colab-df-quickchart-complete');\n",
              "    }\n",
              "    (() => {\n",
              "      let quickchartButtonEl =\n",
              "        document.querySelector('#df-75b22023-59db-4c5d-928c-88401ab070e4 button');\n",
              "      quickchartButtonEl.style.display =\n",
              "        google.colab.kernel.accessAllowed ? 'block' : 'none';\n",
              "    })();\n",
              "  </script>\n",
              "</div>\n",
              "\n",
              "    </div>\n",
              "  </div>\n"
            ],
            "application/vnd.google.colaboratory.intrinsic+json": {
              "type": "dataframe",
              "summary": "{\n  \"name\": \"df\",\n  \"rows\": 8,\n  \"fields\": [\n    {\n      \"column\": \"_id\",\n      \"properties\": {\n        \"dtype\": \"number\",\n        \"std\": 11788.897864365048,\n        \"min\": 1.0,\n        \"max\": 32711.0,\n        \"num_unique_values\": 6,\n        \"samples\": [\n          32711.0,\n          16356.0,\n          24533.5\n        ],\n        \"semantic_type\": \"\",\n        \"description\": \"\"\n      }\n    },\n    {\n      \"column\": \"CP ID\",\n      \"properties\": {\n        \"dtype\": \"number\",\n        \"std\": 18051.900364280376,\n        \"min\": 462.71155631040665,\n        \"max\": 51519.0,\n        \"num_unique_values\": 8,\n        \"samples\": [\n          50885.607196355966,\n          50839.0,\n          32711.0\n        ],\n        \"semantic_type\": \"\",\n        \"description\": \"\"\n      }\n    },\n    {\n      \"column\": \"Connector\",\n      \"properties\": {\n        \"dtype\": \"number\",\n        \"std\": 11564.512611223214,\n        \"min\": 0.5780242808169639,\n        \"max\": 32711.0,\n        \"num_unique_values\": 6,\n        \"samples\": [\n          32711.0,\n          1.7543945461771269,\n          3.0\n        ],\n        \"semantic_type\": \"\",\n        \"description\": \"\"\n      }\n    },\n    {\n      \"column\": \"Total kWh\",\n      \"properties\": {\n        \"dtype\": \"number\",\n        \"std\": 11511.404735527278,\n        \"min\": -0.001,\n        \"max\": 32606.0,\n        \"num_unique_values\": 8,\n        \"samples\": [\n          10.86515880512789,\n          8.58,\n          32606.0\n        ],\n        \"semantic_type\": \"\",\n        \"description\": \"\"\n      }\n    }\n  ]\n}"
            }
          },
          "metadata": {},
          "execution_count": 5
        }
      ]
    },
    {
      "cell_type": "code",
      "source": [
        "# Check for missing values in each column\n",
        "df.isnull().sum()\n"
      ],
      "metadata": {
        "colab": {
          "base_uri": "https://localhost:8080/",
          "height": 397
        },
        "id": "9KMJk3QdCwXL",
        "outputId": "a448b996-8ed6-46f1-f363-16711c50d6f6"
      },
      "execution_count": null,
      "outputs": [
        {
          "output_type": "execute_result",
          "data": {
            "text/plain": [
              "_id             0\n",
              "CP ID           0\n",
              "Connector       0\n",
              "Start Date      0\n",
              "Start Time      0\n",
              "End Date      105\n",
              "End Time      105\n",
              "Total kWh     105\n",
              "Site            0\n",
              "Model           0\n",
              "dtype: int64"
            ],
            "text/html": [
              "<div>\n",
              "<style scoped>\n",
              "    .dataframe tbody tr th:only-of-type {\n",
              "        vertical-align: middle;\n",
              "    }\n",
              "\n",
              "    .dataframe tbody tr th {\n",
              "        vertical-align: top;\n",
              "    }\n",
              "\n",
              "    .dataframe thead th {\n",
              "        text-align: right;\n",
              "    }\n",
              "</style>\n",
              "<table border=\"1\" class=\"dataframe\">\n",
              "  <thead>\n",
              "    <tr style=\"text-align: right;\">\n",
              "      <th></th>\n",
              "      <th>0</th>\n",
              "    </tr>\n",
              "  </thead>\n",
              "  <tbody>\n",
              "    <tr>\n",
              "      <th>_id</th>\n",
              "      <td>0</td>\n",
              "    </tr>\n",
              "    <tr>\n",
              "      <th>CP ID</th>\n",
              "      <td>0</td>\n",
              "    </tr>\n",
              "    <tr>\n",
              "      <th>Connector</th>\n",
              "      <td>0</td>\n",
              "    </tr>\n",
              "    <tr>\n",
              "      <th>Start Date</th>\n",
              "      <td>0</td>\n",
              "    </tr>\n",
              "    <tr>\n",
              "      <th>Start Time</th>\n",
              "      <td>0</td>\n",
              "    </tr>\n",
              "    <tr>\n",
              "      <th>End Date</th>\n",
              "      <td>105</td>\n",
              "    </tr>\n",
              "    <tr>\n",
              "      <th>End Time</th>\n",
              "      <td>105</td>\n",
              "    </tr>\n",
              "    <tr>\n",
              "      <th>Total kWh</th>\n",
              "      <td>105</td>\n",
              "    </tr>\n",
              "    <tr>\n",
              "      <th>Site</th>\n",
              "      <td>0</td>\n",
              "    </tr>\n",
              "    <tr>\n",
              "      <th>Model</th>\n",
              "      <td>0</td>\n",
              "    </tr>\n",
              "  </tbody>\n",
              "</table>\n",
              "</div><br><label><b>dtype:</b> int64</label>"
            ]
          },
          "metadata": {},
          "execution_count": 6
        }
      ]
    },
    {
      "cell_type": "code",
      "source": [
        "# prompt: df['End Date'] = df['End Date'].fillna(method='ffill')\n",
        "#     df['End Time'] = df['End Time'].fillna(method='ffill')\n",
        "\n",
        "df['End Date'] = df['End Date'].fillna(method='ffill')\n",
        "df['End Time'] = df['End Time'].fillna(method='ffill')"
      ],
      "metadata": {
        "colab": {
          "base_uri": "https://localhost:8080/"
        },
        "id": "JKw_7SYYCzE6",
        "outputId": "70df1833-c84b-469b-fa40-3e27a66f5edc"
      },
      "execution_count": null,
      "outputs": [
        {
          "output_type": "stream",
          "name": "stderr",
          "text": [
            "<ipython-input-7-3d67719c3767>:4: FutureWarning: Series.fillna with 'method' is deprecated and will raise in a future version. Use obj.ffill() or obj.bfill() instead.\n",
            "  df['End Date'] = df['End Date'].fillna(method='ffill')\n",
            "<ipython-input-7-3d67719c3767>:5: FutureWarning: Series.fillna with 'method' is deprecated and will raise in a future version. Use obj.ffill() or obj.bfill() instead.\n",
            "  df['End Time'] = df['End Time'].fillna(method='ffill')\n"
          ]
        }
      ]
    },
    {
      "cell_type": "code",
      "source": [
        " df['Total kWh'] = df['Total kWh'].interpolate(method='linear')\n"
      ],
      "metadata": {
        "id": "QJoG6M0VS2sZ"
      },
      "execution_count": null,
      "outputs": []
    },
    {
      "cell_type": "code",
      "source": [
        "df.isnull().sum()"
      ],
      "metadata": {
        "colab": {
          "base_uri": "https://localhost:8080/",
          "height": 397
        },
        "id": "A5mzvDCUS-ZA",
        "outputId": "104732ab-ae08-4f26-9f84-ae2b309532af"
      },
      "execution_count": null,
      "outputs": [
        {
          "output_type": "execute_result",
          "data": {
            "text/plain": [
              "_id           0\n",
              "CP ID         0\n",
              "Connector     0\n",
              "Start Date    0\n",
              "Start Time    0\n",
              "End Date      0\n",
              "End Time      0\n",
              "Total kWh     0\n",
              "Site          0\n",
              "Model         0\n",
              "dtype: int64"
            ],
            "text/html": [
              "<div>\n",
              "<style scoped>\n",
              "    .dataframe tbody tr th:only-of-type {\n",
              "        vertical-align: middle;\n",
              "    }\n",
              "\n",
              "    .dataframe tbody tr th {\n",
              "        vertical-align: top;\n",
              "    }\n",
              "\n",
              "    .dataframe thead th {\n",
              "        text-align: right;\n",
              "    }\n",
              "</style>\n",
              "<table border=\"1\" class=\"dataframe\">\n",
              "  <thead>\n",
              "    <tr style=\"text-align: right;\">\n",
              "      <th></th>\n",
              "      <th>0</th>\n",
              "    </tr>\n",
              "  </thead>\n",
              "  <tbody>\n",
              "    <tr>\n",
              "      <th>_id</th>\n",
              "      <td>0</td>\n",
              "    </tr>\n",
              "    <tr>\n",
              "      <th>CP ID</th>\n",
              "      <td>0</td>\n",
              "    </tr>\n",
              "    <tr>\n",
              "      <th>Connector</th>\n",
              "      <td>0</td>\n",
              "    </tr>\n",
              "    <tr>\n",
              "      <th>Start Date</th>\n",
              "      <td>0</td>\n",
              "    </tr>\n",
              "    <tr>\n",
              "      <th>Start Time</th>\n",
              "      <td>0</td>\n",
              "    </tr>\n",
              "    <tr>\n",
              "      <th>End Date</th>\n",
              "      <td>0</td>\n",
              "    </tr>\n",
              "    <tr>\n",
              "      <th>End Time</th>\n",
              "      <td>0</td>\n",
              "    </tr>\n",
              "    <tr>\n",
              "      <th>Total kWh</th>\n",
              "      <td>0</td>\n",
              "    </tr>\n",
              "    <tr>\n",
              "      <th>Site</th>\n",
              "      <td>0</td>\n",
              "    </tr>\n",
              "    <tr>\n",
              "      <th>Model</th>\n",
              "      <td>0</td>\n",
              "    </tr>\n",
              "  </tbody>\n",
              "</table>\n",
              "</div><br><label><b>dtype:</b> int64</label>"
            ]
          },
          "metadata": {},
          "execution_count": 9
        }
      ]
    },
    {
      "cell_type": "code",
      "source": [
        "# Combine 'Start Date' and 'Start Time' correctly by converting 'Start Time' to string\n",
        "df ['Start DateTime'] = pd.to_datetime (df['Start Date'])\n",
        "df['End DateTime'] = pd.to_datetime(df['End Date'])\n",
        "# 1. Session Duration (in minutes)\n",
        "df['Session Duration (minutes)'] = (df['End DateTime'] - df['Start DateTime']).dt.total_seconds() / 60\n",
        "\n",
        "# 2. Energy Efficiency (kWh per minute)\n",
        "df['Energy Efficiency (kWh/min)'] = df['Total kWh'] / df['Session Duration (minutes)']\n",
        "\n",
        "# 3. Day of Week\n",
        "df['Day of Week'] = df['Start DateTime'].dt.day_name()\n",
        "\n",
        "# Display the updated dataset with new features\n",
        "df.head()\n"
      ],
      "metadata": {
        "colab": {
          "base_uri": "https://localhost:8080/",
          "height": 504
        },
        "id": "pyqPEGKfoGFm",
        "outputId": "2ed6c10e-9969-4d03-83bc-4aed5f7fd543"
      },
      "execution_count": null,
      "outputs": [
        {
          "output_type": "execute_result",
          "data": {
            "text/plain": [
              "   _id  CP ID  Connector           Start Date Start Time             End Date  \\\n",
              "0    1  51516          2  2019-08-31T00:00:00      23:26  2019-08-31T00:00:00   \n",
              "1    2  51249          1  2019-08-31T00:00:00      21:12  2019-08-31T00:00:00   \n",
              "2    3  50995          2  2019-08-31T00:00:00      20:26  2019-08-31T00:00:00   \n",
              "3    4  50839          1  2019-08-31T00:00:00      20:06  2019-08-31T00:00:00   \n",
              "4    5  50745          2  2019-08-31T00:00:00      19:43  2019-08-31T00:00:00   \n",
              "\n",
              "  End Time  Total kWh                                Site  \\\n",
              "0    23:54     12.780      Kinross Park and Ride, Kinross   \n",
              "1    21:32      5.700     Atholl Street Car Park, Dunkeld   \n",
              "2    21:20     27.680  Moness Terrace Car Park, Aberfeldy   \n",
              "3    23:03     17.526                  Mill Street, Perth   \n",
              "4    20:23     12.930      Kinross Park and Ride, Kinross   \n",
              "\n",
              "                          Model Start DateTime End DateTime  \\\n",
              "0      APT Triple Rapid Charger     2019-08-31   2019-08-31   \n",
              "1  Siemens Triple Rapid Charger     2019-08-31   2019-08-31   \n",
              "2      APT Triple Rapid Charger     2019-08-31   2019-08-31   \n",
              "3              APT 22kW Raption     2019-08-31   2019-08-31   \n",
              "4      APT Triple Rapid Charger     2019-08-31   2019-08-31   \n",
              "\n",
              "   Session Duration (minutes)  Energy Efficiency (kWh/min) Day of Week  \n",
              "0                         0.0                          inf    Saturday  \n",
              "1                         0.0                          inf    Saturday  \n",
              "2                         0.0                          inf    Saturday  \n",
              "3                         0.0                          inf    Saturday  \n",
              "4                         0.0                          inf    Saturday  "
            ],
            "text/html": [
              "\n",
              "  <div id=\"df-34378987-c35e-48f8-9348-097a01dbdd27\" class=\"colab-df-container\">\n",
              "    <div>\n",
              "<style scoped>\n",
              "    .dataframe tbody tr th:only-of-type {\n",
              "        vertical-align: middle;\n",
              "    }\n",
              "\n",
              "    .dataframe tbody tr th {\n",
              "        vertical-align: top;\n",
              "    }\n",
              "\n",
              "    .dataframe thead th {\n",
              "        text-align: right;\n",
              "    }\n",
              "</style>\n",
              "<table border=\"1\" class=\"dataframe\">\n",
              "  <thead>\n",
              "    <tr style=\"text-align: right;\">\n",
              "      <th></th>\n",
              "      <th>_id</th>\n",
              "      <th>CP ID</th>\n",
              "      <th>Connector</th>\n",
              "      <th>Start Date</th>\n",
              "      <th>Start Time</th>\n",
              "      <th>End Date</th>\n",
              "      <th>End Time</th>\n",
              "      <th>Total kWh</th>\n",
              "      <th>Site</th>\n",
              "      <th>Model</th>\n",
              "      <th>Start DateTime</th>\n",
              "      <th>End DateTime</th>\n",
              "      <th>Session Duration (minutes)</th>\n",
              "      <th>Energy Efficiency (kWh/min)</th>\n",
              "      <th>Day of Week</th>\n",
              "    </tr>\n",
              "  </thead>\n",
              "  <tbody>\n",
              "    <tr>\n",
              "      <th>0</th>\n",
              "      <td>1</td>\n",
              "      <td>51516</td>\n",
              "      <td>2</td>\n",
              "      <td>2019-08-31T00:00:00</td>\n",
              "      <td>23:26</td>\n",
              "      <td>2019-08-31T00:00:00</td>\n",
              "      <td>23:54</td>\n",
              "      <td>12.780</td>\n",
              "      <td>Kinross Park and Ride, Kinross</td>\n",
              "      <td>APT Triple Rapid Charger</td>\n",
              "      <td>2019-08-31</td>\n",
              "      <td>2019-08-31</td>\n",
              "      <td>0.0</td>\n",
              "      <td>inf</td>\n",
              "      <td>Saturday</td>\n",
              "    </tr>\n",
              "    <tr>\n",
              "      <th>1</th>\n",
              "      <td>2</td>\n",
              "      <td>51249</td>\n",
              "      <td>1</td>\n",
              "      <td>2019-08-31T00:00:00</td>\n",
              "      <td>21:12</td>\n",
              "      <td>2019-08-31T00:00:00</td>\n",
              "      <td>21:32</td>\n",
              "      <td>5.700</td>\n",
              "      <td>Atholl Street Car Park, Dunkeld</td>\n",
              "      <td>Siemens Triple Rapid Charger</td>\n",
              "      <td>2019-08-31</td>\n",
              "      <td>2019-08-31</td>\n",
              "      <td>0.0</td>\n",
              "      <td>inf</td>\n",
              "      <td>Saturday</td>\n",
              "    </tr>\n",
              "    <tr>\n",
              "      <th>2</th>\n",
              "      <td>3</td>\n",
              "      <td>50995</td>\n",
              "      <td>2</td>\n",
              "      <td>2019-08-31T00:00:00</td>\n",
              "      <td>20:26</td>\n",
              "      <td>2019-08-31T00:00:00</td>\n",
              "      <td>21:20</td>\n",
              "      <td>27.680</td>\n",
              "      <td>Moness Terrace Car Park, Aberfeldy</td>\n",
              "      <td>APT Triple Rapid Charger</td>\n",
              "      <td>2019-08-31</td>\n",
              "      <td>2019-08-31</td>\n",
              "      <td>0.0</td>\n",
              "      <td>inf</td>\n",
              "      <td>Saturday</td>\n",
              "    </tr>\n",
              "    <tr>\n",
              "      <th>3</th>\n",
              "      <td>4</td>\n",
              "      <td>50839</td>\n",
              "      <td>1</td>\n",
              "      <td>2019-08-31T00:00:00</td>\n",
              "      <td>20:06</td>\n",
              "      <td>2019-08-31T00:00:00</td>\n",
              "      <td>23:03</td>\n",
              "      <td>17.526</td>\n",
              "      <td>Mill Street, Perth</td>\n",
              "      <td>APT 22kW Raption</td>\n",
              "      <td>2019-08-31</td>\n",
              "      <td>2019-08-31</td>\n",
              "      <td>0.0</td>\n",
              "      <td>inf</td>\n",
              "      <td>Saturday</td>\n",
              "    </tr>\n",
              "    <tr>\n",
              "      <th>4</th>\n",
              "      <td>5</td>\n",
              "      <td>50745</td>\n",
              "      <td>2</td>\n",
              "      <td>2019-08-31T00:00:00</td>\n",
              "      <td>19:43</td>\n",
              "      <td>2019-08-31T00:00:00</td>\n",
              "      <td>20:23</td>\n",
              "      <td>12.930</td>\n",
              "      <td>Kinross Park and Ride, Kinross</td>\n",
              "      <td>APT Triple Rapid Charger</td>\n",
              "      <td>2019-08-31</td>\n",
              "      <td>2019-08-31</td>\n",
              "      <td>0.0</td>\n",
              "      <td>inf</td>\n",
              "      <td>Saturday</td>\n",
              "    </tr>\n",
              "  </tbody>\n",
              "</table>\n",
              "</div>\n",
              "    <div class=\"colab-df-buttons\">\n",
              "\n",
              "  <div class=\"colab-df-container\">\n",
              "    <button class=\"colab-df-convert\" onclick=\"convertToInteractive('df-34378987-c35e-48f8-9348-097a01dbdd27')\"\n",
              "            title=\"Convert this dataframe to an interactive table.\"\n",
              "            style=\"display:none;\">\n",
              "\n",
              "  <svg xmlns=\"http://www.w3.org/2000/svg\" height=\"24px\" viewBox=\"0 -960 960 960\">\n",
              "    <path d=\"M120-120v-720h720v720H120Zm60-500h600v-160H180v160Zm220 220h160v-160H400v160Zm0 220h160v-160H400v160ZM180-400h160v-160H180v160Zm440 0h160v-160H620v160ZM180-180h160v-160H180v160Zm440 0h160v-160H620v160Z\"/>\n",
              "  </svg>\n",
              "    </button>\n",
              "\n",
              "  <style>\n",
              "    .colab-df-container {\n",
              "      display:flex;\n",
              "      gap: 12px;\n",
              "    }\n",
              "\n",
              "    .colab-df-convert {\n",
              "      background-color: #E8F0FE;\n",
              "      border: none;\n",
              "      border-radius: 50%;\n",
              "      cursor: pointer;\n",
              "      display: none;\n",
              "      fill: #1967D2;\n",
              "      height: 32px;\n",
              "      padding: 0 0 0 0;\n",
              "      width: 32px;\n",
              "    }\n",
              "\n",
              "    .colab-df-convert:hover {\n",
              "      background-color: #E2EBFA;\n",
              "      box-shadow: 0px 1px 2px rgba(60, 64, 67, 0.3), 0px 1px 3px 1px rgba(60, 64, 67, 0.15);\n",
              "      fill: #174EA6;\n",
              "    }\n",
              "\n",
              "    .colab-df-buttons div {\n",
              "      margin-bottom: 4px;\n",
              "    }\n",
              "\n",
              "    [theme=dark] .colab-df-convert {\n",
              "      background-color: #3B4455;\n",
              "      fill: #D2E3FC;\n",
              "    }\n",
              "\n",
              "    [theme=dark] .colab-df-convert:hover {\n",
              "      background-color: #434B5C;\n",
              "      box-shadow: 0px 1px 3px 1px rgba(0, 0, 0, 0.15);\n",
              "      filter: drop-shadow(0px 1px 2px rgba(0, 0, 0, 0.3));\n",
              "      fill: #FFFFFF;\n",
              "    }\n",
              "  </style>\n",
              "\n",
              "    <script>\n",
              "      const buttonEl =\n",
              "        document.querySelector('#df-34378987-c35e-48f8-9348-097a01dbdd27 button.colab-df-convert');\n",
              "      buttonEl.style.display =\n",
              "        google.colab.kernel.accessAllowed ? 'block' : 'none';\n",
              "\n",
              "      async function convertToInteractive(key) {\n",
              "        const element = document.querySelector('#df-34378987-c35e-48f8-9348-097a01dbdd27');\n",
              "        const dataTable =\n",
              "          await google.colab.kernel.invokeFunction('convertToInteractive',\n",
              "                                                    [key], {});\n",
              "        if (!dataTable) return;\n",
              "\n",
              "        const docLinkHtml = 'Like what you see? Visit the ' +\n",
              "          '<a target=\"_blank\" href=https://colab.research.google.com/notebooks/data_table.ipynb>data table notebook</a>'\n",
              "          + ' to learn more about interactive tables.';\n",
              "        element.innerHTML = '';\n",
              "        dataTable['output_type'] = 'display_data';\n",
              "        await google.colab.output.renderOutput(dataTable, element);\n",
              "        const docLink = document.createElement('div');\n",
              "        docLink.innerHTML = docLinkHtml;\n",
              "        element.appendChild(docLink);\n",
              "      }\n",
              "    </script>\n",
              "  </div>\n",
              "\n",
              "\n",
              "<div id=\"df-183e3b5b-335c-4867-befe-54c7cf40bf53\">\n",
              "  <button class=\"colab-df-quickchart\" onclick=\"quickchart('df-183e3b5b-335c-4867-befe-54c7cf40bf53')\"\n",
              "            title=\"Suggest charts\"\n",
              "            style=\"display:none;\">\n",
              "\n",
              "<svg xmlns=\"http://www.w3.org/2000/svg\" height=\"24px\"viewBox=\"0 0 24 24\"\n",
              "     width=\"24px\">\n",
              "    <g>\n",
              "        <path d=\"M19 3H5c-1.1 0-2 .9-2 2v14c0 1.1.9 2 2 2h14c1.1 0 2-.9 2-2V5c0-1.1-.9-2-2-2zM9 17H7v-7h2v7zm4 0h-2V7h2v10zm4 0h-2v-4h2v4z\"/>\n",
              "    </g>\n",
              "</svg>\n",
              "  </button>\n",
              "\n",
              "<style>\n",
              "  .colab-df-quickchart {\n",
              "      --bg-color: #E8F0FE;\n",
              "      --fill-color: #1967D2;\n",
              "      --hover-bg-color: #E2EBFA;\n",
              "      --hover-fill-color: #174EA6;\n",
              "      --disabled-fill-color: #AAA;\n",
              "      --disabled-bg-color: #DDD;\n",
              "  }\n",
              "\n",
              "  [theme=dark] .colab-df-quickchart {\n",
              "      --bg-color: #3B4455;\n",
              "      --fill-color: #D2E3FC;\n",
              "      --hover-bg-color: #434B5C;\n",
              "      --hover-fill-color: #FFFFFF;\n",
              "      --disabled-bg-color: #3B4455;\n",
              "      --disabled-fill-color: #666;\n",
              "  }\n",
              "\n",
              "  .colab-df-quickchart {\n",
              "    background-color: var(--bg-color);\n",
              "    border: none;\n",
              "    border-radius: 50%;\n",
              "    cursor: pointer;\n",
              "    display: none;\n",
              "    fill: var(--fill-color);\n",
              "    height: 32px;\n",
              "    padding: 0;\n",
              "    width: 32px;\n",
              "  }\n",
              "\n",
              "  .colab-df-quickchart:hover {\n",
              "    background-color: var(--hover-bg-color);\n",
              "    box-shadow: 0 1px 2px rgba(60, 64, 67, 0.3), 0 1px 3px 1px rgba(60, 64, 67, 0.15);\n",
              "    fill: var(--button-hover-fill-color);\n",
              "  }\n",
              "\n",
              "  .colab-df-quickchart-complete:disabled,\n",
              "  .colab-df-quickchart-complete:disabled:hover {\n",
              "    background-color: var(--disabled-bg-color);\n",
              "    fill: var(--disabled-fill-color);\n",
              "    box-shadow: none;\n",
              "  }\n",
              "\n",
              "  .colab-df-spinner {\n",
              "    border: 2px solid var(--fill-color);\n",
              "    border-color: transparent;\n",
              "    border-bottom-color: var(--fill-color);\n",
              "    animation:\n",
              "      spin 1s steps(1) infinite;\n",
              "  }\n",
              "\n",
              "  @keyframes spin {\n",
              "    0% {\n",
              "      border-color: transparent;\n",
              "      border-bottom-color: var(--fill-color);\n",
              "      border-left-color: var(--fill-color);\n",
              "    }\n",
              "    20% {\n",
              "      border-color: transparent;\n",
              "      border-left-color: var(--fill-color);\n",
              "      border-top-color: var(--fill-color);\n",
              "    }\n",
              "    30% {\n",
              "      border-color: transparent;\n",
              "      border-left-color: var(--fill-color);\n",
              "      border-top-color: var(--fill-color);\n",
              "      border-right-color: var(--fill-color);\n",
              "    }\n",
              "    40% {\n",
              "      border-color: transparent;\n",
              "      border-right-color: var(--fill-color);\n",
              "      border-top-color: var(--fill-color);\n",
              "    }\n",
              "    60% {\n",
              "      border-color: transparent;\n",
              "      border-right-color: var(--fill-color);\n",
              "    }\n",
              "    80% {\n",
              "      border-color: transparent;\n",
              "      border-right-color: var(--fill-color);\n",
              "      border-bottom-color: var(--fill-color);\n",
              "    }\n",
              "    90% {\n",
              "      border-color: transparent;\n",
              "      border-bottom-color: var(--fill-color);\n",
              "    }\n",
              "  }\n",
              "</style>\n",
              "\n",
              "  <script>\n",
              "    async function quickchart(key) {\n",
              "      const quickchartButtonEl =\n",
              "        document.querySelector('#' + key + ' button');\n",
              "      quickchartButtonEl.disabled = true;  // To prevent multiple clicks.\n",
              "      quickchartButtonEl.classList.add('colab-df-spinner');\n",
              "      try {\n",
              "        const charts = await google.colab.kernel.invokeFunction(\n",
              "            'suggestCharts', [key], {});\n",
              "      } catch (error) {\n",
              "        console.error('Error during call to suggestCharts:', error);\n",
              "      }\n",
              "      quickchartButtonEl.classList.remove('colab-df-spinner');\n",
              "      quickchartButtonEl.classList.add('colab-df-quickchart-complete');\n",
              "    }\n",
              "    (() => {\n",
              "      let quickchartButtonEl =\n",
              "        document.querySelector('#df-183e3b5b-335c-4867-befe-54c7cf40bf53 button');\n",
              "      quickchartButtonEl.style.display =\n",
              "        google.colab.kernel.accessAllowed ? 'block' : 'none';\n",
              "    })();\n",
              "  </script>\n",
              "</div>\n",
              "\n",
              "    </div>\n",
              "  </div>\n"
            ],
            "application/vnd.google.colaboratory.intrinsic+json": {
              "type": "dataframe",
              "variable_name": "df",
              "repr_error": "Out of range float values are not JSON compliant: -inf"
            }
          },
          "metadata": {},
          "execution_count": 10
        }
      ]
    },
    {
      "source": [
        "import matplotlib.pyplot as plt\n",
        "import seaborn as sns\n",
        "\n",
        "# Set plot style\n",
        "sns.set_theme(style=\"whitegrid\")\n",
        "\n",
        "# 1. Plot the distribution of one numeric column using a histogram\n",
        "# Generate random data points based on the mean and standard deviation of 'Total kWh'\n",
        "x = np.random.normal(loc=df['Total kWh'].mean(), scale=df['Total kWh'].std(), size=1000)\n",
        "\n",
        "# Plot the histogram with specified bins and color\n",
        "plt.hist(x, bins=20, color='blue', density=True)  # density=True for normalized histogram\n",
        "\n",
        "# Add a kernel density estimate (kde)\n",
        "sns.kdeplot(x, color='blue')\n",
        "\n",
        "plt.show()"
      ],
      "cell_type": "code",
      "metadata": {
        "colab": {
          "base_uri": "https://localhost:8080/",
          "height": 434
        },
        "id": "MgIBRrOqpdIC",
        "outputId": "3f3237d9-6c22-4c26-e29c-ae1bb350123c"
      },
      "execution_count": null,
      "outputs": [
        {
          "output_type": "display_data",
          "data": {
            "text/plain": [
              "<Figure size 640x480 with 1 Axes>"
            ],
            "image/png": "[encoded data removed]"
          },
          "metadata": {}
        }
      ]
    },
    {
      "cell_type": "code",
      "source": [
        "import matplotlib.pyplot as plt\n",
        "import numpy as np\n",
        "\n",
        "# Get the value counts for the 'Model' column\n",
        "model_counts = df['Model'].value_counts()\n",
        "\n",
        "# Create a bar plot\n",
        "plt.barh(model_counts.index, model_counts.values)\n",
        "\n",
        "plt.show()"
      ],
      "metadata": {
        "colab": {
          "base_uri": "https://localhost:8080/",
          "height": 434
        },
        "id": "8DFnKjUUqwEC",
        "outputId": "e926a1dd-c090-476c-b034-e4b1d9c6c446"
      },
      "execution_count": null,
      "outputs": [
        {
          "output_type": "display_data",
          "data": {
            "text/plain": [
              "<Figure size 640x480 with 1 Axes>"
            ],
            "image/png": "[encoded data removed]"
          },
          "metadata": {}
        }
      ]
    },
    {
      "cell_type": "code",
      "source": [
        "import matplotlib.pyplot as plt\n",
        "import numpy as np\n",
        "\n",
        "# Correctly access data from the DataFrame columns\n",
        "x = df['Session Duration (minutes)']\n",
        "y = df['Total kWh']\n",
        "\n",
        "# Create the scatter plot\n",
        "plt.scatter(x, y)\n",
        "\n",
        "plt.xlabel('Session Duration (minutes)')  # Add label for x-axis\n",
        "plt.ylabel('Total kWh')  # Add label for y-axis\n",
        "plt.title('Scatter Plot of Session Duration vs. Total kWh')  # Add title\n",
        "\n",
        "plt.show()"
      ],
      "metadata": {
        "colab": {
          "base_uri": "https://localhost:8080/",
          "height": 480
        },
        "id": "CasfxOQisDXJ",
        "outputId": "a3919383-7dee-4545-a5fb-e2c0c0f2823c"
      },
      "execution_count": null,
      "outputs": [
        {
          "output_type": "display_data",
          "data": {
            "text/plain": [
              "<Figure size 640x480 with 1 Axes>"
            ],
            "image/png": "[encoded data removed]"
          },
          "metadata": {}
        }
      ]
    },
    {
      "cell_type": "code",
      "source": [
        "import pandas as pd\n",
        "\n",
        "# Assuming df is your DataFrame\n",
        "\n",
        "# Select only numeric columns for correlation calculation\n",
        "numeric_df = df.select_dtypes(include=['number'])\n",
        "\n",
        "# Calculate the correlation matrix\n",
        "correlation_matrix = numeric_df.corr()\n",
        "\n",
        "# Display the correlation matrix\n",
        "print(correlation_matrix)"
      ],
      "metadata": {
        "colab": {
          "base_uri": "https://localhost:8080/"
        },
        "id": "UDU2H_S7tD6X",
        "outputId": "70a7d9ab-8a3b-4e4d-fa88-ba18571d7ccf"
      },
      "execution_count": null,
      "outputs": [
        {
          "output_type": "stream",
          "name": "stdout",
          "text": [
            "                                  _id     CP ID  Connector  Total kWh  \\\n",
            "_id                          1.000000 -0.008389   0.006515   0.017316   \n",
            "CP ID                       -0.008389  1.000000  -0.005435  -0.023364   \n",
            "Connector                    0.006515 -0.005435   1.000000   0.018937   \n",
            "Total kWh                    0.017316 -0.023364   0.018937   1.000000   \n",
            "Session Duration (minutes)   0.002262  0.014276  -0.004936   0.002915   \n",
            "Energy Efficiency (kWh/min)  0.023502  0.197636  -0.054841   0.571152   \n",
            "\n",
            "                             Session Duration (minutes)  \\\n",
            "_id                                            0.002262   \n",
            "CP ID                                          0.014276   \n",
            "Connector                                     -0.004936   \n",
            "Total kWh                                      0.002915   \n",
            "Session Duration (minutes)                     1.000000   \n",
            "Energy Efficiency (kWh/min)                    0.087870   \n",
            "\n",
            "                             Energy Efficiency (kWh/min)  \n",
            "_id                                             0.023502  \n",
            "CP ID                                           0.197636  \n",
            "Connector                                      -0.054841  \n",
            "Total kWh                                       0.571152  \n",
            "Session Duration (minutes)                      0.087870  \n",
            "Energy Efficiency (kWh/min)                     1.000000  \n"
          ]
        }
      ]
    },
    {
      "cell_type": "markdown",
      "source": [
        "**Data Loading And Basic Exploration**\n",
        "\n",
        "---\n",
        "\n"
      ],
      "metadata": {
        "id": "bb4_k8jqSki9"
      }
    },
    {
      "cell_type": "markdown",
      "source": [
        "Loading The Dataset"
      ],
      "metadata": {
        "id": "s7H57xVwXdxv"
      }
    },
    {
      "cell_type": "code",
      "source": [
        "Data_load= np.genfromtxt(\"EV_DS.csv\", delimiter=\",\", dtype=float,usecols=[0,1,2,7], skip_header=1)"
      ],
      "metadata": {
        "id": "nGbTjuUcYpCa"
      },
      "execution_count": null,
      "outputs": []
    },
    {
      "cell_type": "markdown",
      "source": [
        "Basic Summary"
      ],
      "metadata": {
        "id": "kucC4hYziKIu"
      }
    },
    {
      "cell_type": "code",
      "source": [
        "print(Data_load[:5])"
      ],
      "metadata": {
        "colab": {
          "base_uri": "https://localhost:8080/"
        },
        "id": "ltbmYKYxiQXr",
        "outputId": "31b01878-0cd7-42a4-9da6-ca67d4c369c2"
      },
      "execution_count": null,
      "outputs": [
        {
          "output_type": "stream",
          "name": "stdout",
          "text": [
            "[[1.0000e+00 5.1516e+04 2.0000e+00 1.2780e+01]\n",
            " [2.0000e+00 5.1249e+04 1.0000e+00 5.7000e+00]\n",
            " [3.0000e+00 5.0995e+04 2.0000e+00 2.7680e+01]\n",
            " [4.0000e+00 5.0839e+04 1.0000e+00 1.7526e+01]\n",
            " [5.0000e+00 5.0745e+04 2.0000e+00 1.2930e+01]]\n"
          ]
        }
      ]
    },
    {
      "cell_type": "markdown",
      "source": [
        "Data Type"
      ],
      "metadata": {
        "id": "ZO6V_K9Oiquw"
      }
    },
    {
      "cell_type": "code",
      "source": [
        "print(Data_load.dtype)"
      ],
      "metadata": {
        "colab": {
          "base_uri": "https://localhost:8080/"
        },
        "id": "21xY3eYJiuc4",
        "outputId": "bc6966cb-09b0-4ae5-aec6-48ba25e807e5"
      },
      "execution_count": null,
      "outputs": [
        {
          "output_type": "stream",
          "name": "stdout",
          "text": [
            "float64\n"
          ]
        }
      ]
    },
    {
      "cell_type": "markdown",
      "source": [
        "**Data Cleaning And Prepration**\n",
        "\n",
        "---\n",
        "\n"
      ],
      "metadata": {
        "id": "hVEJGs2gi1pY"
      }
    },
    {
      "cell_type": "markdown",
      "source": [
        "Finding Missing Values"
      ],
      "metadata": {
        "id": "xi_y22l7jozr"
      }
    },
    {
      "cell_type": "code",
      "source": [
        "missing_values = np.isnan(Data_load)"
      ],
      "metadata": {
        "id": "oL6nZCQxjtvj"
      },
      "execution_count": null,
      "outputs": []
    },
    {
      "cell_type": "code",
      "source": [
        "print(missing_values)"
      ],
      "metadata": {
        "colab": {
          "base_uri": "https://localhost:8080/"
        },
        "id": "s7Cbl1z5s-8J",
        "outputId": "358d92cc-91ae-4cb6-af09-0dd18fd998e9"
      },
      "execution_count": null,
      "outputs": [
        {
          "output_type": "stream",
          "name": "stdout",
          "text": [
            "[[False False False False]\n",
            " [False False False False]\n",
            " [False False False False]\n",
            " ...\n",
            " [False False False False]\n",
            " [False False False False]\n",
            " [False False False False]]\n"
          ]
        }
      ]
    },
    {
      "cell_type": "markdown",
      "source": [
        "Replacing Missing Values With Mean"
      ],
      "metadata": {
        "id": "mvE0YFHHsXpi"
      }
    },
    {
      "cell_type": "code",
      "source": [
        "column0mean = np.nanmean(Data_load, axis=0)"
      ],
      "metadata": {
        "id": "RMVw72RiscIt"
      },
      "execution_count": null,
      "outputs": []
    },
    {
      "cell_type": "code",
      "source": [
        "print(column0mean)"
      ],
      "metadata": {
        "colab": {
          "base_uri": "https://localhost:8080/"
        },
        "id": "be0dDD_MtC87",
        "outputId": "a770438b-9c6b-4018-a382-6e744729b293"
      },
      "execution_count": null,
      "outputs": [
        {
          "output_type": "stream",
          "name": "stdout",
          "text": [
            "[1.63560000e+04 5.08856072e+04 1.75439455e+00 1.08651588e+01]\n"
          ]
        }
      ]
    },
    {
      "cell_type": "markdown",
      "source": [
        "Removing Duplicates"
      ],
      "metadata": {
        "id": "Td_dcjrvt_ef"
      }
    },
    {
      "cell_type": "code",
      "source": [
        "unique_data = np.unique(Data_load, axis=0)"
      ],
      "metadata": {
        "id": "97Aq97WpuBph"
      },
      "execution_count": null,
      "outputs": []
    },
    {
      "cell_type": "code",
      "source": [
        "print(unique_data)"
      ],
      "metadata": {
        "colab": {
          "base_uri": "https://localhost:8080/"
        },
        "id": "TiSATO9CuUqR",
        "outputId": "d0e1f784-5ed1-482e-88f6-9a89443204b8"
      },
      "execution_count": null,
      "outputs": [
        {
          "output_type": "stream",
          "name": "stdout",
          "text": [
            "[[1.0000e+00 5.1516e+04 2.0000e+00 1.2780e+01]\n",
            " [2.0000e+00 5.1249e+04 1.0000e+00 5.7000e+00]\n",
            " [3.0000e+00 5.0995e+04 2.0000e+00 2.7680e+01]\n",
            " ...\n",
            " [3.2709e+04 5.0994e+04 2.0000e+00 1.0840e+01]\n",
            " [3.2710e+04 5.0286e+04 2.0000e+00 8.7800e+00]\n",
            " [3.2711e+04 5.0286e+04 2.0000e+00 1.6430e+01]]\n"
          ]
        }
      ]
    },
    {
      "cell_type": "markdown",
      "source": [
        "Normalizing Data"
      ],
      "metadata": {
        "id": "TD0SohaRubTm"
      }
    },
    {
      "cell_type": "code",
      "source": [
        "normalized_data = (Data_load - np.mean(Data_load, axis=0)) / np.std(Data_load, axis=0)"
      ],
      "metadata": {
        "id": "PgEI8VvAuYix"
      },
      "execution_count": null,
      "outputs": []
    },
    {
      "cell_type": "code",
      "source": [
        "print(normalized_data)"
      ],
      "metadata": {
        "colab": {
          "base_uri": "https://localhost:8080/"
        },
        "id": "TDDdRGvrvw9N",
        "outputId": "f499502f-b489-47ce-fe77-9e3ca1623684"
      },
      "execution_count": null,
      "outputs": [
        {
          "output_type": "stream",
          "name": "stdout",
          "text": [
            "[[-1.73199786  1.36240911  0.42491158         nan]\n",
            " [-1.73189196  0.78536694 -1.305146           nan]\n",
            " [-1.73178606  0.23642045  0.42491158         nan]\n",
            " ...\n",
            " [ 1.73178606  0.23425925  0.42491158         nan]\n",
            " [ 1.73189196 -1.29587505  0.42491158         nan]\n",
            " [ 1.73199786 -1.29587505  0.42491158         nan]]\n"
          ]
        }
      ]
    },
    {
      "cell_type": "markdown",
      "source": [
        "**Statistical Analysis**\n",
        "\n",
        "---\n",
        "\n"
      ],
      "metadata": {
        "id": "ZK4gmo3Cv1dg"
      }
    },
    {
      "cell_type": "markdown",
      "source": [
        "Calculating Mean"
      ],
      "metadata": {
        "id": "q1GISkecwOX9"
      }
    },
    {
      "cell_type": "code",
      "source": [
        "print('Mean of each column:', np.mean(Data_load, axis=0))"
      ],
      "metadata": {
        "colab": {
          "base_uri": "https://localhost:8080/"
        },
        "id": "f-TeFF77wBkP",
        "outputId": "bb4fe4ee-ecaa-40f5-adae-d5833d02369d"
      },
      "execution_count": null,
      "outputs": [
        {
          "output_type": "stream",
          "name": "stdout",
          "text": [
            "Mean of each column: [1.63560000e+04 5.08856072e+04 1.75439455e+00            nan]\n"
          ]
        }
      ]
    },
    {
      "cell_type": "code",
      "source": [
        "print('Mean of each column:', np.mean(normalized_data, axis=0))"
      ],
      "metadata": {
        "colab": {
          "base_uri": "https://localhost:8080/"
        },
        "id": "o9WasVFcxFj9",
        "outputId": "73b38891-2ad0-40ed-94b7-df90f152ceac"
      },
      "execution_count": null,
      "outputs": [
        {
          "output_type": "stream",
          "name": "stdout",
          "text": [
            "Mean of each column: [-8.20677837e-18 -1.78770649e-16 -8.16934216e-16             nan]\n"
          ]
        }
      ]
    },
    {
      "cell_type": "markdown",
      "source": [
        "Calculating Median"
      ],
      "metadata": {
        "id": "zZqh0NGHxOAx"
      }
    },
    {
      "cell_type": "code",
      "source": [
        "print('Median of each column:', np.median(Data_load, axis=0))"
      ],
      "metadata": {
        "colab": {
          "base_uri": "https://localhost:8080/"
        },
        "id": "wkQtid8BxThz",
        "outputId": "ef485b37-cf34-42c4-8d2e-0af9373c1c2e"
      },
      "execution_count": null,
      "outputs": [
        {
          "output_type": "stream",
          "name": "stdout",
          "text": [
            "Median of each column: [1.6356e+04 5.0839e+04 2.0000e+00        nan]\n"
          ]
        }
      ]
    },
    {
      "cell_type": "code",
      "source": [
        "print('Medin of each column:', np.median(normalized_data, axis=0))"
      ],
      "metadata": {
        "colab": {
          "base_uri": "https://localhost:8080/"
        },
        "id": "kprLIXrGxa52",
        "outputId": "88ee1246-46f8-4fff-e8c0-de7fc7cb6ab2"
      },
      "execution_count": null,
      "outputs": [
        {
          "output_type": "stream",
          "name": "stdout",
          "text": [
            "Medin of each column: [ 0.         -0.10072778  0.42491158         nan]\n"
          ]
        }
      ]
    },
    {
      "cell_type": "markdown",
      "source": [
        "Calculating Standard Deviation  "
      ],
      "metadata": {
        "id": "m6myoKufxhYx"
      }
    },
    {
      "cell_type": "code",
      "source": [
        "print('Standard Deviation of each column:', np.std(Data_load, axis=0))"
      ],
      "metadata": {
        "colab": {
          "base_uri": "https://localhost:8080/"
        },
        "id": "qo5ZbjnYxoJF",
        "outputId": "e1e45e50-ba3a-44ed-9b91-d76236fb4686"
      },
      "execution_count": null,
      "outputs": [
        {
          "output_type": "stream",
          "name": "stdout",
          "text": [
            "Standard Deviation of each column: [9.44285232e+03 4.62704484e+02 5.78015445e-01            nan]\n"
          ]
        }
      ]
    },
    {
      "cell_type": "code",
      "source": [
        "print('Standard Deviation of each column:', np.std(normalized_data, axis=0))"
      ],
      "metadata": {
        "colab": {
          "base_uri": "https://localhost:8080/"
        },
        "id": "cQOthG_5xvPq",
        "outputId": "654f39a3-fb76-4293-a9e5-acc295f08160"
      },
      "execution_count": null,
      "outputs": [
        {
          "output_type": "stream",
          "name": "stdout",
          "text": [
            "Standard Deviation of each column: [ 1.  1.  1. nan]\n"
          ]
        }
      ]
    },
    {
      "cell_type": "markdown",
      "source": [
        "**Distribution Analysis**\n",
        "\n",
        "---\n",
        "\n"
      ],
      "metadata": {
        "id": "ZYlmt5Xxx_VQ"
      }
    },
    {
      "cell_type": "markdown",
      "source": [
        "Plotting Histogram"
      ],
      "metadata": {
        "id": "RNiJfmFyyIcw"
      }
    },
    {
      "cell_type": "code",
      "source": [
        "chosen_column = Data_load[:,[0,1,2] ]\n",
        "histo_gram= np.histogram(chosen_column, bins=10)"
      ],
      "metadata": {
        "id": "takmuQ8qyKlb"
      },
      "execution_count": null,
      "outputs": []
    },
    {
      "cell_type": "code",
      "source": [
        "print(histo_gram)"
      ],
      "metadata": {
        "colab": {
          "base_uri": "https://localhost:8080/"
        },
        "id": "nLGXWnHA0LBi",
        "outputId": "4eb032d6-4786-48b6-8b4b-75b799994641"
      },
      "execution_count": null,
      "outputs": [
        {
          "output_type": "stream",
          "name": "stdout",
          "text": [
            "(array([37863,  5152,  5152,  5152,  5151,  5152,  1800,     0,     0,\n",
            "       32711]), array([1.00000e+00, 5.15280e+03, 1.03046e+04, 1.54564e+04, 2.06082e+04,\n",
            "       2.57600e+04, 3.09118e+04, 3.60636e+04, 4.12154e+04, 4.63672e+04,\n",
            "       5.15190e+04]))\n"
          ]
        }
      ]
    },
    {
      "cell_type": "code",
      "source": [
        "chosen_column = normalized_data[:,[0,1,2] ]\n",
        "histo_gram= np.histogram(chosen_column, bins=10)"
      ],
      "metadata": {
        "id": "1cYRO6In0OSE"
      },
      "execution_count": null,
      "outputs": []
    },
    {
      "cell_type": "code",
      "source": [
        "print(histo_gram)"
      ],
      "metadata": {
        "colab": {
          "base_uri": "https://localhost:8080/"
        },
        "id": "fetj13tU0V2s",
        "outputId": "80733919-6c65-4ec0-c362-f046cd99e8dc"
      },
      "execution_count": null,
      "outputs": [
        {
          "output_type": "stream",
          "name": "stdout",
          "text": [
            "(array([ 4836, 22067,  5091,  6536,  7353, 27562,  8292, 10615,  3347,\n",
            "        2434]), array([-1.73199786, -1.34330116, -0.95460446, -0.56590776, -0.17721105,\n",
            "        0.21148565,  0.60018235,  0.98887905,  1.37757575,  1.76627245,\n",
            "        2.15496915]))\n"
          ]
        }
      ]
    },
    {
      "cell_type": "markdown",
      "source": [
        "Correlation"
      ],
      "metadata": {
        "id": "yd9oDeY50asE"
      }
    },
    {
      "cell_type": "code",
      "source": [
        "correlation= np.corrcoef(Data_load, rowvar=False)"
      ],
      "metadata": {
        "id": "0EOCSlFT0b4n"
      },
      "execution_count": null,
      "outputs": []
    },
    {
      "cell_type": "code",
      "source": [
        "print(correlation)"
      ],
      "metadata": {
        "colab": {
          "base_uri": "https://localhost:8080/"
        },
        "id": "xfvpfzSo05W3",
        "outputId": "acbf03d1-1cca-47af-937b-1a8657df3db4"
      },
      "execution_count": null,
      "outputs": [
        {
          "output_type": "stream",
          "name": "stdout",
          "text": [
            "[[ 1.         -0.00838892  0.00651476         nan]\n",
            " [-0.00838892  1.         -0.00543526         nan]\n",
            " [ 0.00651476 -0.00543526  1.                 nan]\n",
            " [        nan         nan         nan         nan]]\n"
          ]
        }
      ]
    },
    {
      "cell_type": "markdown",
      "source": [
        "**Data Transformation**\n",
        "\n",
        "---\n",
        "\n"
      ],
      "metadata": {
        "id": "ari7t-JG1rt_"
      }
    },
    {
      "cell_type": "markdown",
      "source": [
        "Adding New Features"
      ],
      "metadata": {
        "id": "CZXEqSuf1v2w"
      }
    },
    {
      "cell_type": "markdown",
      "source": [
        "Connector Efficiency"
      ],
      "metadata": {
        "id": "B6YwKIgKzS0H"
      }
    },
    {
      "cell_type": "code",
      "source": [
        "total_kwh = Data_load[:, 3]\n",
        "connector = Data_load[:, 2]"
      ],
      "metadata": {
        "id": "CzvA0FU3124k"
      },
      "execution_count": null,
      "outputs": []
    },
    {
      "cell_type": "code",
      "source": [
        "connector_efficiency = total_kwh / connector"
      ],
      "metadata": {
        "id": "nzbjbRvFdJPN"
      },
      "execution_count": null,
      "outputs": []
    },
    {
      "cell_type": "code",
      "source": [
        "new_feature = np.insert(Data_load, 4, connector_efficiency, axis=1)"
      ],
      "metadata": {
        "id": "uB3igJtzkHxf"
      },
      "execution_count": null,
      "outputs": []
    },
    {
      "cell_type": "code",
      "source": [
        "print(new_feature)"
      ],
      "metadata": {
        "colab": {
          "base_uri": "https://localhost:8080/"
        },
        "id": "GZOWqA4b1ezK",
        "outputId": "45a0f25b-52c0-47e6-d17b-0021eb5726ca"
      },
      "execution_count": null,
      "outputs": [
        {
          "output_type": "stream",
          "name": "stdout",
          "text": [
            "[[1.0000e+00 5.1516e+04 2.0000e+00 1.2780e+01 6.3900e+00]\n",
            " [2.0000e+00 5.1249e+04 1.0000e+00 5.7000e+00 5.7000e+00]\n",
            " [3.0000e+00 5.0995e+04 2.0000e+00 2.7680e+01 1.3840e+01]\n",
            " ...\n",
            " [3.2709e+04 5.0994e+04 2.0000e+00 1.0840e+01 5.4200e+00]\n",
            " [3.2710e+04 5.0286e+04 2.0000e+00 8.7800e+00 4.3900e+00]\n",
            " [3.2711e+04 5.0286e+04 2.0000e+00 1.6430e+01 8.2150e+00]]\n"
          ]
        }
      ]
    },
    {
      "cell_type": "markdown",
      "source": [
        "Array Reshaping"
      ],
      "metadata": {
        "id": "_LkPe2iyAMS0"
      }
    },
    {
      "cell_type": "code",
      "source": [
        "new_data = np.reshape(new_feature, (32711,5))"
      ],
      "metadata": {
        "id": "NLnsJjSg1jez"
      },
      "execution_count": null,
      "outputs": []
    },
    {
      "cell_type": "code",
      "source": [
        "print(new_data)"
      ],
      "metadata": {
        "colab": {
          "base_uri": "https://localhost:8080/"
        },
        "id": "vEux0TErE7Wy",
        "outputId": "5426664a-f721-4ca9-e508-182ce4479450"
      },
      "execution_count": null,
      "outputs": [
        {
          "output_type": "stream",
          "name": "stdout",
          "text": [
            "[[1.0000e+00 5.1516e+04 2.0000e+00 1.2780e+01 6.3900e+00]\n",
            " [2.0000e+00 5.1249e+04 1.0000e+00 5.7000e+00 5.7000e+00]\n",
            " [3.0000e+00 5.0995e+04 2.0000e+00 2.7680e+01 1.3840e+01]\n",
            " ...\n",
            " [3.2709e+04 5.0994e+04 2.0000e+00 1.0840e+01 5.4200e+00]\n",
            " [3.2710e+04 5.0286e+04 2.0000e+00 8.7800e+00 4.3900e+00]\n",
            " [3.2711e+04 5.0286e+04 2.0000e+00 1.6430e+01 8.2150e+00]]\n"
          ]
        }
      ]
    },
    {
      "cell_type": "markdown",
      "source": [
        "Filtering"
      ],
      "metadata": {
        "id": "02YvyVuiE9w-"
      }
    },
    {
      "cell_type": "code",
      "source": [
        "filter_data = np.where(Data_load[:,3] )"
      ],
      "metadata": {
        "id": "qPDmIA27FAtK"
      },
      "execution_count": null,
      "outputs": []
    },
    {
      "cell_type": "code",
      "source": [
        "print(filter_data)"
      ],
      "metadata": {
        "colab": {
          "base_uri": "https://localhost:8080/"
        },
        "id": "kjH3MvggFVdv",
        "outputId": "a602fb51-d394-45af-de4a-d2c5567e511c"
      },
      "execution_count": null,
      "outputs": [
        {
          "output_type": "stream",
          "name": "stdout",
          "text": [
            "(array([    0,     1,     2, ..., 32708, 32709, 32710]),)\n"
          ]
        }
      ]
    }
  ]
}
